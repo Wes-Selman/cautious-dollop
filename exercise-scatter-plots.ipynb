{
 "cells": [
  {
   "cell_type": "markdown",
   "id": "8685b3a8",
   "metadata": {
    "papermill": {
     "duration": 0.012096,
     "end_time": "2024-01-30T20:52:51.090618",
     "exception": false,
     "start_time": "2024-01-30T20:52:51.078522",
     "status": "completed"
    },
    "tags": []
   },
   "source": [
    "**This notebook is an exercise in the [Data Visualization](https://www.kaggle.com/learn/data-visualization) course.  You can reference the tutorial at [this link](https://www.kaggle.com/alexisbcook/scatter-plots).**\n",
    "\n",
    "---\n"
   ]
  },
  {
   "cell_type": "markdown",
   "id": "4ed0c40b",
   "metadata": {
    "papermill": {
     "duration": 0.01124,
     "end_time": "2024-01-30T20:52:51.114751",
     "exception": false,
     "start_time": "2024-01-30T20:52:51.103511",
     "status": "completed"
    },
    "tags": []
   },
   "source": [
    "In this exercise, you will use your new knowledge to propose a solution to a real-world scenario.  To succeed, you will need to import data into Python, answer questions using the data, and generate **scatter plots** to understand patterns in the data.\n",
    "\n",
    "## Scenario\n",
    "\n",
    "You work for a major candy producer, and your goal is to write a report that your company can use to guide the design of its next product.  Soon after starting your research, you stumble across this [very interesting dataset](https://fivethirtyeight.com/features/the-ultimate-halloween-candy-power-ranking/) containing results from a fun survey to crowdsource favorite candies.\n",
    "\n",
    "## Setup\n",
    "\n",
    "Run the next cell to import and configure the Python libraries that you need to complete the exercise."
   ]
  },
  {
   "cell_type": "code",
   "execution_count": 1,
   "id": "8e0e5d6c",
   "metadata": {
    "execution": {
     "iopub.execute_input": "2024-01-30T20:52:51.140670Z",
     "iopub.status.busy": "2024-01-30T20:52:51.140197Z",
     "iopub.status.idle": "2024-01-30T20:52:54.045188Z",
     "shell.execute_reply": "2024-01-30T20:52:54.042956Z"
    },
    "papermill": {
     "duration": 2.922094,
     "end_time": "2024-01-30T20:52:54.048488",
     "exception": false,
     "start_time": "2024-01-30T20:52:51.126394",
     "status": "completed"
    },
    "tags": []
   },
   "outputs": [
    {
     "name": "stdout",
     "output_type": "stream",
     "text": [
      "Setup Complete\n"
     ]
    }
   ],
   "source": [
    "import pandas as pd\n",
    "pd.plotting.register_matplotlib_converters()\n",
    "import matplotlib.pyplot as plt\n",
    "%matplotlib inline\n",
    "import seaborn as sns\n",
    "print(\"Setup Complete\")"
   ]
  },
  {
   "cell_type": "markdown",
   "id": "cd9ee1b1",
   "metadata": {
    "papermill": {
     "duration": 0.011582,
     "end_time": "2024-01-30T20:52:54.073120",
     "exception": false,
     "start_time": "2024-01-30T20:52:54.061538",
     "status": "completed"
    },
    "tags": []
   },
   "source": [
    "The questions below will give you feedback on your work. Run the following cell to set up our feedback system."
   ]
  },
  {
   "cell_type": "code",
   "execution_count": 2,
   "id": "8fe15862",
   "metadata": {
    "execution": {
     "iopub.execute_input": "2024-01-30T20:52:54.099853Z",
     "iopub.status.busy": "2024-01-30T20:52:54.098778Z",
     "iopub.status.idle": "2024-01-30T20:52:54.194565Z",
     "shell.execute_reply": "2024-01-30T20:52:54.192672Z"
    },
    "papermill": {
     "duration": 0.114142,
     "end_time": "2024-01-30T20:52:54.199003",
     "exception": false,
     "start_time": "2024-01-30T20:52:54.084861",
     "status": "completed"
    },
    "tags": []
   },
   "outputs": [
    {
     "name": "stdout",
     "output_type": "stream",
     "text": [
      "Setup Complete\n"
     ]
    }
   ],
   "source": [
    "# Set up code checking\n",
    "import os\n",
    "if not os.path.exists(\"../input/candy.csv\"):\n",
    "    os.symlink(\"../input/data-for-datavis/candy.csv\", \"../input/candy.csv\") \n",
    "from learntools.core import binder\n",
    "binder.bind(globals())\n",
    "from learntools.data_viz_to_coder.ex4 import *\n",
    "print(\"Setup Complete\")"
   ]
  },
  {
   "cell_type": "markdown",
   "id": "74a91011",
   "metadata": {
    "papermill": {
     "duration": 0.011706,
     "end_time": "2024-01-30T20:52:54.224122",
     "exception": false,
     "start_time": "2024-01-30T20:52:54.212416",
     "status": "completed"
    },
    "tags": []
   },
   "source": [
    "## Step 1: Load the Data\n",
    "\n",
    "Read the candy data file into `candy_data`.  Use the `\"id\"` column to label the rows."
   ]
  },
  {
   "cell_type": "code",
   "execution_count": 3,
   "id": "22e8fcb8",
   "metadata": {
    "execution": {
     "iopub.execute_input": "2024-01-30T20:52:54.251043Z",
     "iopub.status.busy": "2024-01-30T20:52:54.250582Z",
     "iopub.status.idle": "2024-01-30T20:52:54.274393Z",
     "shell.execute_reply": "2024-01-30T20:52:54.272642Z"
    },
    "papermill": {
     "duration": 0.041072,
     "end_time": "2024-01-30T20:52:54.277736",
     "exception": false,
     "start_time": "2024-01-30T20:52:54.236664",
     "status": "completed"
    },
    "tags": []
   },
   "outputs": [
    {
     "data": {
      "application/javascript": [
       "parent.postMessage({\"jupyterEvent\": \"custom.exercise_interaction\", \"data\": {\"outcomeType\": 1, \"valueTowardsCompletion\": 0.3333333333333333, \"interactionType\": 1, \"questionType\": 1, \"questionId\": \"1_LoadData\", \"learnToolsVersion\": \"0.3.4\", \"failureMessage\": \"\", \"exceptionClass\": \"\", \"trace\": \"\"}}, \"*\")"
      ],
      "text/plain": [
       "<IPython.core.display.Javascript object>"
      ]
     },
     "metadata": {},
     "output_type": "display_data"
    },
    {
     "data": {
      "text/markdown": [
       "<span style=\"color:#33cc33\">Correct</span>"
      ],
      "text/plain": [
       "Correct"
      ]
     },
     "metadata": {},
     "output_type": "display_data"
    }
   ],
   "source": [
    "# Path of the file to read\n",
    "candy_filepath = \"../input/candy.csv\"\n",
    "\n",
    "# Fill in the line below to read the file into a variable candy_data\n",
    "candy_data = pd.read_csv(candy_filepath, index_col = \"id\")\n",
    "\n",
    "# Run the line below with no changes to check that you've loaded the data correctly\n",
    "step_1.check()"
   ]
  },
  {
   "cell_type": "code",
   "execution_count": 4,
   "id": "c60b2c76",
   "metadata": {
    "execution": {
     "iopub.execute_input": "2024-01-30T20:52:54.306626Z",
     "iopub.status.busy": "2024-01-30T20:52:54.306178Z",
     "iopub.status.idle": "2024-01-30T20:52:54.311705Z",
     "shell.execute_reply": "2024-01-30T20:52:54.310080Z"
    },
    "papermill": {
     "duration": 0.023454,
     "end_time": "2024-01-30T20:52:54.314992",
     "exception": false,
     "start_time": "2024-01-30T20:52:54.291538",
     "status": "completed"
    },
    "tags": []
   },
   "outputs": [],
   "source": [
    "# Lines below will give you a hint or solution code\n",
    "#step_1.hint()\n",
    "#step_1.solution()"
   ]
  },
  {
   "cell_type": "markdown",
   "id": "5def3031",
   "metadata": {
    "papermill": {
     "duration": 0.011861,
     "end_time": "2024-01-30T20:52:54.340356",
     "exception": false,
     "start_time": "2024-01-30T20:52:54.328495",
     "status": "completed"
    },
    "tags": []
   },
   "source": [
    "## Step 2: Review the data\n",
    "\n",
    "Use a Python command to print the first five rows of the data."
   ]
  },
  {
   "cell_type": "code",
   "execution_count": 5,
   "id": "1204eb07",
   "metadata": {
    "execution": {
     "iopub.execute_input": "2024-01-30T20:52:54.368713Z",
     "iopub.status.busy": "2024-01-30T20:52:54.368243Z",
     "iopub.status.idle": "2024-01-30T20:52:54.395878Z",
     "shell.execute_reply": "2024-01-30T20:52:54.393811Z"
    },
    "papermill": {
     "duration": 0.045805,
     "end_time": "2024-01-30T20:52:54.399299",
     "exception": false,
     "start_time": "2024-01-30T20:52:54.353494",
     "status": "completed"
    },
    "tags": []
   },
   "outputs": [
    {
     "data": {
      "text/html": [
       "<div>\n",
       "<style scoped>\n",
       "    .dataframe tbody tr th:only-of-type {\n",
       "        vertical-align: middle;\n",
       "    }\n",
       "\n",
       "    .dataframe tbody tr th {\n",
       "        vertical-align: top;\n",
       "    }\n",
       "\n",
       "    .dataframe thead th {\n",
       "        text-align: right;\n",
       "    }\n",
       "</style>\n",
       "<table border=\"1\" class=\"dataframe\">\n",
       "  <thead>\n",
       "    <tr style=\"text-align: right;\">\n",
       "      <th></th>\n",
       "      <th>competitorname</th>\n",
       "      <th>chocolate</th>\n",
       "      <th>fruity</th>\n",
       "      <th>caramel</th>\n",
       "      <th>peanutyalmondy</th>\n",
       "      <th>nougat</th>\n",
       "      <th>crispedricewafer</th>\n",
       "      <th>hard</th>\n",
       "      <th>bar</th>\n",
       "      <th>pluribus</th>\n",
       "      <th>sugarpercent</th>\n",
       "      <th>pricepercent</th>\n",
       "      <th>winpercent</th>\n",
       "    </tr>\n",
       "    <tr>\n",
       "      <th>id</th>\n",
       "      <th></th>\n",
       "      <th></th>\n",
       "      <th></th>\n",
       "      <th></th>\n",
       "      <th></th>\n",
       "      <th></th>\n",
       "      <th></th>\n",
       "      <th></th>\n",
       "      <th></th>\n",
       "      <th></th>\n",
       "      <th></th>\n",
       "      <th></th>\n",
       "      <th></th>\n",
       "    </tr>\n",
       "  </thead>\n",
       "  <tbody>\n",
       "    <tr>\n",
       "      <th>0</th>\n",
       "      <td>100 Grand</td>\n",
       "      <td>Yes</td>\n",
       "      <td>No</td>\n",
       "      <td>Yes</td>\n",
       "      <td>No</td>\n",
       "      <td>No</td>\n",
       "      <td>Yes</td>\n",
       "      <td>No</td>\n",
       "      <td>Yes</td>\n",
       "      <td>No</td>\n",
       "      <td>0.732</td>\n",
       "      <td>0.860</td>\n",
       "      <td>66.971725</td>\n",
       "    </tr>\n",
       "    <tr>\n",
       "      <th>1</th>\n",
       "      <td>3 Musketeers</td>\n",
       "      <td>Yes</td>\n",
       "      <td>No</td>\n",
       "      <td>No</td>\n",
       "      <td>No</td>\n",
       "      <td>Yes</td>\n",
       "      <td>No</td>\n",
       "      <td>No</td>\n",
       "      <td>Yes</td>\n",
       "      <td>No</td>\n",
       "      <td>0.604</td>\n",
       "      <td>0.511</td>\n",
       "      <td>67.602936</td>\n",
       "    </tr>\n",
       "    <tr>\n",
       "      <th>2</th>\n",
       "      <td>Air Heads</td>\n",
       "      <td>No</td>\n",
       "      <td>Yes</td>\n",
       "      <td>No</td>\n",
       "      <td>No</td>\n",
       "      <td>No</td>\n",
       "      <td>No</td>\n",
       "      <td>No</td>\n",
       "      <td>No</td>\n",
       "      <td>No</td>\n",
       "      <td>0.906</td>\n",
       "      <td>0.511</td>\n",
       "      <td>52.341465</td>\n",
       "    </tr>\n",
       "    <tr>\n",
       "      <th>3</th>\n",
       "      <td>Almond Joy</td>\n",
       "      <td>Yes</td>\n",
       "      <td>No</td>\n",
       "      <td>No</td>\n",
       "      <td>Yes</td>\n",
       "      <td>No</td>\n",
       "      <td>No</td>\n",
       "      <td>No</td>\n",
       "      <td>Yes</td>\n",
       "      <td>No</td>\n",
       "      <td>0.465</td>\n",
       "      <td>0.767</td>\n",
       "      <td>50.347546</td>\n",
       "    </tr>\n",
       "    <tr>\n",
       "      <th>4</th>\n",
       "      <td>Baby Ruth</td>\n",
       "      <td>Yes</td>\n",
       "      <td>No</td>\n",
       "      <td>Yes</td>\n",
       "      <td>Yes</td>\n",
       "      <td>Yes</td>\n",
       "      <td>No</td>\n",
       "      <td>No</td>\n",
       "      <td>Yes</td>\n",
       "      <td>No</td>\n",
       "      <td>0.604</td>\n",
       "      <td>0.767</td>\n",
       "      <td>56.914547</td>\n",
       "    </tr>\n",
       "  </tbody>\n",
       "</table>\n",
       "</div>"
      ],
      "text/plain": [
       "   competitorname chocolate fruity caramel peanutyalmondy nougat  \\\n",
       "id                                                                 \n",
       "0       100 Grand       Yes     No     Yes             No     No   \n",
       "1    3 Musketeers       Yes     No      No             No    Yes   \n",
       "2       Air Heads        No    Yes      No             No     No   \n",
       "3      Almond Joy       Yes     No      No            Yes     No   \n",
       "4       Baby Ruth       Yes     No     Yes            Yes    Yes   \n",
       "\n",
       "   crispedricewafer hard  bar pluribus  sugarpercent  pricepercent  winpercent  \n",
       "id                                                                              \n",
       "0               Yes   No  Yes       No         0.732         0.860   66.971725  \n",
       "1                No   No  Yes       No         0.604         0.511   67.602936  \n",
       "2                No   No   No       No         0.906         0.511   52.341465  \n",
       "3                No   No  Yes       No         0.465         0.767   50.347546  \n",
       "4                No   No  Yes       No         0.604         0.767   56.914547  "
      ]
     },
     "execution_count": 5,
     "metadata": {},
     "output_type": "execute_result"
    }
   ],
   "source": [
    "# Print the first five rows of the data\n",
    "____ # Your code here\n",
    "\n",
    "candy_data.head()"
   ]
  },
  {
   "cell_type": "markdown",
   "id": "2b4365ed",
   "metadata": {
    "papermill": {
     "duration": 0.014394,
     "end_time": "2024-01-30T20:52:54.428046",
     "exception": false,
     "start_time": "2024-01-30T20:52:54.413652",
     "status": "completed"
    },
    "tags": []
   },
   "source": [
    "The dataset contains 83 rows, where each corresponds to a different candy bar.  There are 13 columns:\n",
    "- `'competitorname'` contains the name of the candy bar. \n",
    "- the next **9** columns (from `'chocolate'` to `'pluribus'`) describe the candy.  For instance, rows with chocolate candies have `\"Yes\"` in the `'chocolate'` column (and candies without chocolate have `\"No\"` in the same column).\n",
    "- `'sugarpercent'` provides some indication of the amount of sugar, where higher values signify higher sugar content.\n",
    "- `'pricepercent'` shows the price per unit, relative to the other candies in the dataset.\n",
    "- `'winpercent'` is calculated from the survey results; higher values indicate that the candy was more popular with survey respondents.\n",
    "\n",
    "Use the first five rows of the data to answer the questions below."
   ]
  },
  {
   "cell_type": "code",
   "execution_count": 6,
   "id": "135475a2",
   "metadata": {
    "execution": {
     "iopub.execute_input": "2024-01-30T20:52:54.458549Z",
     "iopub.status.busy": "2024-01-30T20:52:54.458038Z",
     "iopub.status.idle": "2024-01-30T20:52:54.471454Z",
     "shell.execute_reply": "2024-01-30T20:52:54.469933Z"
    },
    "papermill": {
     "duration": 0.032864,
     "end_time": "2024-01-30T20:52:54.474522",
     "exception": false,
     "start_time": "2024-01-30T20:52:54.441658",
     "status": "completed"
    },
    "tags": []
   },
   "outputs": [
    {
     "data": {
      "application/javascript": [
       "parent.postMessage({\"jupyterEvent\": \"custom.exercise_interaction\", \"data\": {\"outcomeType\": 1, \"valueTowardsCompletion\": 0.3333333333333333, \"interactionType\": 1, \"questionType\": 1, \"questionId\": \"2_ReviewData\", \"learnToolsVersion\": \"0.3.4\", \"failureMessage\": \"\", \"exceptionClass\": \"\", \"trace\": \"\"}}, \"*\")"
      ],
      "text/plain": [
       "<IPython.core.display.Javascript object>"
      ]
     },
     "metadata": {},
     "output_type": "display_data"
    },
    {
     "data": {
      "text/markdown": [
       "<span style=\"color:#33cc33\">Correct</span>"
      ],
      "text/plain": [
       "Correct"
      ]
     },
     "metadata": {},
     "output_type": "display_data"
    }
   ],
   "source": [
    "# Fill in the line below: Which candy was more popular with survey respondents:\n",
    "# '3 Musketeers' or 'Almond Joy'?  (Please enclose your answer in single quotes.)\n",
    "more_popular = '3 Musketeers'\n",
    "\n",
    "# Fill in the line below: Which candy has higher sugar content: 'Air Heads'\n",
    "# or 'Baby Ruth'? (Please enclose your answer in single quotes.)\n",
    "more_sugar = 'Air Heads'\n",
    "\n",
    "# Check your answers\n",
    "step_2.check()"
   ]
  },
  {
   "cell_type": "code",
   "execution_count": 7,
   "id": "48916dda",
   "metadata": {
    "execution": {
     "iopub.execute_input": "2024-01-30T20:52:54.502891Z",
     "iopub.status.busy": "2024-01-30T20:52:54.502347Z",
     "iopub.status.idle": "2024-01-30T20:52:54.509260Z",
     "shell.execute_reply": "2024-01-30T20:52:54.507666Z"
    },
    "papermill": {
     "duration": 0.025183,
     "end_time": "2024-01-30T20:52:54.512833",
     "exception": false,
     "start_time": "2024-01-30T20:52:54.487650",
     "status": "completed"
    },
    "tags": []
   },
   "outputs": [],
   "source": [
    "# Lines below will give you a hint or solution code\n",
    "#step_2.hint()\n",
    "#step_2.solution()"
   ]
  },
  {
   "cell_type": "markdown",
   "id": "58b3deec",
   "metadata": {
    "papermill": {
     "duration": 0.014323,
     "end_time": "2024-01-30T20:52:54.540317",
     "exception": false,
     "start_time": "2024-01-30T20:52:54.525994",
     "status": "completed"
    },
    "tags": []
   },
   "source": [
    "## Step 3: The role of sugar\n",
    "\n",
    "Do people tend to prefer candies with higher sugar content?  \n",
    "\n",
    "#### Part A\n",
    "\n",
    "Create a scatter plot that shows the relationship between `'sugarpercent'` (on the horizontal x-axis) and `'winpercent'` (on the vertical y-axis).  _Don't add a regression line just yet -- you'll do that in the next step!_"
   ]
  },
  {
   "cell_type": "code",
   "execution_count": 8,
   "id": "66fd00d1",
   "metadata": {
    "execution": {
     "iopub.execute_input": "2024-01-30T20:52:54.572498Z",
     "iopub.status.busy": "2024-01-30T20:52:54.571967Z",
     "iopub.status.idle": "2024-01-30T20:52:55.084856Z",
     "shell.execute_reply": "2024-01-30T20:52:55.083212Z"
    },
    "papermill": {
     "duration": 0.53257,
     "end_time": "2024-01-30T20:52:55.088416",
     "exception": false,
     "start_time": "2024-01-30T20:52:54.555846",
     "status": "completed"
    },
    "tags": []
   },
   "outputs": [
    {
     "data": {
      "application/javascript": [
       "parent.postMessage({\"jupyterEvent\": \"custom.exercise_interaction\", \"data\": {\"outcomeType\": 1, \"valueTowardsCompletion\": 0.3333333333333333, \"interactionType\": 1, \"questionType\": 2, \"questionId\": \"3.1_PlotBlueScatter\", \"learnToolsVersion\": \"0.3.4\", \"failureMessage\": \"\", \"exceptionClass\": \"\", \"trace\": \"\"}}, \"*\")"
      ],
      "text/plain": [
       "<IPython.core.display.Javascript object>"
      ]
     },
     "metadata": {},
     "output_type": "display_data"
    },
    {
     "data": {
      "text/markdown": [
       "<span style=\"color:#33cc33\">Correct</span>"
      ],
      "text/plain": [
       "Correct"
      ]
     },
     "metadata": {},
     "output_type": "display_data"
    },
    {
     "data": {
      "image/png": "[encoded data removed]",
      "text/plain": [
       "<Figure size 1200x600 with 1 Axes>"
      ]
     },
     "metadata": {},
     "output_type": "display_data"
    }
   ],
   "source": [
    "# Scatter plot showing the relationship between 'sugarpercent' and 'winpercent'\n",
    "____ # Your code here\n",
    "plt.figure(figsize = (12,6))\n",
    "plt.title(\"Sugar and Win Relationship\")\n",
    "\n",
    "sns.scatterplot(x = candy_data[\"sugarpercent\"], y = candy_data[\"winpercent\"])\n",
    "# Check your answer\n",
    "step_3.a.check()"
   ]
  },
  {
   "cell_type": "code",
   "execution_count": 9,
   "id": "0a328aaf",
   "metadata": {
    "execution": {
     "iopub.execute_input": "2024-01-30T20:52:55.119197Z",
     "iopub.status.busy": "2024-01-30T20:52:55.118673Z",
     "iopub.status.idle": "2024-01-30T20:52:55.125341Z",
     "shell.execute_reply": "2024-01-30T20:52:55.123574Z"
    },
    "papermill": {
     "duration": 0.025551,
     "end_time": "2024-01-30T20:52:55.128533",
     "exception": false,
     "start_time": "2024-01-30T20:52:55.102982",
     "status": "completed"
    },
    "tags": []
   },
   "outputs": [],
   "source": [
    "# Lines below will give you a hint or solution code\n",
    "#step_3.a.hint()\n",
    "#step_3.a.solution_plot()"
   ]
  },
  {
   "cell_type": "markdown",
   "id": "56ba12c6",
   "metadata": {
    "papermill": {
     "duration": 0.013863,
     "end_time": "2024-01-30T20:52:55.157352",
     "exception": false,
     "start_time": "2024-01-30T20:52:55.143489",
     "status": "completed"
    },
    "tags": []
   },
   "source": [
    "#### Part B\n",
    "\n",
    "Does the scatter plot show a **strong** correlation between the two variables?  If so, are candies with more sugar relatively more or less popular with the survey respondents?"
   ]
  },
  {
   "cell_type": "code",
   "execution_count": 10,
   "id": "de4964a7",
   "metadata": {
    "execution": {
     "iopub.execute_input": "2024-01-30T20:52:55.190114Z",
     "iopub.status.busy": "2024-01-30T20:52:55.189611Z",
     "iopub.status.idle": "2024-01-30T20:52:55.195812Z",
     "shell.execute_reply": "2024-01-30T20:52:55.194304Z"
    },
    "papermill": {
     "duration": 0.026655,
     "end_time": "2024-01-30T20:52:55.199411",
     "exception": false,
     "start_time": "2024-01-30T20:52:55.172756",
     "status": "completed"
    },
    "tags": []
   },
   "outputs": [],
   "source": [
    "#step_3.b.hint()"
   ]
  },
  {
   "cell_type": "code",
   "execution_count": 11,
   "id": "a239c9af",
   "metadata": {
    "execution": {
     "iopub.execute_input": "2024-01-30T20:52:55.235062Z",
     "iopub.status.busy": "2024-01-30T20:52:55.234419Z",
     "iopub.status.idle": "2024-01-30T20:52:55.253333Z",
     "shell.execute_reply": "2024-01-30T20:52:55.250348Z"
    },
    "papermill": {
     "duration": 0.042712,
     "end_time": "2024-01-30T20:52:55.259283",
     "exception": false,
     "start_time": "2024-01-30T20:52:55.216571",
     "status": "completed"
    },
    "tags": []
   },
   "outputs": [
    {
     "data": {
      "application/javascript": [
       "parent.postMessage({\"jupyterEvent\": \"custom.exercise_interaction\", \"data\": {\"interactionType\": 3, \"questionType\": 4, \"questionId\": \"3.2_ThinkBlueScatter\", \"learnToolsVersion\": \"0.3.4\", \"valueTowardsCompletion\": 0.0, \"failureMessage\": \"\", \"exceptionClass\": \"\", \"trace\": \"\", \"outcomeType\": 4}}, \"*\")"
      ],
      "text/plain": [
       "<IPython.core.display.Javascript object>"
      ]
     },
     "metadata": {},
     "output_type": "display_data"
    },
    {
     "data": {
      "text/markdown": [
       "<span style=\"color:#33cc99\">Solution:</span> The scatter plot does not show a strong correlation between the two variables. Since there is no clear relationship between the two variables, this tells us that sugar content does not play a strong role in candy popularity."
      ],
      "text/plain": [
       "Solution: The scatter plot does not show a strong correlation between the two variables. Since there is no clear relationship between the two variables, this tells us that sugar content does not play a strong role in candy popularity."
      ]
     },
     "metadata": {},
     "output_type": "display_data"
    }
   ],
   "source": [
    "# Check your answer (Run this code cell to receive credit!)\n",
    "step_3.b.solution()"
   ]
  },
  {
   "cell_type": "markdown",
   "id": "2f6371ef",
   "metadata": {
    "papermill": {
     "duration": 0.019102,
     "end_time": "2024-01-30T20:52:55.296842",
     "exception": false,
     "start_time": "2024-01-30T20:52:55.277740",
     "status": "completed"
    },
    "tags": []
   },
   "source": [
    "## Step 4: Take a closer look\n",
    "\n",
    "#### Part A\n",
    "\n",
    "Create the same scatter plot you created in **Step 3**, but now with a regression line!"
   ]
  },
  {
   "cell_type": "code",
   "execution_count": 12,
   "id": "56f4da8d",
   "metadata": {
    "execution": {
     "iopub.execute_input": "2024-01-30T20:52:55.330317Z",
     "iopub.status.busy": "2024-01-30T20:52:55.329804Z",
     "iopub.status.idle": "2024-01-30T20:52:55.857281Z",
     "shell.execute_reply": "2024-01-30T20:52:55.855540Z"
    },
    "papermill": {
     "duration": 0.54765,
     "end_time": "2024-01-30T20:52:55.860583",
     "exception": false,
     "start_time": "2024-01-30T20:52:55.312933",
     "status": "completed"
    },
    "tags": []
   },
   "outputs": [
    {
     "data": {
      "application/javascript": [
       "parent.postMessage({\"jupyterEvent\": \"custom.exercise_interaction\", \"data\": {\"outcomeType\": 1, \"valueTowardsCompletion\": 0.3333333333333333, \"interactionType\": 1, \"questionType\": 2, \"questionId\": \"4.1_PlotBlueReg\", \"learnToolsVersion\": \"0.3.4\", \"failureMessage\": \"\", \"exceptionClass\": \"\", \"trace\": \"\"}}, \"*\")"
      ],
      "text/plain": [
       "<IPython.core.display.Javascript object>"
      ]
     },
     "metadata": {},
     "output_type": "display_data"
    },
    {
     "data": {
      "text/markdown": [
       "<span style=\"color:#33cc33\">Correct</span>"
      ],
      "text/plain": [
       "Correct"
      ]
     },
     "metadata": {},
     "output_type": "display_data"
    },
    {
     "data": {
      "image/png": "[encoded data removed]",
      "text/plain": [
       "<Figure size 1200x600 with 1 Axes>"
      ]
     },
     "metadata": {},
     "output_type": "display_data"
    }
   ],
   "source": [
    "# Scatter plot w/ regression line showing the relationship between 'sugarpercent' and 'winpercent'\n",
    "____ # Your code here\n",
    "plt.figure(figsize = (12,6))\n",
    "plt.title(\"Sugar and Win Relationship\")\n",
    "sns.regplot(x = candy_data[\"sugarpercent\"], y = candy_data[\"winpercent\"])\n",
    "\n",
    "# Check your answer\n",
    "step_4.a.check()"
   ]
  },
  {
   "cell_type": "code",
   "execution_count": 13,
   "id": "e2b77e3f",
   "metadata": {
    "execution": {
     "iopub.execute_input": "2024-01-30T20:52:55.896944Z",
     "iopub.status.busy": "2024-01-30T20:52:55.896426Z",
     "iopub.status.idle": "2024-01-30T20:52:55.901445Z",
     "shell.execute_reply": "2024-01-30T20:52:55.900461Z"
    },
    "papermill": {
     "duration": 0.026907,
     "end_time": "2024-01-30T20:52:55.904186",
     "exception": false,
     "start_time": "2024-01-30T20:52:55.877279",
     "status": "completed"
    },
    "tags": []
   },
   "outputs": [],
   "source": [
    "# Lines below will give you a hint or solution code\n",
    "#step_4.a.hint()\n",
    "#step_4.a.solution_plot()"
   ]
  },
  {
   "cell_type": "markdown",
   "id": "77888879",
   "metadata": {
    "papermill": {
     "duration": 0.015875,
     "end_time": "2024-01-30T20:52:55.937589",
     "exception": false,
     "start_time": "2024-01-30T20:52:55.921714",
     "status": "completed"
    },
    "tags": []
   },
   "source": [
    "#### Part B\n",
    "\n",
    "According to the plot above, is there a **slight** correlation between `'winpercent'` and `'sugarpercent'`?  What does this tell you about the candy that people tend to prefer?"
   ]
  },
  {
   "cell_type": "code",
   "execution_count": 14,
   "id": "95902c61",
   "metadata": {
    "execution": {
     "iopub.execute_input": "2024-01-30T20:52:55.973086Z",
     "iopub.status.busy": "2024-01-30T20:52:55.972544Z",
     "iopub.status.idle": "2024-01-30T20:52:55.978414Z",
     "shell.execute_reply": "2024-01-30T20:52:55.976815Z"
    },
    "papermill": {
     "duration": 0.028854,
     "end_time": "2024-01-30T20:52:55.983360",
     "exception": false,
     "start_time": "2024-01-30T20:52:55.954506",
     "status": "completed"
    },
    "tags": []
   },
   "outputs": [],
   "source": [
    "#step_4.b.hint()"
   ]
  },
  {
   "cell_type": "code",
   "execution_count": 15,
   "id": "8cb8ff37",
   "metadata": {
    "execution": {
     "iopub.execute_input": "2024-01-30T20:52:56.022915Z",
     "iopub.status.busy": "2024-01-30T20:52:56.022396Z",
     "iopub.status.idle": "2024-01-30T20:52:56.034553Z",
     "shell.execute_reply": "2024-01-30T20:52:56.033000Z"
    },
    "papermill": {
     "duration": 0.036886,
     "end_time": "2024-01-30T20:52:56.037895",
     "exception": false,
     "start_time": "2024-01-30T20:52:56.001009",
     "status": "completed"
    },
    "tags": []
   },
   "outputs": [
    {
     "data": {
      "application/javascript": [
       "parent.postMessage({\"jupyterEvent\": \"custom.exercise_interaction\", \"data\": {\"interactionType\": 3, \"questionType\": 4, \"questionId\": \"4.2_ThinkBlueReg\", \"learnToolsVersion\": \"0.3.4\", \"valueTowardsCompletion\": 0.0, \"failureMessage\": \"\", \"exceptionClass\": \"\", \"trace\": \"\", \"outcomeType\": 4}}, \"*\")"
      ],
      "text/plain": [
       "<IPython.core.display.Javascript object>"
      ]
     },
     "metadata": {},
     "output_type": "display_data"
    },
    {
     "data": {
      "text/markdown": [
       "<span style=\"color:#33cc99\">Solution:</span> Since the regression line has a slightly positive slope, this tells us that there is a slightly positive correlation between `'winpercent'` and `'sugarpercent'`. Thus, people have a slight preference for candies containing relatively more sugar."
      ],
      "text/plain": [
       "Solution: Since the regression line has a slightly positive slope, this tells us that there is a slightly positive correlation between `'winpercent'` and `'sugarpercent'`. Thus, people have a slight preference for candies containing relatively more sugar."
      ]
     },
     "metadata": {},
     "output_type": "display_data"
    }
   ],
   "source": [
    "# Check your answer (Run this code cell to receive credit!)\n",
    "step_4.b.solution()"
   ]
  },
  {
   "cell_type": "markdown",
   "id": "abe4af4f",
   "metadata": {
    "papermill": {
     "duration": 0.016538,
     "end_time": "2024-01-30T20:52:56.070812",
     "exception": false,
     "start_time": "2024-01-30T20:52:56.054274",
     "status": "completed"
    },
    "tags": []
   },
   "source": [
    "## Step 5: Chocolate!\n",
    "\n",
    "In the code cell below, create a scatter plot to show the relationship between `'pricepercent'` (on the horizontal x-axis) and `'winpercent'` (on the vertical y-axis). Use the `'chocolate'` column to color-code the points.  _Don't add any regression lines just yet -- you'll do that in the next step!_"
   ]
  },
  {
   "cell_type": "code",
   "execution_count": 16,
   "id": "f6a70fc9",
   "metadata": {
    "execution": {
     "iopub.execute_input": "2024-01-30T20:52:56.109949Z",
     "iopub.status.busy": "2024-01-30T20:52:56.109439Z",
     "iopub.status.idle": "2024-01-30T20:52:56.599740Z",
     "shell.execute_reply": "2024-01-30T20:52:56.597785Z"
    },
    "papermill": {
     "duration": 0.512559,
     "end_time": "2024-01-30T20:52:56.602706",
     "exception": false,
     "start_time": "2024-01-30T20:52:56.090147",
     "status": "completed"
    },
    "tags": []
   },
   "outputs": [
    {
     "data": {
      "application/javascript": [
       "parent.postMessage({\"jupyterEvent\": \"custom.exercise_interaction\", \"data\": {\"outcomeType\": 1, \"valueTowardsCompletion\": 0.3333333333333333, \"interactionType\": 1, \"questionType\": 2, \"questionId\": \"5_ColorScatter\", \"learnToolsVersion\": \"0.3.4\", \"failureMessage\": \"\", \"exceptionClass\": \"\", \"trace\": \"\"}}, \"*\")"
      ],
      "text/plain": [
       "<IPython.core.display.Javascript object>"
      ]
     },
     "metadata": {},
     "output_type": "display_data"
    },
    {
     "data": {
      "text/markdown": [
       "<span style=\"color:#33cc33\">Correct</span>"
      ],
      "text/plain": [
       "Correct"
      ]
     },
     "metadata": {},
     "output_type": "display_data"
    },
    {
     "data": {
      "image/png": "[encoded data removed]",
      "text/plain": [
       "<Figure size 1200x600 with 1 Axes>"
      ]
     },
     "metadata": {},
     "output_type": "display_data"
    }
   ],
   "source": [
    "# Scatter plot showing the relationship between 'pricepercent', 'winpercent', and 'chocolate'\n",
    "____ # Your code here\n",
    "plt.figure(figsize = (12,6))\n",
    "plt.title(\"Sugar and Win Relationship\")\n",
    "\n",
    "sns.scatterplot(x = candy_data[\"sugarpercent\"], y = candy_data[\"winpercent\"],hue = candy_data[\"chocolate\"])\n",
    "\n",
    "\n",
    "# Check your answer\n",
    "step_5.check()"
   ]
  },
  {
   "cell_type": "code",
   "execution_count": 17,
   "id": "38ac2c48",
   "metadata": {
    "execution": {
     "iopub.execute_input": "2024-01-30T20:52:56.640570Z",
     "iopub.status.busy": "2024-01-30T20:52:56.639257Z",
     "iopub.status.idle": "2024-01-30T20:52:56.645461Z",
     "shell.execute_reply": "2024-01-30T20:52:56.643834Z"
    },
    "papermill": {
     "duration": 0.029393,
     "end_time": "2024-01-30T20:52:56.649550",
     "exception": false,
     "start_time": "2024-01-30T20:52:56.620157",
     "status": "completed"
    },
    "tags": []
   },
   "outputs": [],
   "source": [
    "# Lines below will give you a hint or solution code\n",
    "#step_5.hint()\n",
    "#step_5.solution_plot()"
   ]
  },
  {
   "cell_type": "markdown",
   "id": "595f8dff",
   "metadata": {
    "papermill": {
     "duration": 0.017284,
     "end_time": "2024-01-30T20:52:56.684688",
     "exception": false,
     "start_time": "2024-01-30T20:52:56.667404",
     "status": "completed"
    },
    "tags": []
   },
   "source": [
    "Can you see any interesting patterns in the scatter plot?  We'll investigate this plot further  by adding regression lines in the next step!\n",
    "\n",
    "## Step 6: Investigate chocolate\n",
    "\n",
    "#### Part A\n",
    "\n",
    "Create the same scatter plot you created in **Step 5**, but now with two regression lines, corresponding to (1) chocolate candies and (2) candies without chocolate."
   ]
  },
  {
   "cell_type": "code",
   "execution_count": 18,
   "id": "762577a2",
   "metadata": {
    "execution": {
     "iopub.execute_input": "2024-01-30T20:52:56.723151Z",
     "iopub.status.busy": "2024-01-30T20:52:56.722014Z",
     "iopub.status.idle": "2024-01-30T20:52:57.509895Z",
     "shell.execute_reply": "2024-01-30T20:52:57.507954Z"
    },
    "papermill": {
     "duration": 0.810263,
     "end_time": "2024-01-30T20:52:57.512929",
     "exception": false,
     "start_time": "2024-01-30T20:52:56.702666",
     "status": "completed"
    },
    "tags": []
   },
   "outputs": [
    {
     "data": {
      "application/javascript": [
       "parent.postMessage({\"jupyterEvent\": \"custom.exercise_interaction\", \"data\": {\"outcomeType\": 1, \"valueTowardsCompletion\": 0.3333333333333333, \"interactionType\": 1, \"questionType\": 2, \"questionId\": \"6.1_PlotColorReg\", \"learnToolsVersion\": \"0.3.4\", \"failureMessage\": \"\", \"exceptionClass\": \"\", \"trace\": \"\"}}, \"*\")"
      ],
      "text/plain": [
       "<IPython.core.display.Javascript object>"
      ]
     },
     "metadata": {},
     "output_type": "display_data"
    },
    {
     "data": {
      "text/markdown": [
       "<span style=\"color:#33cc33\">Correct</span>"
      ],
      "text/plain": [
       "Correct"
      ]
     },
     "metadata": {},
     "output_type": "display_data"
    },
    {
     "data": {
      "image/png": "[encoded data removed]",
      "text/plain": [
       "<Figure size 578.611x500 with 1 Axes>"
      ]
     },
     "metadata": {},
     "output_type": "display_data"
    }
   ],
   "source": [
    "# Color-coded scatter plot w/ regression lines\n",
    "____ # Your code here\n",
    "\n",
    "sns.lmplot(x = \"sugarpercent\", y = \"winpercent\", hue = \"chocolate\", data = candy_data)\n",
    "\n",
    "# Check your answer\n",
    "step_6.a.check()"
   ]
  },
  {
   "cell_type": "code",
   "execution_count": 19,
   "id": "8c503c76",
   "metadata": {
    "execution": {
     "iopub.execute_input": "2024-01-30T20:52:57.553750Z",
     "iopub.status.busy": "2024-01-30T20:52:57.553283Z",
     "iopub.status.idle": "2024-01-30T20:52:57.559703Z",
     "shell.execute_reply": "2024-01-30T20:52:57.558098Z"
    },
    "papermill": {
     "duration": 0.030562,
     "end_time": "2024-01-30T20:52:57.563017",
     "exception": false,
     "start_time": "2024-01-30T20:52:57.532455",
     "status": "completed"
    },
    "tags": []
   },
   "outputs": [],
   "source": [
    "# Lines below will give you a hint or solution code\n",
    "#step_6.a.hint()\n",
    "#step_6.a.solution_plot()"
   ]
  },
  {
   "cell_type": "markdown",
   "id": "c72465dc",
   "metadata": {
    "papermill": {
     "duration": 0.018649,
     "end_time": "2024-01-30T20:52:57.600142",
     "exception": false,
     "start_time": "2024-01-30T20:52:57.581493",
     "status": "completed"
    },
    "tags": []
   },
   "source": [
    "#### Part B\n",
    "\n",
    "Using the regression lines, what conclusions can you draw about the effects of chocolate and price on candy popularity?"
   ]
  },
  {
   "cell_type": "code",
   "execution_count": 20,
   "id": "92eca520",
   "metadata": {
    "execution": {
     "iopub.execute_input": "2024-01-30T20:52:57.641516Z",
     "iopub.status.busy": "2024-01-30T20:52:57.641052Z",
     "iopub.status.idle": "2024-01-30T20:52:57.647490Z",
     "shell.execute_reply": "2024-01-30T20:52:57.645392Z"
    },
    "papermill": {
     "duration": 0.030951,
     "end_time": "2024-01-30T20:52:57.650743",
     "exception": false,
     "start_time": "2024-01-30T20:52:57.619792",
     "status": "completed"
    },
    "tags": []
   },
   "outputs": [],
   "source": [
    "#step_6.b.hint()"
   ]
  },
  {
   "cell_type": "code",
   "execution_count": 21,
   "id": "29d407bc",
   "metadata": {
    "execution": {
     "iopub.execute_input": "2024-01-30T20:52:57.692737Z",
     "iopub.status.busy": "2024-01-30T20:52:57.692272Z",
     "iopub.status.idle": "2024-01-30T20:52:57.707372Z",
     "shell.execute_reply": "2024-01-30T20:52:57.705741Z"
    },
    "papermill": {
     "duration": 0.039079,
     "end_time": "2024-01-30T20:52:57.710386",
     "exception": false,
     "start_time": "2024-01-30T20:52:57.671307",
     "status": "completed"
    },
    "tags": []
   },
   "outputs": [
    {
     "data": {
      "application/javascript": [
       "parent.postMessage({\"jupyterEvent\": \"custom.exercise_interaction\", \"data\": {\"interactionType\": 3, \"questionType\": 4, \"questionId\": \"6.2_ThinkColorReg\", \"learnToolsVersion\": \"0.3.4\", \"valueTowardsCompletion\": 0.0, \"failureMessage\": \"\", \"exceptionClass\": \"\", \"trace\": \"\", \"outcomeType\": 4}}, \"*\")"
      ],
      "text/plain": [
       "<IPython.core.display.Javascript object>"
      ]
     },
     "metadata": {},
     "output_type": "display_data"
    },
    {
     "data": {
      "text/markdown": [
       "<span style=\"color:#33cc99\">Solution:</span> We'll begin with the regression line for chocolate candies. Since this line has a slightly positive slope, we can say that more expensive chocolate candies tend to be more popular (than relatively cheaper chocolate candies).  Likewise, since the regression line for candies without chocolate has a negative slope, we can say that if candies don't contain chocolate, they tend to be more popular when they are cheaper.  One important note, however, is that the dataset is quite small -- so we shouldn't invest too much trust in these patterns!  To inspire more confidence in the results, we should add more candies to the dataset."
      ],
      "text/plain": [
       "Solution: We'll begin with the regression line for chocolate candies. Since this line has a slightly positive slope, we can say that more expensive chocolate candies tend to be more popular (than relatively cheaper chocolate candies).  Likewise, since the regression line for candies without chocolate has a negative slope, we can say that if candies don't contain chocolate, they tend to be more popular when they are cheaper.  One important note, however, is that the dataset is quite small -- so we shouldn't invest too much trust in these patterns!  To inspire more confidence in the results, we should add more candies to the dataset."
      ]
     },
     "metadata": {},
     "output_type": "display_data"
    }
   ],
   "source": [
    "# Check your answer (Run this code cell to receive credit!)\n",
    "step_6.b.solution()"
   ]
  },
  {
   "cell_type": "markdown",
   "id": "584bfadc",
   "metadata": {
    "papermill": {
     "duration": 0.021253,
     "end_time": "2024-01-30T20:52:57.755354",
     "exception": false,
     "start_time": "2024-01-30T20:52:57.734101",
     "status": "completed"
    },
    "tags": []
   },
   "source": [
    "## Step 7: Everybody loves chocolate.\n",
    "\n",
    "#### Part A\n",
    "\n",
    "Create a categorical scatter plot to highlight the relationship between `'chocolate'` and `'winpercent'`.  Put `'chocolate'` on the (horizontal) x-axis, and `'winpercent'` on the (vertical) y-axis."
   ]
  },
  {
   "cell_type": "code",
   "execution_count": 22,
   "id": "703b07f6",
   "metadata": {
    "execution": {
     "iopub.execute_input": "2024-01-30T20:52:57.896217Z",
     "iopub.status.busy": "2024-01-30T20:52:57.895729Z",
     "iopub.status.idle": "2024-01-30T20:52:58.301384Z",
     "shell.execute_reply": "2024-01-30T20:52:58.299434Z"
    },
    "papermill": {
     "duration": 0.527718,
     "end_time": "2024-01-30T20:52:58.304783",
     "exception": false,
     "start_time": "2024-01-30T20:52:57.777065",
     "status": "completed"
    },
    "tags": []
   },
   "outputs": [
    {
     "data": {
      "application/javascript": [
       "parent.postMessage({\"jupyterEvent\": \"custom.exercise_interaction\", \"data\": {\"outcomeType\": 1, \"valueTowardsCompletion\": 0.3333333333333333, \"interactionType\": 1, \"questionType\": 2, \"questionId\": \"7.1_PlotSwarm\", \"learnToolsVersion\": \"0.3.4\", \"failureMessage\": \"\", \"exceptionClass\": \"\", \"trace\": \"\"}}, \"*\")"
      ],
      "text/plain": [
       "<IPython.core.display.Javascript object>"
      ]
     },
     "metadata": {},
     "output_type": "display_data"
    },
    {
     "data": {
      "text/markdown": [
       "<span style=\"color:#33cc33\">Correct</span>"
      ],
      "text/plain": [
       "Correct"
      ]
     },
     "metadata": {},
     "output_type": "display_data"
    },
    {
     "data": {
      "image/png": "[encoded data removed]",
      "text/plain": [
       "<Figure size 640x480 with 1 Axes>"
      ]
     },
     "metadata": {},
     "output_type": "display_data"
    }
   ],
   "source": [
    "# Scatter plot showing the relationship between 'chocolate' and 'winpercent'\n",
    "____ # Your code here\n",
    "\n",
    "sns.swarmplot(x = candy_data[\"chocolate\"], y = candy_data[\"winpercent\"])\n",
    "\n",
    "# Check your answer\n",
    "step_7.a.check()"
   ]
  },
  {
   "cell_type": "code",
   "execution_count": 23,
   "id": "3c68c52f",
   "metadata": {
    "execution": {
     "iopub.execute_input": "2024-01-30T20:52:58.349790Z",
     "iopub.status.busy": "2024-01-30T20:52:58.348959Z",
     "iopub.status.idle": "2024-01-30T20:52:58.355496Z",
     "shell.execute_reply": "2024-01-30T20:52:58.353419Z"
    },
    "papermill": {
     "duration": 0.032304,
     "end_time": "2024-01-30T20:52:58.358722",
     "exception": false,
     "start_time": "2024-01-30T20:52:58.326418",
     "status": "completed"
    },
    "tags": []
   },
   "outputs": [],
   "source": [
    "# Lines below will give you a hint or solution code\n",
    "#step_7.a.hint()\n",
    "#step_7.a.solution_plot()"
   ]
  },
  {
   "cell_type": "markdown",
   "id": "93412afd",
   "metadata": {
    "papermill": {
     "duration": 0.021227,
     "end_time": "2024-01-30T20:52:58.400769",
     "exception": false,
     "start_time": "2024-01-30T20:52:58.379542",
     "status": "completed"
    },
    "tags": []
   },
   "source": [
    "#### Part B\n",
    "\n",
    "You decide to dedicate a section of your report to the fact that chocolate candies tend to be more popular than candies without chocolate.  Which plot is more appropriate to tell this story: the plot from **Step 6**, or the plot from **Step 7**?"
   ]
  },
  {
   "cell_type": "code",
   "execution_count": 24,
   "id": "9406929c",
   "metadata": {
    "execution": {
     "iopub.execute_input": "2024-01-30T20:52:58.448409Z",
     "iopub.status.busy": "2024-01-30T20:52:58.447789Z",
     "iopub.status.idle": "2024-01-30T20:52:58.457509Z",
     "shell.execute_reply": "2024-01-30T20:52:58.455047Z"
    },
    "papermill": {
     "duration": 0.038133,
     "end_time": "2024-01-30T20:52:58.461919",
     "exception": false,
     "start_time": "2024-01-30T20:52:58.423786",
     "status": "completed"
    },
    "tags": []
   },
   "outputs": [],
   "source": [
    "#step_7.b.hint()"
   ]
  },
  {
   "cell_type": "code",
   "execution_count": 25,
   "id": "72c3fe18",
   "metadata": {
    "execution": {
     "iopub.execute_input": "2024-01-30T20:52:58.507422Z",
     "iopub.status.busy": "2024-01-30T20:52:58.506924Z",
     "iopub.status.idle": "2024-01-30T20:52:58.518671Z",
     "shell.execute_reply": "2024-01-30T20:52:58.517042Z"
    },
    "papermill": {
     "duration": 0.037779,
     "end_time": "2024-01-30T20:52:58.521859",
     "exception": false,
     "start_time": "2024-01-30T20:52:58.484080",
     "status": "completed"
    },
    "tags": []
   },
   "outputs": [
    {
     "data": {
      "application/javascript": [
       "parent.postMessage({\"jupyterEvent\": \"custom.exercise_interaction\", \"data\": {\"interactionType\": 3, \"questionType\": 4, \"questionId\": \"7.2_ThinkSwarm\", \"learnToolsVersion\": \"0.3.4\", \"valueTowardsCompletion\": 0.0, \"failureMessage\": \"\", \"exceptionClass\": \"\", \"trace\": \"\", \"outcomeType\": 4}}, \"*\")"
      ],
      "text/plain": [
       "<IPython.core.display.Javascript object>"
      ]
     },
     "metadata": {},
     "output_type": "display_data"
    },
    {
     "data": {
      "text/markdown": [
       "<span style=\"color:#33cc99\">Solution:</span> In this case, the categorical scatter plot from **Step 7** is the more appropriate plot. While both plots tell the desired story, the plot from **Step 6** conveys far more information that could distract from the main point."
      ],
      "text/plain": [
       "Solution: In this case, the categorical scatter plot from **Step 7** is the more appropriate plot. While both plots tell the desired story, the plot from **Step 6** conveys far more information that could distract from the main point."
      ]
     },
     "metadata": {},
     "output_type": "display_data"
    }
   ],
   "source": [
    "# Check your answer (Run this code cell to receive credit!)\n",
    "step_7.b.solution()"
   ]
  },
  {
   "cell_type": "markdown",
   "id": "b86a6fef",
   "metadata": {
    "papermill": {
     "duration": 0.020687,
     "end_time": "2024-01-30T20:52:58.565320",
     "exception": false,
     "start_time": "2024-01-30T20:52:58.544633",
     "status": "completed"
    },
    "tags": []
   },
   "source": [
    "## Keep going\n",
    "\n",
    "Explore **[histograms and density plots](https://www.kaggle.com/alexisbcook/distributions)**."
   ]
  },
  {
   "cell_type": "markdown",
   "id": "c6915fed",
   "metadata": {
    "papermill": {
     "duration": 0.021277,
     "end_time": "2024-01-30T20:52:58.608981",
     "exception": false,
     "start_time": "2024-01-30T20:52:58.587704",
     "status": "completed"
    },
    "tags": []
   },
   "source": [
    "---\n",
    "\n",
    "\n",
    "\n",
    "\n",
    "*Have questions or comments? Visit the [course discussion forum](https://www.kaggle.com/learn/data-visualization/discussion) to chat with other learners.*"
   ]
  }
 ],
 "metadata": {
  "kaggle": {
   "accelerator": "none",
   "dataSources": [
    {
     "datasetId": 116573,
     "sourceId": 334386,
     "sourceType": "datasetVersion"
    }
   ],
   "isGpuEnabled": false,
   "isInternetEnabled": false,
   "language": "python",
   "sourceType": "notebook"
  },
  "kernelspec": {
   "display_name": "Python 3",
   "language": "python",
   "name": "python3"
  },
  "language_info": {
   "codemirror_mode": {
    "name": "ipython",
    "version": 3
   },
   "file_extension": ".py",
   "mimetype": "text/x-python",
   "name": "python",
   "nbconvert_exporter": "python",
   "pygments_lexer": "ipython3",
   "version": "3.10.13"
  },
  "papermill": {
   "default_parameters": {},
   "duration": 12.040845,
   "end_time": "2024-01-30T20:52:59.457790",
   "environment_variables": {},
   "exception": null,
   "input_path": "__notebook__.ipynb",
   "output_path": "__notebook__.ipynb",
   "parameters": {},
   "start_time": "2024-01-30T20:52:47.416945",
   "version": "2.5.0"
  }
 },
 "nbformat": 4,
 "nbformat_minor": 5
}
