{
 "cells": [
  {
   "cell_type": "markdown",
   "id": "ccf6f77d",
   "metadata": {
    "papermill": {
     "duration": 0.005772,
     "end_time": "2024-05-07T13:44:51.751951",
     "exception": false,
     "start_time": "2024-05-07T13:44:51.746179",
     "status": "completed"
    },
    "tags": []
   },
   "source": [
    "**This notebook is an exercise in the [Intro to Programming](https://www.kaggle.com/learn/intro-to-programming) course.  You can reference the tutorial at [this link](https://www.kaggle.com/alexisbcook/functions).**\n",
    "\n",
    "---\n"
   ]
  },
  {
   "cell_type": "markdown",
   "id": "47329148",
   "metadata": {
    "papermill": {
     "duration": 0.005048,
     "end_time": "2024-05-07T13:44:51.762314",
     "exception": false,
     "start_time": "2024-05-07T13:44:51.757266",
     "status": "completed"
    },
    "tags": []
   },
   "source": [
    "In the tutorial, you learned about functions. In this exercise, you'll write some of your own!\n",
    "\n",
    "# Set up the notebook\n",
    "\n",
    "Run the next code cell without changes to set up the notebook."
   ]
  },
  {
   "cell_type": "code",
   "execution_count": 1,
   "id": "1b5cab92",
   "metadata": {
    "execution": {
     "iopub.execute_input": "2024-05-07T13:44:51.774938Z",
     "iopub.status.busy": "2024-05-07T13:44:51.774176Z",
     "iopub.status.idle": "2024-05-07T13:44:52.488718Z",
     "shell.execute_reply": "2024-05-07T13:44:52.487741Z"
    },
    "papermill": {
     "duration": 0.723637,
     "end_time": "2024-05-07T13:44:52.491114",
     "exception": false,
     "start_time": "2024-05-07T13:44:51.767477",
     "status": "completed"
    },
    "tags": []
   },
   "outputs": [
    {
     "name": "stdout",
     "output_type": "stream",
     "text": [
      "Setup complete.\n"
     ]
    }
   ],
   "source": [
    "# Set up the exercise\n",
    "import math\n",
    "from learntools.core import binder\n",
    "binder.bind(globals())\n",
    "from learntools.intro_to_programming.ex2 import *\n",
    "print('Setup complete.')"
   ]
  },
  {
   "cell_type": "markdown",
   "id": "51e57847",
   "metadata": {
    "papermill": {
     "duration": 0.005473,
     "end_time": "2024-05-07T13:44:52.502314",
     "exception": false,
     "start_time": "2024-05-07T13:44:52.496841",
     "status": "completed"
    },
    "tags": []
   },
   "source": [
    "# Question 1\n",
    "\n",
    "In the [House Prices - Advanced Regression Techniques competition](https://www.kaggle.com/c/house-prices-advanced-regression-techniques/overview), you need to use information like the number of bedrooms and bathrooms to predict the price of a house.  Inspired by this competition, you'll write your own function to do this.\n",
    "\n",
    "In the next code cell, create a function `get_expected_cost()` that has two arguments:\n",
    "- `beds` - number of bedrooms \n",
    "- `baths` - number of bathrooms\n",
    "\n",
    "It should return the expected cost of a house with that number of bedrooms and bathrooms.  Assume that:\n",
    "- the expected cost for a house with 0 bedrooms and 0 bathrooms is `80000`.  \n",
    "- each bedroom adds `30000` to the expected cost\n",
    "- each bathroom adds `10000` to the expected cost.\n",
    "\n",
    "For instance, \n",
    "- a house with 1 bedroom and 1 bathroom has an expected cost of `120000`, and \n",
    "- a house with 2 bedrooms and 1 bathroom has an expected cost of `150000`."
   ]
  },
  {
   "cell_type": "code",
   "execution_count": 2,
   "id": "ec7467c4",
   "metadata": {
    "execution": {
     "iopub.execute_input": "2024-05-07T13:44:52.514315Z",
     "iopub.status.busy": "2024-05-07T13:44:52.513617Z",
     "iopub.status.idle": "2024-05-07T13:44:52.522389Z",
     "shell.execute_reply": "2024-05-07T13:44:52.521479Z"
    },
    "papermill": {
     "duration": 0.016823,
     "end_time": "2024-05-07T13:44:52.524281",
     "exception": false,
     "start_time": "2024-05-07T13:44:52.507458",
     "status": "completed"
    },
    "tags": []
   },
   "outputs": [
    {
     "data": {
      "application/javascript": [
       "parent.postMessage({\"jupyterEvent\": \"custom.exercise_interaction\", \"data\": {\"outcomeType\": 1, \"valueTowardsCompletion\": 0.2, \"interactionType\": 1, \"questionType\": 2, \"questionId\": \"1_GetExpectedCost\", \"learnToolsVersion\": \"0.3.4\", \"failureMessage\": \"\", \"exceptionClass\": \"\", \"trace\": \"\"}}, \"*\")"
      ],
      "text/plain": [
       "<IPython.core.display.Javascript object>"
      ]
     },
     "metadata": {},
     "output_type": "display_data"
    },
    {
     "data": {
      "text/markdown": [
       "<span style=\"color:#33cc33\">Correct</span>"
      ],
      "text/plain": [
       "Correct"
      ]
     },
     "metadata": {},
     "output_type": "display_data"
    }
   ],
   "source": [
    "# TODO: Complete the function\n",
    "def get_expected_cost(beds, baths):\n",
    "    value = 80000 + (beds * 30000) + (baths * 10000)\n",
    "    return value\n",
    "\n",
    "# Check your answer \n",
    "q1.check()"
   ]
  },
  {
   "cell_type": "code",
   "execution_count": 3,
   "id": "7a878769",
   "metadata": {
    "execution": {
     "iopub.execute_input": "2024-05-07T13:44:52.536415Z",
     "iopub.status.busy": "2024-05-07T13:44:52.536123Z",
     "iopub.status.idle": "2024-05-07T13:44:52.540043Z",
     "shell.execute_reply": "2024-05-07T13:44:52.539147Z"
    },
    "papermill": {
     "duration": 0.012024,
     "end_time": "2024-05-07T13:44:52.541856",
     "exception": false,
     "start_time": "2024-05-07T13:44:52.529832",
     "status": "completed"
    },
    "tags": []
   },
   "outputs": [],
   "source": [
    "# Uncomment to see a hint\n",
    "#q1.hint()\n",
    "\n",
    "# Uncomment to view the solution\n",
    "#q1.solution()"
   ]
  },
  {
   "cell_type": "markdown",
   "id": "c77b651f",
   "metadata": {
    "papermill": {
     "duration": 0.005295,
     "end_time": "2024-05-07T13:44:52.552589",
     "exception": false,
     "start_time": "2024-05-07T13:44:52.547294",
     "status": "completed"
    },
    "tags": []
   },
   "source": [
    "# Question 2\n",
    "\n",
    "You are thinking about buying a home and want to get an idea of how much you will spend, based on the number of bedrooms and bathrooms.  You are trying to decide between four different options:\n",
    "- Option 1: house with two bedrooms and three bathrooms\n",
    "- Option 2: house with three bedrooms and two bathrooms\n",
    "- Option 3: house with three bedrooms and three bathrooms\n",
    "- Option 4: house with three bedrooms and four bathrooms\n",
    "\n",
    "Use the `get_expected_cost()` function you defined in question 1 to set `option_1`, `option_2`, `option_3`, and `option_4` to the expected cost of each option."
   ]
  },
  {
   "cell_type": "code",
   "execution_count": 4,
   "id": "e1b227a3",
   "metadata": {
    "execution": {
     "iopub.execute_input": "2024-05-07T13:44:52.564956Z",
     "iopub.status.busy": "2024-05-07T13:44:52.564259Z",
     "iopub.status.idle": "2024-05-07T13:44:52.574353Z",
     "shell.execute_reply": "2024-05-07T13:44:52.573443Z"
    },
    "papermill": {
     "duration": 0.0184,
     "end_time": "2024-05-07T13:44:52.576403",
     "exception": false,
     "start_time": "2024-05-07T13:44:52.558003",
     "status": "completed"
    },
    "tags": []
   },
   "outputs": [
    {
     "name": "stdout",
     "output_type": "stream",
     "text": [
      "170000\n",
      "190000\n",
      "200000\n",
      "210000\n"
     ]
    },
    {
     "data": {
      "application/javascript": [
       "parent.postMessage({\"jupyterEvent\": \"custom.exercise_interaction\", \"data\": {\"outcomeType\": 1, \"valueTowardsCompletion\": 0.2, \"interactionType\": 1, \"questionType\": 1, \"questionId\": \"2_RunGetExpectedCost\", \"learnToolsVersion\": \"0.3.4\", \"failureMessage\": \"\", \"exceptionClass\": \"\", \"trace\": \"\"}}, \"*\")"
      ],
      "text/plain": [
       "<IPython.core.display.Javascript object>"
      ]
     },
     "metadata": {},
     "output_type": "display_data"
    },
    {
     "data": {
      "text/markdown": [
       "<span style=\"color:#33cc33\">Correct</span>"
      ],
      "text/plain": [
       "Correct"
      ]
     },
     "metadata": {},
     "output_type": "display_data"
    }
   ],
   "source": [
    "# TODO: Use the get_expected_cost function to fill in each value\n",
    "option_one = get_expected_cost(2,3)\n",
    "option_two = get_expected_cost(3,2)\n",
    "option_three = get_expected_cost(3,3)\n",
    "option_four = get_expected_cost(3,4)\n",
    "\n",
    "print(option_one)\n",
    "print(option_two)\n",
    "print(option_three)\n",
    "print(option_four)\n",
    "\n",
    "# Check your answer\n",
    "q2.check()"
   ]
  },
  {
   "cell_type": "code",
   "execution_count": 5,
   "id": "3c6b0a23",
   "metadata": {
    "execution": {
     "iopub.execute_input": "2024-05-07T13:44:52.589687Z",
     "iopub.status.busy": "2024-05-07T13:44:52.588991Z",
     "iopub.status.idle": "2024-05-07T13:44:52.592651Z",
     "shell.execute_reply": "2024-05-07T13:44:52.592041Z"
    },
    "papermill": {
     "duration": 0.012183,
     "end_time": "2024-05-07T13:44:52.594535",
     "exception": false,
     "start_time": "2024-05-07T13:44:52.582352",
     "status": "completed"
    },
    "tags": []
   },
   "outputs": [],
   "source": [
    "# Uncomment to see a hint\n",
    "#q2.hint()\n",
    "\n",
    "# Uncomment to view the solution\n",
    "#q2.solution()"
   ]
  },
  {
   "cell_type": "markdown",
   "id": "a46bc25c",
   "metadata": {
    "papermill": {
     "duration": 0.006477,
     "end_time": "2024-05-07T13:44:52.606846",
     "exception": false,
     "start_time": "2024-05-07T13:44:52.600369",
     "status": "completed"
    },
    "tags": []
   },
   "source": [
    "# Question 3\n",
    "\n",
    "You're a home decorator, and you'd like to use Python to streamline some of your work.  Specifically, you're creating a tool that you intend to use to calculate the cost of painting a room.\n",
    "\n",
    "As a first step, define a function `get_cost()` that takes as input:\n",
    "- `sqft_walls` = total square feet of walls to be painted\n",
    "- `sqft_ceiling` = square feet of ceiling to be painted\n",
    "- `sqft_per_gallon` = number of square feet that you can cover with one gallon of paint\n",
    "- `cost_per_gallon` = cost (in dollars) of one gallon of paint\n",
    "\n",
    "It should return the cost (in dollars) of putting one coat of paint on all walls and the ceiling.  Assume you can buy the exact amount of paint that you need, so you can buy partial gallons (e.g., if you need 7.523 gallons, you can buy that exact amount, instead of needing to buy 8 gallons and waste some paint).  Do not round your answer."
   ]
  },
  {
   "cell_type": "code",
   "execution_count": 6,
   "id": "1ca25f02",
   "metadata": {
    "execution": {
     "iopub.execute_input": "2024-05-07T13:44:52.619826Z",
     "iopub.status.busy": "2024-05-07T13:44:52.619256Z",
     "iopub.status.idle": "2024-05-07T13:44:52.626301Z",
     "shell.execute_reply": "2024-05-07T13:44:52.625370Z"
    },
    "papermill": {
     "duration": 0.015854,
     "end_time": "2024-05-07T13:44:52.628385",
     "exception": false,
     "start_time": "2024-05-07T13:44:52.612531",
     "status": "completed"
    },
    "tags": []
   },
   "outputs": [
    {
     "data": {
      "application/javascript": [
       "parent.postMessage({\"jupyterEvent\": \"custom.exercise_interaction\", \"data\": {\"outcomeType\": 1, \"valueTowardsCompletion\": 0.2, \"interactionType\": 1, \"questionType\": 2, \"questionId\": \"3_GetCostPaint\", \"learnToolsVersion\": \"0.3.4\", \"failureMessage\": \"\", \"exceptionClass\": \"\", \"trace\": \"\"}}, \"*\")"
      ],
      "text/plain": [
       "<IPython.core.display.Javascript object>"
      ]
     },
     "metadata": {},
     "output_type": "display_data"
    },
    {
     "data": {
      "text/markdown": [
       "<span style=\"color:#33cc33\">Correct</span>"
      ],
      "text/plain": [
       "Correct"
      ]
     },
     "metadata": {},
     "output_type": "display_data"
    }
   ],
   "source": [
    "# TODO: Finish defining the function\n",
    "def get_cost(sqft_walls, sqft_ceiling, sqft_per_gallon, cost_per_gallon):\n",
    "    cost = ((sqft_walls + sqft_ceiling) / sqft_per_gallon) * cost_per_gallon\n",
    "    return cost\n",
    "\n",
    "# Check your answer\n",
    "q3.check()"
   ]
  },
  {
   "cell_type": "code",
   "execution_count": 7,
   "id": "e8423081",
   "metadata": {
    "execution": {
     "iopub.execute_input": "2024-05-07T13:44:52.641910Z",
     "iopub.status.busy": "2024-05-07T13:44:52.641610Z",
     "iopub.status.idle": "2024-05-07T13:44:52.645073Z",
     "shell.execute_reply": "2024-05-07T13:44:52.644229Z"
    },
    "papermill": {
     "duration": 0.012321,
     "end_time": "2024-05-07T13:44:52.646852",
     "exception": false,
     "start_time": "2024-05-07T13:44:52.634531",
     "status": "completed"
    },
    "tags": []
   },
   "outputs": [],
   "source": [
    "# Uncomment to see a hint\n",
    "#q3.hint()\n",
    "\n",
    "# Uncomment to view the solution\n",
    "#q3.solution()"
   ]
  },
  {
   "cell_type": "markdown",
   "id": "54468c60",
   "metadata": {
    "papermill": {
     "duration": 0.005806,
     "end_time": "2024-05-07T13:44:52.658655",
     "exception": false,
     "start_time": "2024-05-07T13:44:52.652849",
     "status": "completed"
    },
    "tags": []
   },
   "source": [
    "# Question 4\n",
    "\n",
    "Use the `get_cost()` function you defined in Question 3 to calculate the cost of applying one coat of paint to a room with:\n",
    "- 432 square feet of walls, and\n",
    "- 144 square feet of ceiling.\n",
    "\n",
    "Assume that one gallon of paint covers 400 square feet and costs $15.  As in Question 3, assume you can buy partial gallons of paint.  Do not round your answer."
   ]
  },
  {
   "cell_type": "code",
   "execution_count": 8,
   "id": "809cff7a",
   "metadata": {
    "execution": {
     "iopub.execute_input": "2024-05-07T13:44:52.671928Z",
     "iopub.status.busy": "2024-05-07T13:44:52.671624Z",
     "iopub.status.idle": "2024-05-07T13:44:52.678657Z",
     "shell.execute_reply": "2024-05-07T13:44:52.677783Z"
    },
    "papermill": {
     "duration": 0.015936,
     "end_time": "2024-05-07T13:44:52.680571",
     "exception": false,
     "start_time": "2024-05-07T13:44:52.664635",
     "status": "completed"
    },
    "tags": []
   },
   "outputs": [
    {
     "data": {
      "application/javascript": [
       "parent.postMessage({\"jupyterEvent\": \"custom.exercise_interaction\", \"data\": {\"outcomeType\": 1, \"valueTowardsCompletion\": 0.2, \"interactionType\": 1, \"questionType\": 1, \"questionId\": \"4_GetCostPaintExample\", \"learnToolsVersion\": \"0.3.4\", \"failureMessage\": \"\", \"exceptionClass\": \"\", \"trace\": \"\"}}, \"*\")"
      ],
      "text/plain": [
       "<IPython.core.display.Javascript object>"
      ]
     },
     "metadata": {},
     "output_type": "display_data"
    },
    {
     "data": {
      "text/markdown": [
       "<span style=\"color:#33cc33\">Correct</span>"
      ],
      "text/plain": [
       "Correct"
      ]
     },
     "metadata": {},
     "output_type": "display_data"
    }
   ],
   "source": [
    "# TODO: Set the project_cost variable to the cost of the project\n",
    "project_cost = get_cost(432,144,400,15)\n",
    "\n",
    "# Check your answer\n",
    "q4.check()"
   ]
  },
  {
   "cell_type": "code",
   "execution_count": 9,
   "id": "063a6ffc",
   "metadata": {
    "execution": {
     "iopub.execute_input": "2024-05-07T13:44:52.694152Z",
     "iopub.status.busy": "2024-05-07T13:44:52.693873Z",
     "iopub.status.idle": "2024-05-07T13:44:52.697601Z",
     "shell.execute_reply": "2024-05-07T13:44:52.696706Z"
    },
    "papermill": {
     "duration": 0.012589,
     "end_time": "2024-05-07T13:44:52.699423",
     "exception": false,
     "start_time": "2024-05-07T13:44:52.686834",
     "status": "completed"
    },
    "tags": []
   },
   "outputs": [],
   "source": [
    "# Uncomment to see a hint\n",
    "#q4.hint()\n",
    "\n",
    "# Uncomment to view the solution\n",
    "#q4.solution()"
   ]
  },
  {
   "cell_type": "markdown",
   "id": "2056e1ee",
   "metadata": {
    "papermill": {
     "duration": 0.006697,
     "end_time": "2024-05-07T13:44:52.712408",
     "exception": false,
     "start_time": "2024-05-07T13:44:52.705711",
     "status": "completed"
    },
    "tags": []
   },
   "source": [
    "# 🌶️ Question 5\n",
    "\n",
    "Now say you can no longer buy fractions of a gallon.  (For instance, if you need 4.3 gallons to do a project, then you have to buy 5 gallons of paint.)\n",
    "\n",
    "With this new scenario, you will create a new function `get_actual_cost` that uses the same inputs and calculates the cost of your project.\n",
    "\n",
    "One function that you'll need to use to do this is `math.ceil()`.  We demonstrate usage of this function in the code cell below.  It takes as a number as input and rounds the number up to the nearest integer.  \n",
    "\n",
    "Run the next code cell to test this function for yourself.  Feel free to change the value of `test_value` and make sure `math.ceil()` returns the number you expect."
   ]
  },
  {
   "cell_type": "code",
   "execution_count": 10,
   "id": "8d6c2a7e",
   "metadata": {
    "execution": {
     "iopub.execute_input": "2024-05-07T13:44:52.726216Z",
     "iopub.status.busy": "2024-05-07T13:44:52.725902Z",
     "iopub.status.idle": "2024-05-07T13:44:52.730702Z",
     "shell.execute_reply": "2024-05-07T13:44:52.729704Z"
    },
    "papermill": {
     "duration": 0.013847,
     "end_time": "2024-05-07T13:44:52.732480",
     "exception": false,
     "start_time": "2024-05-07T13:44:52.718633",
     "status": "completed"
    },
    "tags": []
   },
   "outputs": [
    {
     "name": "stdout",
     "output_type": "stream",
     "text": [
      "3\n"
     ]
    }
   ],
   "source": [
    "test_value = 2.17\n",
    "\n",
    "rounded_value = math.ceil(test_value)\n",
    "print(rounded_value)"
   ]
  },
  {
   "cell_type": "markdown",
   "id": "449f8bfb",
   "metadata": {
    "papermill": {
     "duration": 0.006216,
     "end_time": "2024-05-07T13:44:52.745089",
     "exception": false,
     "start_time": "2024-05-07T13:44:52.738873",
     "status": "completed"
    },
    "tags": []
   },
   "source": [
    "Use the next code cell to define the function `get_actual_cost()`.  You'll need to use the `math.ceil()` function to do this.\n",
    "\n",
    "When answering this question, note that it's completely valid to define a function that makes use of another function.  For instance, we can define a function `round_up_and_divide_by_three` that makes use of the `math.ceil` function:\n",
    "```\n",
    "def round_up_and_divide_by_three(num):\n",
    "    new_value = math.ceil(num)\n",
    "    final_value = new_value / 3\n",
    "    return final_value\n",
    "```"
   ]
  },
  {
   "cell_type": "code",
   "execution_count": 11,
   "id": "1427e596",
   "metadata": {
    "execution": {
     "iopub.execute_input": "2024-05-07T13:44:52.759065Z",
     "iopub.status.busy": "2024-05-07T13:44:52.758712Z",
     "iopub.status.idle": "2024-05-07T13:44:52.766619Z",
     "shell.execute_reply": "2024-05-07T13:44:52.765687Z"
    },
    "papermill": {
     "duration": 0.01707,
     "end_time": "2024-05-07T13:44:52.768454",
     "exception": false,
     "start_time": "2024-05-07T13:44:52.751384",
     "status": "completed"
    },
    "tags": []
   },
   "outputs": [
    {
     "data": {
      "application/javascript": [
       "parent.postMessage({\"jupyterEvent\": \"custom.exercise_interaction\", \"data\": {\"outcomeType\": 1, \"valueTowardsCompletion\": 0.2, \"interactionType\": 1, \"questionType\": 2, \"questionId\": \"5_NoMoreFractions\", \"learnToolsVersion\": \"0.3.4\", \"failureMessage\": \"\", \"exceptionClass\": \"\", \"trace\": \"\"}}, \"*\")"
      ],
      "text/plain": [
       "<IPython.core.display.Javascript object>"
      ]
     },
     "metadata": {},
     "output_type": "display_data"
    },
    {
     "data": {
      "text/markdown": [
       "<span style=\"color:#33cc33\">Correct</span>"
      ],
      "text/plain": [
       "Correct"
      ]
     },
     "metadata": {},
     "output_type": "display_data"
    }
   ],
   "source": [
    "def get_actual_cost(sqft_walls, sqft_ceiling, sqft_per_gallon, cost_per_gallon):\n",
    "    gal = ((sqft_walls + sqft_ceiling) / sqft_per_gallon)\n",
    "    roundGal = math.ceil(gal)\n",
    "    cost = roundGal * cost_per_gallon\n",
    "    return cost\n",
    "\n",
    "# Check your answer\n",
    "q5.check()"
   ]
  },
  {
   "cell_type": "code",
   "execution_count": 12,
   "id": "6394ad37",
   "metadata": {
    "execution": {
     "iopub.execute_input": "2024-05-07T13:44:52.782935Z",
     "iopub.status.busy": "2024-05-07T13:44:52.782624Z",
     "iopub.status.idle": "2024-05-07T13:44:52.786798Z",
     "shell.execute_reply": "2024-05-07T13:44:52.785739Z"
    },
    "papermill": {
     "duration": 0.01355,
     "end_time": "2024-05-07T13:44:52.788683",
     "exception": false,
     "start_time": "2024-05-07T13:44:52.775133",
     "status": "completed"
    },
    "tags": []
   },
   "outputs": [],
   "source": [
    "# Uncomment to see a hint\n",
    "#q5.hint()\n",
    "\n",
    "# Uncomment to view the solution\n",
    "#q5.solution()"
   ]
  },
  {
   "cell_type": "markdown",
   "id": "5142823d",
   "metadata": {
    "papermill": {
     "duration": 0.006423,
     "end_time": "2024-05-07T13:44:52.801734",
     "exception": false,
     "start_time": "2024-05-07T13:44:52.795311",
     "status": "completed"
    },
    "tags": []
   },
   "source": [
    "Once your function is verified as correct, run the next code cell to calculate the updated cost of your project."
   ]
  },
  {
   "cell_type": "code",
   "execution_count": 13,
   "id": "88903c90",
   "metadata": {
    "execution": {
     "iopub.execute_input": "2024-05-07T13:44:52.817054Z",
     "iopub.status.busy": "2024-05-07T13:44:52.816711Z",
     "iopub.status.idle": "2024-05-07T13:44:52.822349Z",
     "shell.execute_reply": "2024-05-07T13:44:52.821681Z"
    },
    "papermill": {
     "duration": 0.015766,
     "end_time": "2024-05-07T13:44:52.824123",
     "exception": false,
     "start_time": "2024-05-07T13:44:52.808357",
     "status": "completed"
    },
    "tags": []
   },
   "outputs": [
    {
     "data": {
      "text/plain": [
       "30"
      ]
     },
     "execution_count": 13,
     "metadata": {},
     "output_type": "execute_result"
    }
   ],
   "source": [
    "get_actual_cost(432, 144, 400, 15) "
   ]
  },
  {
   "cell_type": "markdown",
   "id": "0c2997ec",
   "metadata": {
    "papermill": {
     "duration": 0.006601,
     "end_time": "2024-05-07T13:44:52.837464",
     "exception": false,
     "start_time": "2024-05-07T13:44:52.830863",
     "status": "completed"
    },
    "tags": []
   },
   "source": [
    "Say you're working with a slightly larger room.  Run the next code cell to calculate the cost of the project."
   ]
  },
  {
   "cell_type": "code",
   "execution_count": 14,
   "id": "042ce3f0",
   "metadata": {
    "execution": {
     "iopub.execute_input": "2024-05-07T13:44:52.852180Z",
     "iopub.status.busy": "2024-05-07T13:44:52.851880Z",
     "iopub.status.idle": "2024-05-07T13:44:52.857207Z",
     "shell.execute_reply": "2024-05-07T13:44:52.856562Z"
    },
    "papermill": {
     "duration": 0.014691,
     "end_time": "2024-05-07T13:44:52.858907",
     "exception": false,
     "start_time": "2024-05-07T13:44:52.844216",
     "status": "completed"
    },
    "tags": []
   },
   "outputs": [
    {
     "data": {
      "text/plain": [
       "45"
      ]
     },
     "execution_count": 14,
     "metadata": {},
     "output_type": "execute_result"
    }
   ],
   "source": [
    "get_actual_cost(594, 288, 400, 15) "
   ]
  },
  {
   "cell_type": "markdown",
   "id": "b123c31c",
   "metadata": {
    "papermill": {
     "duration": 0.006712,
     "end_time": "2024-05-07T13:44:52.872430",
     "exception": false,
     "start_time": "2024-05-07T13:44:52.865718",
     "status": "completed"
    },
    "tags": []
   },
   "source": [
    "# Keep going\n",
    "\n",
    "Continue to learn about **[data types](https://www.kaggle.com/alexisbcook/data-types)**."
   ]
  },
  {
   "cell_type": "markdown",
   "id": "888c207c",
   "metadata": {
    "papermill": {
     "duration": 0.006912,
     "end_time": "2024-05-07T13:44:52.886153",
     "exception": false,
     "start_time": "2024-05-07T13:44:52.879241",
     "status": "completed"
    },
    "tags": []
   },
   "source": [
    "---\n",
    "\n",
    "\n",
    "\n",
    "\n",
    "*Have questions or comments? Visit the [course discussion forum](https://www.kaggle.com/learn/intro-to-programming/discussion) to chat with other learners.*"
   ]
  }
 ],
 "metadata": {
  "kaggle": {
   "accelerator": "none",
   "dataSources": [],
   "isGpuEnabled": false,
   "isInternetEnabled": false,
   "language": "python",
   "sourceType": "notebook"
  },
  "kernelspec": {
   "display_name": "Python 3",
   "language": "python",
   "name": "python3"
  },
  "language_info": {
   "codemirror_mode": {
    "name": "ipython",
    "version": 3
   },
   "file_extension": ".py",
   "mimetype": "text/x-python",
   "name": "python",
   "nbconvert_exporter": "python",
   "pygments_lexer": "ipython3",
   "version": "3.10.13"
  },
  "papermill": {
   "default_parameters": {},
   "duration": 3.849137,
   "end_time": "2024-05-07T13:44:53.210729",
   "environment_variables": {},
   "exception": null,
   "input_path": "__notebook__.ipynb",
   "output_path": "__notebook__.ipynb",
   "parameters": {},
   "start_time": "2024-05-07T13:44:49.361592",
   "version": "2.5.0"
  }
 },
 "nbformat": 4,
 "nbformat_minor": 5
}
