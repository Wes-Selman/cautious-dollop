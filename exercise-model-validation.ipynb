{
 "cells": [
  {
   "cell_type": "markdown",
   "id": "6bee877c",
   "metadata": {
    "papermill": {
     "duration": 0.006629,
     "end_time": "2024-01-30T20:49:28.436249",
     "exception": false,
     "start_time": "2024-01-30T20:49:28.429620",
     "status": "completed"
    },
    "tags": []
   },
   "source": [
    "**This notebook is an exercise in the [Introduction to Machine Learning](https://www.kaggle.com/learn/intro-to-machine-learning) course.  You can reference the tutorial at [this link](https://www.kaggle.com/dansbecker/model-validation).**\n",
    "\n",
    "---\n"
   ]
  },
  {
   "cell_type": "markdown",
   "id": "525a3642",
   "metadata": {
    "papermill": {
     "duration": 0.005731,
     "end_time": "2024-01-30T20:49:28.448334",
     "exception": false,
     "start_time": "2024-01-30T20:49:28.442603",
     "status": "completed"
    },
    "tags": []
   },
   "source": [
    "## Recap\n",
    "You've built a model. In this exercise you will test how good your model is.\n",
    "\n",
    "Run the cell below to set up your coding environment where the previous exercise left off."
   ]
  },
  {
   "cell_type": "code",
   "execution_count": 1,
   "id": "b58ceeb6",
   "metadata": {
    "execution": {
     "iopub.execute_input": "2024-01-30T20:49:28.462249Z",
     "iopub.status.busy": "2024-01-30T20:49:28.461845Z",
     "iopub.status.idle": "2024-01-30T20:49:31.253777Z",
     "shell.execute_reply": "2024-01-30T20:49:31.252545Z"
    },
    "papermill": {
     "duration": 2.803008,
     "end_time": "2024-01-30T20:49:31.257388",
     "exception": false,
     "start_time": "2024-01-30T20:49:28.454380",
     "status": "completed"
    },
    "tags": []
   },
   "outputs": [
    {
     "name": "stdout",
     "output_type": "stream",
     "text": [
      "First in-sample predictions: [208500. 181500. 223500. 140000. 250000.]\n",
      "Actual target values for those homes: [208500, 181500, 223500, 140000, 250000]\n",
      "Setup Complete\n"
     ]
    }
   ],
   "source": [
    "# Code you have previously used to load data\n",
    "import pandas as pd\n",
    "from sklearn.tree import DecisionTreeRegressor\n",
    "\n",
    "# Path of the file to read\n",
    "iowa_file_path = '../input/home-data-for-ml-course/train.csv'\n",
    "\n",
    "home_data = pd.read_csv(iowa_file_path)\n",
    "y = home_data.SalePrice\n",
    "feature_columns = ['LotArea', 'YearBuilt', '1stFlrSF', '2ndFlrSF', 'FullBath', 'BedroomAbvGr', 'TotRmsAbvGrd']\n",
    "X = home_data[feature_columns]\n",
    "\n",
    "# Specify Model\n",
    "iowa_model = DecisionTreeRegressor()\n",
    "# Fit Model\n",
    "iowa_model.fit(X, y)\n",
    "\n",
    "print(\"First in-sample predictions:\", iowa_model.predict(X.head()))\n",
    "print(\"Actual target values for those homes:\", y.head().tolist())\n",
    "\n",
    "# Set up code checking\n",
    "from learntools.core import binder\n",
    "binder.bind(globals())\n",
    "from learntools.machine_learning.ex4 import *\n",
    "print(\"Setup Complete\")"
   ]
  },
  {
   "cell_type": "markdown",
   "id": "ca4f4d6c",
   "metadata": {
    "papermill": {
     "duration": 0.005981,
     "end_time": "2024-01-30T20:49:31.270461",
     "exception": false,
     "start_time": "2024-01-30T20:49:31.264480",
     "status": "completed"
    },
    "tags": []
   },
   "source": [
    "# Exercises\n",
    "\n",
    "## Step 1: Split Your Data\n",
    "Use the `train_test_split` function to split up your data.\n",
    "\n",
    "Give it the argument `random_state=1` so the `check` functions know what to expect when verifying your code.\n",
    "\n",
    "Recall, your features are loaded in the DataFrame **X** and your target is loaded in **y**.\n"
   ]
  },
  {
   "cell_type": "code",
   "execution_count": 2,
   "id": "445b8c98",
   "metadata": {
    "execution": {
     "iopub.execute_input": "2024-01-30T20:49:31.284532Z",
     "iopub.status.busy": "2024-01-30T20:49:31.284131Z",
     "iopub.status.idle": "2024-01-30T20:49:31.300267Z",
     "shell.execute_reply": "2024-01-30T20:49:31.299135Z"
    },
    "papermill": {
     "duration": 0.026301,
     "end_time": "2024-01-30T20:49:31.302925",
     "exception": false,
     "start_time": "2024-01-30T20:49:31.276624",
     "status": "completed"
    },
    "tags": []
   },
   "outputs": [
    {
     "data": {
      "application/javascript": [
       "parent.postMessage({\"jupyterEvent\": \"custom.exercise_interaction\", \"data\": {\"outcomeType\": 1, \"valueTowardsCompletion\": 0.25, \"interactionType\": 1, \"questionType\": 2, \"questionId\": \"1_SplitData\", \"learnToolsVersion\": \"0.3.4\", \"failureMessage\": \"\", \"exceptionClass\": \"\", \"trace\": \"\"}}, \"*\")"
      ],
      "text/plain": [
       "<IPython.core.display.Javascript object>"
      ]
     },
     "metadata": {},
     "output_type": "display_data"
    },
    {
     "data": {
      "text/markdown": [
       "<span style=\"color:#33cc33\">Correct</span>"
      ],
      "text/plain": [
       "Correct"
      ]
     },
     "metadata": {},
     "output_type": "display_data"
    }
   ],
   "source": [
    "# Import the train_test_split function and uncomment\n",
    "# from _ import _\n",
    "from sklearn.model_selection import train_test_split\n",
    "\n",
    "# fill in and uncomment\n",
    "train_X, val_X, train_y, val_y = train_test_split(X, y, random_state = 1)\n",
    "\n",
    "# Check your answer\n",
    "step_1.check()"
   ]
  },
  {
   "cell_type": "code",
   "execution_count": 3,
   "id": "edbae5a2",
   "metadata": {
    "execution": {
     "iopub.execute_input": "2024-01-30T20:49:31.317989Z",
     "iopub.status.busy": "2024-01-30T20:49:31.317581Z",
     "iopub.status.idle": "2024-01-30T20:49:31.322411Z",
     "shell.execute_reply": "2024-01-30T20:49:31.321183Z"
    },
    "papermill": {
     "duration": 0.015046,
     "end_time": "2024-01-30T20:49:31.324523",
     "exception": false,
     "start_time": "2024-01-30T20:49:31.309477",
     "status": "completed"
    },
    "tags": []
   },
   "outputs": [],
   "source": [
    "# The lines below will show you a hint or the solution.\n",
    "# step_1.hint() \n",
    "# step_1.solution()\n"
   ]
  },
  {
   "cell_type": "markdown",
   "id": "edd932ec",
   "metadata": {
    "papermill": {
     "duration": 0.006287,
     "end_time": "2024-01-30T20:49:31.337416",
     "exception": false,
     "start_time": "2024-01-30T20:49:31.331129",
     "status": "completed"
    },
    "tags": []
   },
   "source": [
    "## Step 2: Specify and Fit the Model\n",
    "\n",
    "Create a `DecisionTreeRegressor` model and fit it to the relevant data.\n",
    "Set `random_state` to 1 again when creating the model."
   ]
  },
  {
   "cell_type": "code",
   "execution_count": 4,
   "id": "28b1f7a4",
   "metadata": {
    "execution": {
     "iopub.execute_input": "2024-01-30T20:49:31.352974Z",
     "iopub.status.busy": "2024-01-30T20:49:31.352037Z",
     "iopub.status.idle": "2024-01-30T20:49:31.466378Z",
     "shell.execute_reply": "2024-01-30T20:49:31.465275Z"
    },
    "papermill": {
     "duration": 0.12514,
     "end_time": "2024-01-30T20:49:31.469247",
     "exception": false,
     "start_time": "2024-01-30T20:49:31.344107",
     "status": "completed"
    },
    "tags": []
   },
   "outputs": [
    {
     "name": "stdout",
     "output_type": "stream",
     "text": [
      "[186500. 184000. 130000.  92000. 164500. 220000. 335000. 144152. 215000.\n",
      " 262000.]\n",
      "[186500. 184000. 130000.  92000. 164500. 220000. 335000. 144152. 215000.\n",
      " 262000.]\n"
     ]
    },
    {
     "data": {
      "application/javascript": [
       "parent.postMessage({\"jupyterEvent\": \"custom.exercise_interaction\", \"data\": {\"outcomeType\": 1, \"valueTowardsCompletion\": 0.25, \"interactionType\": 1, \"questionType\": 2, \"questionId\": \"2_FitModelWithTrain\", \"learnToolsVersion\": \"0.3.4\", \"failureMessage\": \"\", \"exceptionClass\": \"\", \"trace\": \"\"}}, \"*\")"
      ],
      "text/plain": [
       "<IPython.core.display.Javascript object>"
      ]
     },
     "metadata": {},
     "output_type": "display_data"
    },
    {
     "data": {
      "text/markdown": [
       "<span style=\"color:#33cc33\">Correct</span>"
      ],
      "text/plain": [
       "Correct"
      ]
     },
     "metadata": {},
     "output_type": "display_data"
    }
   ],
   "source": [
    "# You imported DecisionTreeRegressor in your last exercise\n",
    "# and that code has been copied to the setup code above. So, no need to\n",
    "# import it again\n",
    "\n",
    "# Specify the model\n",
    "iowa_model = DecisionTreeRegressor(random_state=1)\n",
    "\n",
    "# Fit iowa_model with the training data.\n",
    "iowa_model.fit(train_X, train_y)\n",
    "# Check your answer\n",
    "step_2.check()"
   ]
  },
  {
   "cell_type": "code",
   "execution_count": 5,
   "id": "b4bc8495",
   "metadata": {
    "execution": {
     "iopub.execute_input": "2024-01-30T20:49:31.485887Z",
     "iopub.status.busy": "2024-01-30T20:49:31.484804Z",
     "iopub.status.idle": "2024-01-30T20:49:31.489351Z",
     "shell.execute_reply": "2024-01-30T20:49:31.488540Z"
    },
    "papermill": {
     "duration": 0.015207,
     "end_time": "2024-01-30T20:49:31.491469",
     "exception": false,
     "start_time": "2024-01-30T20:49:31.476262",
     "status": "completed"
    },
    "tags": []
   },
   "outputs": [],
   "source": [
    "# step_2.hint()\n",
    "# step_2.solution()"
   ]
  },
  {
   "cell_type": "markdown",
   "id": "9a776b5d",
   "metadata": {
    "papermill": {
     "duration": 0.006803,
     "end_time": "2024-01-30T20:49:31.505457",
     "exception": false,
     "start_time": "2024-01-30T20:49:31.498654",
     "status": "completed"
    },
    "tags": []
   },
   "source": [
    "## Step 3: Make Predictions with Validation data\n"
   ]
  },
  {
   "cell_type": "code",
   "execution_count": 6,
   "id": "82f6c86c",
   "metadata": {
    "execution": {
     "iopub.execute_input": "2024-01-30T20:49:31.522373Z",
     "iopub.status.busy": "2024-01-30T20:49:31.521950Z",
     "iopub.status.idle": "2024-01-30T20:49:31.534664Z",
     "shell.execute_reply": "2024-01-30T20:49:31.533542Z"
    },
    "papermill": {
     "duration": 0.024052,
     "end_time": "2024-01-30T20:49:31.537162",
     "exception": false,
     "start_time": "2024-01-30T20:49:31.513110",
     "status": "completed"
    },
    "tags": []
   },
   "outputs": [
    {
     "data": {
      "application/javascript": [
       "parent.postMessage({\"jupyterEvent\": \"custom.exercise_interaction\", \"data\": {\"outcomeType\": 1, \"valueTowardsCompletion\": 0.25, \"interactionType\": 1, \"questionType\": 2, \"questionId\": \"3_ValPreds\", \"learnToolsVersion\": \"0.3.4\", \"failureMessage\": \"\", \"exceptionClass\": \"\", \"trace\": \"\"}}, \"*\")"
      ],
      "text/plain": [
       "<IPython.core.display.Javascript object>"
      ]
     },
     "metadata": {},
     "output_type": "display_data"
    },
    {
     "data": {
      "text/markdown": [
       "<span style=\"color:#33cc33\">Correct</span>"
      ],
      "text/plain": [
       "Correct"
      ]
     },
     "metadata": {},
     "output_type": "display_data"
    }
   ],
   "source": [
    "# Predict with all validation observations\n",
    "val_predictions = iowa_model.predict(val_X)\n",
    "\n",
    "# Check your answer\n",
    "step_3.check()"
   ]
  },
  {
   "cell_type": "code",
   "execution_count": 7,
   "id": "012dfcb0",
   "metadata": {
    "execution": {
     "iopub.execute_input": "2024-01-30T20:49:31.554709Z",
     "iopub.status.busy": "2024-01-30T20:49:31.554104Z",
     "iopub.status.idle": "2024-01-30T20:49:31.559606Z",
     "shell.execute_reply": "2024-01-30T20:49:31.558372Z"
    },
    "papermill": {
     "duration": 0.017617,
     "end_time": "2024-01-30T20:49:31.562411",
     "exception": false,
     "start_time": "2024-01-30T20:49:31.544794",
     "status": "completed"
    },
    "tags": []
   },
   "outputs": [],
   "source": [
    "# step_3.hint()\n",
    "# step_3.solution()"
   ]
  },
  {
   "cell_type": "markdown",
   "id": "7b13f84d",
   "metadata": {
    "papermill": {
     "duration": 0.007211,
     "end_time": "2024-01-30T20:49:31.577352",
     "exception": false,
     "start_time": "2024-01-30T20:49:31.570141",
     "status": "completed"
    },
    "tags": []
   },
   "source": [
    "Inspect your predictions and actual values from validation data."
   ]
  },
  {
   "cell_type": "code",
   "execution_count": 8,
   "id": "5ab037d4",
   "metadata": {
    "execution": {
     "iopub.execute_input": "2024-01-30T20:49:31.594397Z",
     "iopub.status.busy": "2024-01-30T20:49:31.593968Z",
     "iopub.status.idle": "2024-01-30T20:49:31.600598Z",
     "shell.execute_reply": "2024-01-30T20:49:31.599603Z"
    },
    "papermill": {
     "duration": 0.018132,
     "end_time": "2024-01-30T20:49:31.603124",
     "exception": false,
     "start_time": "2024-01-30T20:49:31.584992",
     "status": "completed"
    },
    "tags": []
   },
   "outputs": [
    {
     "name": "stdout",
     "output_type": "stream",
     "text": [
      "[186500. 184000. 130000.]\n",
      "258    231500\n",
      "267    179500\n",
      "288    122000\n",
      "Name: SalePrice, dtype: int64\n"
     ]
    }
   ],
   "source": [
    "# print the top few validation predictions\n",
    "print(val_predictions[0:3])\n",
    "# print the top few actual prices from validation data\n",
    "print(val_y[0:3])"
   ]
  },
  {
   "cell_type": "markdown",
   "id": "a68c599b",
   "metadata": {
    "papermill": {
     "duration": 0.007421,
     "end_time": "2024-01-30T20:49:31.618267",
     "exception": false,
     "start_time": "2024-01-30T20:49:31.610846",
     "status": "completed"
    },
    "tags": []
   },
   "source": [
    "What do you notice that is different from what you saw with in-sample predictions (which are printed after the top code cell in this page).\n",
    "\n",
    "Do you remember why validation predictions differ from in-sample (or training) predictions? This is an important idea from the last lesson.\n",
    "\n",
    "## Step 4: Calculate the Mean Absolute Error in Validation Data\n"
   ]
  },
  {
   "cell_type": "code",
   "execution_count": 9,
   "id": "6595ebc0",
   "metadata": {
    "execution": {
     "iopub.execute_input": "2024-01-30T20:49:31.636775Z",
     "iopub.status.busy": "2024-01-30T20:49:31.636327Z",
     "iopub.status.idle": "2024-01-30T20:49:31.647434Z",
     "shell.execute_reply": "2024-01-30T20:49:31.646381Z"
    },
    "papermill": {
     "duration": 0.022584,
     "end_time": "2024-01-30T20:49:31.649810",
     "exception": false,
     "start_time": "2024-01-30T20:49:31.627226",
     "status": "completed"
    },
    "tags": []
   },
   "outputs": [
    {
     "name": "stdout",
     "output_type": "stream",
     "text": [
      "29652.931506849316\n"
     ]
    },
    {
     "data": {
      "application/javascript": [
       "parent.postMessage({\"jupyterEvent\": \"custom.exercise_interaction\", \"data\": {\"outcomeType\": 1, \"valueTowardsCompletion\": 0.25, \"interactionType\": 1, \"questionType\": 1, \"questionId\": \"4_MAE\", \"learnToolsVersion\": \"0.3.4\", \"failureMessage\": \"\", \"exceptionClass\": \"\", \"trace\": \"\"}}, \"*\")"
      ],
      "text/plain": [
       "<IPython.core.display.Javascript object>"
      ]
     },
     "metadata": {},
     "output_type": "display_data"
    },
    {
     "data": {
      "text/markdown": [
       "<span style=\"color:#33cc33\">Correct</span>"
      ],
      "text/plain": [
       "Correct"
      ]
     },
     "metadata": {},
     "output_type": "display_data"
    }
   ],
   "source": [
    "from sklearn.metrics import mean_absolute_error\n",
    "val_mae = mean_absolute_error(val_y, val_predictions)\n",
    "\n",
    "# uncomment following line to see the validation_mae\n",
    "print(val_mae)\n",
    "\n",
    "# Check your answer\n",
    "step_4.check()"
   ]
  },
  {
   "cell_type": "code",
   "execution_count": 10,
   "id": "42d3f5e4",
   "metadata": {
    "execution": {
     "iopub.execute_input": "2024-01-30T20:49:31.667807Z",
     "iopub.status.busy": "2024-01-30T20:49:31.666996Z",
     "iopub.status.idle": "2024-01-30T20:49:31.671692Z",
     "shell.execute_reply": "2024-01-30T20:49:31.670586Z"
    },
    "papermill": {
     "duration": 0.016409,
     "end_time": "2024-01-30T20:49:31.674191",
     "exception": false,
     "start_time": "2024-01-30T20:49:31.657782",
     "status": "completed"
    },
    "tags": []
   },
   "outputs": [],
   "source": [
    "# step_4.hint()\n",
    "# step_4.solution()"
   ]
  },
  {
   "cell_type": "markdown",
   "id": "6b271eac",
   "metadata": {
    "papermill": {
     "duration": 0.008033,
     "end_time": "2024-01-30T20:49:31.690406",
     "exception": false,
     "start_time": "2024-01-30T20:49:31.682373",
     "status": "completed"
    },
    "tags": []
   },
   "source": [
    "Is that MAE good?  There isn't a general rule for what values are good that applies across applications. But you'll see how to use (and improve) this number in the next step.\n",
    "\n",
    "# Keep Going\n",
    "\n",
    "You are ready for **[Underfitting and Overfitting](https://www.kaggle.com/dansbecker/underfitting-and-overfitting).**\n"
   ]
  },
  {
   "cell_type": "markdown",
   "id": "dc22ec2d",
   "metadata": {
    "papermill": {
     "duration": 0.00779,
     "end_time": "2024-01-30T20:49:31.706329",
     "exception": false,
     "start_time": "2024-01-30T20:49:31.698539",
     "status": "completed"
    },
    "tags": []
   },
   "source": [
    "---\n",
    "\n",
    "\n",
    "\n",
    "\n",
    "*Have questions or comments? Visit the [course discussion forum](https://www.kaggle.com/learn/intro-to-machine-learning/discussion) to chat with other learners.*"
   ]
  }
 ],
 "metadata": {
  "kaggle": {
   "accelerator": "none",
   "dataSources": [
    {
     "databundleVersionId": 111096,
     "sourceId": 10211,
     "sourceType": "competition"
    },
    {
     "datasetId": 11167,
     "sourceId": 15520,
     "sourceType": "datasetVersion"
    },
    {
     "datasetId": 2709,
     "sourceId": 38454,
     "sourceType": "datasetVersion"
    }
   ],
   "isGpuEnabled": false,
   "isInternetEnabled": false,
   "language": "python",
   "sourceType": "notebook"
  },
  "kernelspec": {
   "display_name": "Python 3",
   "language": "python",
   "name": "python3"
  },
  "language_info": {
   "codemirror_mode": {
    "name": "ipython",
    "version": 3
   },
   "file_extension": ".py",
   "mimetype": "text/x-python",
   "name": "python",
   "nbconvert_exporter": "python",
   "pygments_lexer": "ipython3",
   "version": "3.10.13"
  },
  "papermill": {
   "default_parameters": {},
   "duration": 7.643093,
   "end_time": "2024-01-30T20:49:32.435572",
   "environment_variables": {},
   "exception": null,
   "input_path": "__notebook__.ipynb",
   "output_path": "__notebook__.ipynb",
   "parameters": {},
   "start_time": "2024-01-30T20:49:24.792479",
   "version": "2.5.0"
  }
 },
 "nbformat": 4,
 "nbformat_minor": 5
}
