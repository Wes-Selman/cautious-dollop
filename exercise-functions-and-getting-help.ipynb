{
 "cells": [
  {
   "cell_type": "markdown",
   "id": "0ba10d38",
   "metadata": {
    "papermill": {
     "duration": 0.007339,
     "end_time": "2024-01-30T20:39:13.955976",
     "exception": false,
     "start_time": "2024-01-30T20:39:13.948637",
     "status": "completed"
    },
    "tags": []
   },
   "source": [
    "**This notebook is an exercise in the [Python](https://www.kaggle.com/learn/python) course.  You can reference the tutorial at [this link](https://www.kaggle.com/colinmorris/functions-and-getting-help).**\n",
    "\n",
    "---\n"
   ]
  },
  {
   "cell_type": "markdown",
   "id": "f639e43c",
   "metadata": {
    "papermill": {
     "duration": 0.005864,
     "end_time": "2024-01-30T20:39:13.968928",
     "exception": false,
     "start_time": "2024-01-30T20:39:13.963064",
     "status": "completed"
    },
    "tags": []
   },
   "source": [
    "Functions are powerful. Try writing some yourself.\n",
    "\n",
    "As before, don't forget to run the setup code below before jumping into question 1."
   ]
  },
  {
   "cell_type": "code",
   "execution_count": 1,
   "id": "1dba9c21",
   "metadata": {
    "_kg_hide-input": true,
    "_kg_hide-output": true,
    "execution": {
     "iopub.execute_input": "2024-01-30T20:39:13.983037Z",
     "iopub.status.busy": "2024-01-30T20:39:13.982628Z",
     "iopub.status.idle": "2024-01-30T20:39:15.056627Z",
     "shell.execute_reply": "2024-01-30T20:39:15.055344Z"
    },
    "papermill": {
     "duration": 1.08435,
     "end_time": "2024-01-30T20:39:15.059338",
     "exception": false,
     "start_time": "2024-01-30T20:39:13.974988",
     "status": "completed"
    },
    "tags": []
   },
   "outputs": [
    {
     "name": "stdout",
     "output_type": "stream",
     "text": [
      "Setup complete.\n"
     ]
    }
   ],
   "source": [
    "# SETUP. You don't need to worry for now about what this code does or how it works.\n",
    "from learntools.core import binder; binder.bind(globals())\n",
    "from learntools.python.ex2 import *\n",
    "print('Setup complete.')"
   ]
  },
  {
   "cell_type": "markdown",
   "id": "02c0c07b",
   "metadata": {
    "papermill": {
     "duration": 0.006125,
     "end_time": "2024-01-30T20:39:15.071997",
     "exception": false,
     "start_time": "2024-01-30T20:39:15.065872",
     "status": "completed"
    },
    "tags": []
   },
   "source": [
    "# 1.\n",
    "\n",
    "Complete the body of the following function according to its docstring.\n",
    "\n",
    "HINT: Python has a built-in function `round`."
   ]
  },
  {
   "cell_type": "code",
   "execution_count": 2,
   "id": "bf9be80a",
   "metadata": {
    "execution": {
     "iopub.execute_input": "2024-01-30T20:39:15.086638Z",
     "iopub.status.busy": "2024-01-30T20:39:15.086106Z",
     "iopub.status.idle": "2024-01-30T20:39:15.098287Z",
     "shell.execute_reply": "2024-01-30T20:39:15.096984Z"
    },
    "papermill": {
     "duration": 0.022494,
     "end_time": "2024-01-30T20:39:15.100812",
     "exception": false,
     "start_time": "2024-01-30T20:39:15.078318",
     "status": "completed"
    },
    "tags": []
   },
   "outputs": [
    {
     "data": {
      "application/javascript": [
       "parent.postMessage({\"jupyterEvent\": \"custom.exercise_interaction\", \"data\": {\"outcomeType\": 1, \"valueTowardsCompletion\": 0.16666666666666666, \"interactionType\": 1, \"questionType\": 2, \"questionId\": \"1_RoundFunctionProblem\", \"learnToolsVersion\": \"0.3.4\", \"failureMessage\": \"\", \"exceptionClass\": \"\", \"trace\": \"\"}}, \"*\")"
      ],
      "text/plain": [
       "<IPython.core.display.Javascript object>"
      ]
     },
     "metadata": {},
     "output_type": "display_data"
    },
    {
     "data": {
      "text/markdown": [
       "<span style=\"color:#33cc33\">Correct</span>"
      ],
      "text/plain": [
       "Correct"
      ]
     },
     "metadata": {},
     "output_type": "display_data"
    }
   ],
   "source": [
    "def round_to_two_places(num):\n",
    "    \"\"\"Return the given number rounded to two decimal places. \n",
    "    \n",
    "    >>> round_to_two_places(3.14159)\n",
    "    3.14\n",
    "    \"\"\"\n",
    "    # Replace this body with your own code.\n",
    "    # (\"pass\" is a keyword that does literally nothing. We used it as a placeholder\n",
    "    # because after we begin a code block, Python requires at least one line of code)\n",
    "    return round(num,2)\n",
    "\n",
    "round_to_two_places(3.14159)\n",
    "    \n",
    "    \n",
    "    \n",
    "# Check your answer\n",
    "q1.check()"
   ]
  },
  {
   "cell_type": "code",
   "execution_count": 3,
   "id": "e90fee3a",
   "metadata": {
    "execution": {
     "iopub.execute_input": "2024-01-30T20:39:15.116315Z",
     "iopub.status.busy": "2024-01-30T20:39:15.115884Z",
     "iopub.status.idle": "2024-01-30T20:39:15.120478Z",
     "shell.execute_reply": "2024-01-30T20:39:15.119434Z"
    },
    "papermill": {
     "duration": 0.015255,
     "end_time": "2024-01-30T20:39:15.122834",
     "exception": false,
     "start_time": "2024-01-30T20:39:15.107579",
     "status": "completed"
    },
    "tags": []
   },
   "outputs": [],
   "source": [
    "# Uncomment the following for a hint\n",
    "#q1.hint()\n",
    "# Or uncomment the following to peek at the solution\n",
    "#q1.solution()"
   ]
  },
  {
   "cell_type": "markdown",
   "id": "699a1094",
   "metadata": {
    "papermill": {
     "duration": 0.006624,
     "end_time": "2024-01-30T20:39:15.136260",
     "exception": false,
     "start_time": "2024-01-30T20:39:15.129636",
     "status": "completed"
    },
    "tags": []
   },
   "source": [
    "# 2.\n",
    "The help for `round` says that `ndigits` (the second argument) may be negative.\n",
    "What do you think will happen when it is? Try some examples in the following cell."
   ]
  },
  {
   "cell_type": "code",
   "execution_count": 4,
   "id": "2e92da99",
   "metadata": {
    "execution": {
     "iopub.execute_input": "2024-01-30T20:39:15.151450Z",
     "iopub.status.busy": "2024-01-30T20:39:15.151036Z",
     "iopub.status.idle": "2024-01-30T20:39:15.162824Z",
     "shell.execute_reply": "2024-01-30T20:39:15.161742Z"
    },
    "papermill": {
     "duration": 0.022212,
     "end_time": "2024-01-30T20:39:15.165190",
     "exception": false,
     "start_time": "2024-01-30T20:39:15.142978",
     "status": "completed"
    },
    "tags": []
   },
   "outputs": [
    {
     "name": "stdout",
     "output_type": "stream",
     "text": [
      "49600.0\n"
     ]
    },
    {
     "data": {
      "application/javascript": [
       "parent.postMessage({\"jupyterEvent\": \"custom.exercise_interaction\", \"data\": {\"outcomeType\": 1, \"valueTowardsCompletion\": 0.16666666666666666, \"interactionType\": 1, \"questionType\": 2, \"questionId\": \"1_RoundFunctionProblem\", \"learnToolsVersion\": \"0.3.4\", \"failureMessage\": \"\", \"exceptionClass\": \"\", \"trace\": \"\"}}, \"*\")"
      ],
      "text/plain": [
       "<IPython.core.display.Javascript object>"
      ]
     },
     "metadata": {},
     "output_type": "display_data"
    },
    {
     "data": {
      "text/markdown": [
       "<span style=\"color:#33cc33\">Correct</span>"
      ],
      "text/plain": [
       "Correct"
      ]
     },
     "metadata": {},
     "output_type": "display_data"
    }
   ],
   "source": [
    "# Put your test code here\n",
    "\n",
    "def round_to_twoneg_places(num):\n",
    "    \"\"\"Return the given number rounded to two decimal places. \n",
    "    \n",
    "    >>> round_to_two_places(3.14159)\n",
    "    3.14\n",
    "    \"\"\"\n",
    "    # Replace this body with your own code.\n",
    "    # (\"pass\" is a keyword that does literally nothing. We used it as a placeholder\n",
    "    # because after we begin a code block, Python requires at least one line of code)\n",
    "    \n",
    "    return round(num,-2)\n",
    "\n",
    "print(round_to_twoneg_places(49583.29355))\n",
    "    \n",
    "    \n",
    "    \n",
    "# Check your answer\n",
    "q1.check()"
   ]
  },
  {
   "cell_type": "markdown",
   "id": "383a9a77",
   "metadata": {
    "papermill": {
     "duration": 0.006855,
     "end_time": "2024-01-30T20:39:15.179237",
     "exception": false,
     "start_time": "2024-01-30T20:39:15.172382",
     "status": "completed"
    },
    "tags": []
   },
   "source": [
    "Can you think of a case where this would be useful?  Once you're ready, run the code cell below to see the answer and to receive credit for completing the problem."
   ]
  },
  {
   "cell_type": "code",
   "execution_count": 5,
   "id": "53ea3242",
   "metadata": {
    "execution": {
     "iopub.execute_input": "2024-01-30T20:39:15.195144Z",
     "iopub.status.busy": "2024-01-30T20:39:15.194721Z",
     "iopub.status.idle": "2024-01-30T20:39:15.203356Z",
     "shell.execute_reply": "2024-01-30T20:39:15.202206Z"
    },
    "papermill": {
     "duration": 0.019251,
     "end_time": "2024-01-30T20:39:15.205544",
     "exception": false,
     "start_time": "2024-01-30T20:39:15.186293",
     "status": "completed"
    },
    "tags": []
   },
   "outputs": [
    {
     "data": {
      "application/javascript": [
       "parent.postMessage({\"jupyterEvent\": \"custom.exercise_interaction\", \"data\": {\"interactionType\": 3, \"questionType\": 4, \"questionId\": \"2_RoundNdigitsProblem\", \"learnToolsVersion\": \"0.3.4\", \"valueTowardsCompletion\": 0.0, \"failureMessage\": \"\", \"exceptionClass\": \"\", \"trace\": \"\", \"outcomeType\": 4}}, \"*\")"
      ],
      "text/plain": [
       "<IPython.core.display.Javascript object>"
      ]
     },
     "metadata": {},
     "output_type": "display_data"
    },
    {
     "data": {
      "text/markdown": [
       "<span style=\"color:#33cc99\">Solution:</span> As you've seen, `ndigits=-1` rounds to the nearest 10, `ndigits=-2` rounds to the nearest 100 and so on. Where might this be useful? Suppose we're dealing with large numbers:\n",
       "\n",
       "> The area of Finland is 338,424 km²  \n",
       "> The area of Greenland is 2,166,086 km²\n",
       "\n",
       "We probably don't care whether it's really 338,424, or 338,425, or 338,177. All those digits of accuracy are just distracting. We can chop them off by calling `round()` with `ndigits=-3`:\n",
       "\n",
       "> The area of Finland is 338,000 km²  \n",
       "> The area of Greenland is 2,166,000 km²\n",
       "\n",
       "(We'll talk about how we would get the commas later when we talk about string formatting :))\n"
      ],
      "text/plain": [
       "Solution: As you've seen, `ndigits=-1` rounds to the nearest 10, `ndigits=-2` rounds to the nearest 100 and so on. Where might this be useful? Suppose we're dealing with large numbers:\n",
       "\n",
       "> The area of Finland is 338,424 km²  \n",
       "> The area of Greenland is 2,166,086 km²\n",
       "\n",
       "We probably don't care whether it's really 338,424, or 338,425, or 338,177. All those digits of accuracy are just distracting. We can chop them off by calling `round()` with `ndigits=-3`:\n",
       "\n",
       "> The area of Finland is 338,000 km²  \n",
       "> The area of Greenland is 2,166,000 km²\n",
       "\n",
       "(We'll talk about how we would get the commas later when we talk about string formatting :))"
      ]
     },
     "metadata": {},
     "output_type": "display_data"
    }
   ],
   "source": [
    "# Check your answer (Run this code cell to receive credit!)\n",
    "q2.solution()"
   ]
  },
  {
   "cell_type": "markdown",
   "id": "37b3a096",
   "metadata": {
    "papermill": {
     "duration": 0.007259,
     "end_time": "2024-01-30T20:39:15.220423",
     "exception": false,
     "start_time": "2024-01-30T20:39:15.213164",
     "status": "completed"
    },
    "tags": []
   },
   "source": [
    "# 3.\n",
    "\n",
    "In the previous exercise, the candy-sharing friends Alice, Bob and Carol tried to split candies evenly. For the sake of their friendship, any candies left over would be smashed. For example, if they collectively bring home 91 candies, they'll take 30 each and smash 1.\n",
    "\n",
    "Below is a simple function that will calculate the number of candies to smash for *any* number of total candies.\n",
    "\n",
    "Modify it so that it optionally takes a second argument representing the number of friends the candies are being split between. If no second argument is provided, it should assume 3 friends, as before.\n",
    "\n",
    "Update the docstring to reflect this new behaviour."
   ]
  },
  {
   "cell_type": "code",
   "execution_count": 6,
   "id": "29a826c2",
   "metadata": {
    "execution": {
     "iopub.execute_input": "2024-01-30T20:39:15.237451Z",
     "iopub.status.busy": "2024-01-30T20:39:15.237076Z",
     "iopub.status.idle": "2024-01-30T20:39:15.246382Z",
     "shell.execute_reply": "2024-01-30T20:39:15.245401Z"
    },
    "papermill": {
     "duration": 0.02085,
     "end_time": "2024-01-30T20:39:15.248871",
     "exception": false,
     "start_time": "2024-01-30T20:39:15.228021",
     "status": "completed"
    },
    "tags": []
   },
   "outputs": [
    {
     "data": {
      "application/javascript": [
       "parent.postMessage({\"jupyterEvent\": \"custom.exercise_interaction\", \"data\": {\"outcomeType\": 1, \"valueTowardsCompletion\": 0.16666666666666666, \"interactionType\": 1, \"questionType\": 2, \"questionId\": \"3_CandySmashingFunctionProblem\", \"learnToolsVersion\": \"0.3.4\", \"failureMessage\": \"\", \"exceptionClass\": \"\", \"trace\": \"\"}}, \"*\")"
      ],
      "text/plain": [
       "<IPython.core.display.Javascript object>"
      ]
     },
     "metadata": {},
     "output_type": "display_data"
    },
    {
     "data": {
      "text/markdown": [
       "<span style=\"color:#33cc33\">Correct</span>"
      ],
      "text/plain": [
       "Correct"
      ]
     },
     "metadata": {},
     "output_type": "display_data"
    }
   ],
   "source": [
    "def to_smash(total_candies,friends=3):\n",
    "    \"\"\"Return the number of leftover candies that must be smashed after distributing\n",
    "    the given number of candies evenly between 3 friends.\n",
    "    \n",
    "    >>> to_smash(91)\n",
    "    1\n",
    "    \"\"\"\n",
    "    return total_candies % friends\n",
    "\n",
    "# Check your answer\n",
    "q3.check()"
   ]
  },
  {
   "cell_type": "code",
   "execution_count": 7,
   "id": "cdb9957c",
   "metadata": {
    "execution": {
     "iopub.execute_input": "2024-01-30T20:39:15.266122Z",
     "iopub.status.busy": "2024-01-30T20:39:15.265717Z",
     "iopub.status.idle": "2024-01-30T20:39:15.270877Z",
     "shell.execute_reply": "2024-01-30T20:39:15.269454Z"
    },
    "papermill": {
     "duration": 0.016516,
     "end_time": "2024-01-30T20:39:15.273158",
     "exception": false,
     "start_time": "2024-01-30T20:39:15.256642",
     "status": "completed"
    },
    "tags": []
   },
   "outputs": [],
   "source": [
    "#q3.hint()"
   ]
  },
  {
   "cell_type": "code",
   "execution_count": 8,
   "id": "32d89e3d",
   "metadata": {
    "execution": {
     "iopub.execute_input": "2024-01-30T20:39:15.291312Z",
     "iopub.status.busy": "2024-01-30T20:39:15.290934Z",
     "iopub.status.idle": "2024-01-30T20:39:15.295389Z",
     "shell.execute_reply": "2024-01-30T20:39:15.294417Z"
    },
    "papermill": {
     "duration": 0.015477,
     "end_time": "2024-01-30T20:39:15.297504",
     "exception": false,
     "start_time": "2024-01-30T20:39:15.282027",
     "status": "completed"
    },
    "tags": []
   },
   "outputs": [],
   "source": [
    "#q3.solution()"
   ]
  },
  {
   "cell_type": "markdown",
   "id": "311ed696",
   "metadata": {
    "papermill": {
     "duration": 0.007599,
     "end_time": "2024-01-30T20:39:15.313388",
     "exception": false,
     "start_time": "2024-01-30T20:39:15.305789",
     "status": "completed"
    },
    "tags": []
   },
   "source": [
    "# 4. (Optional)\n",
    "\n",
    "It may not be fun, but reading and understanding error messages will be an important part of your Python career.\n",
    "\n",
    "Each code cell below contains some commented buggy code. For each cell...\n",
    "\n",
    "1. Read the code and predict what you think will happen when it's run.\n",
    "2. Then uncomment the code and run it to see what happens. (**Tip**: In the kernel editor, you can highlight several lines and press `ctrl`+`/` to toggle commenting.)\n",
    "3. Fix the code (so that it accomplishes its intended purpose without throwing an exception)\n",
    "\n",
    "<!-- TODO: should this be autochecked? Delta is probably pretty small. -->"
   ]
  },
  {
   "cell_type": "code",
   "execution_count": 9,
   "id": "9963bc9a",
   "metadata": {
    "execution": {
     "iopub.execute_input": "2024-01-30T20:39:15.331300Z",
     "iopub.status.busy": "2024-01-30T20:39:15.330939Z",
     "iopub.status.idle": "2024-01-30T20:39:15.337523Z",
     "shell.execute_reply": "2024-01-30T20:39:15.336579Z"
    },
    "papermill": {
     "duration": 0.018209,
     "end_time": "2024-01-30T20:39:15.339867",
     "exception": false,
     "start_time": "2024-01-30T20:39:15.321658",
     "status": "completed"
    },
    "tags": []
   },
   "outputs": [
    {
     "data": {
      "text/plain": [
       "10.0"
      ]
     },
     "execution_count": 9,
     "metadata": {},
     "output_type": "execute_result"
    }
   ],
   "source": [
    "round_to_two_places(9.9999)"
   ]
  },
  {
   "cell_type": "code",
   "execution_count": 10,
   "id": "8cee61b8",
   "metadata": {
    "execution": {
     "iopub.execute_input": "2024-01-30T20:39:15.357813Z",
     "iopub.status.busy": "2024-01-30T20:39:15.357408Z",
     "iopub.status.idle": "2024-01-30T20:39:15.363891Z",
     "shell.execute_reply": "2024-01-30T20:39:15.362699Z"
    },
    "papermill": {
     "duration": 0.018331,
     "end_time": "2024-01-30T20:39:15.366292",
     "exception": false,
     "start_time": "2024-01-30T20:39:15.347961",
     "status": "completed"
    },
    "tags": []
   },
   "outputs": [
    {
     "name": "stdout",
     "output_type": "stream",
     "text": [
      "5\n"
     ]
    }
   ],
   "source": [
    "x = -10\n",
    "y = 5\n",
    "# # Which of the two variables above has the smallest absolute value?\n",
    "smallest_abs = min(abs(x),abs(y))\n",
    "\n",
    "print(smallest_abs)"
   ]
  },
  {
   "cell_type": "code",
   "execution_count": 11,
   "id": "cf0d3f9c",
   "metadata": {
    "execution": {
     "iopub.execute_input": "2024-01-30T20:39:15.384503Z",
     "iopub.status.busy": "2024-01-30T20:39:15.384117Z",
     "iopub.status.idle": "2024-01-30T20:39:15.390152Z",
     "shell.execute_reply": "2024-01-30T20:39:15.389140Z"
    },
    "papermill": {
     "duration": 0.018163,
     "end_time": "2024-01-30T20:39:15.392641",
     "exception": false,
     "start_time": "2024-01-30T20:39:15.374478",
     "status": "completed"
    },
    "tags": []
   },
   "outputs": [
    {
     "name": "stdout",
     "output_type": "stream",
     "text": [
      "20\n"
     ]
    }
   ],
   "source": [
    "def f(x):\n",
    "    y = abs(x)\n",
    "    return y\n",
    "\n",
    "print(f(-20))"
   ]
  },
  {
   "cell_type": "markdown",
   "id": "0ee5ea1b",
   "metadata": {
    "papermill": {
     "duration": 0.008023,
     "end_time": "2024-01-30T20:39:15.409446",
     "exception": false,
     "start_time": "2024-01-30T20:39:15.401423",
     "status": "completed"
    },
    "tags": []
   },
   "source": [
    "# Keep Going\n",
    "\n",
    "Nice job with the code. Next up, you'll learn about *conditionals*, which you'll need to **[write interesting programs](https://www.kaggle.com/colinmorris/booleans-and-conditionals)**. "
   ]
  },
  {
   "cell_type": "markdown",
   "id": "cff950e9",
   "metadata": {
    "papermill": {
     "duration": 0.008007,
     "end_time": "2024-01-30T20:39:15.425712",
     "exception": false,
     "start_time": "2024-01-30T20:39:15.417705",
     "status": "completed"
    },
    "tags": []
   },
   "source": [
    "---\n",
    "\n",
    "\n",
    "\n",
    "\n",
    "*Have questions or comments? Visit the [course discussion forum](https://www.kaggle.com/learn/python/discussion) to chat with other learners.*"
   ]
  }
 ],
 "metadata": {
  "kaggle": {
   "accelerator": "none",
   "dataSources": [],
   "isGpuEnabled": false,
   "isInternetEnabled": false,
   "language": "python",
   "sourceType": "notebook"
  },
  "kernelspec": {
   "display_name": "Python 3",
   "language": "python",
   "name": "python3"
  },
  "language_info": {
   "codemirror_mode": {
    "name": "ipython",
    "version": 3
   },
   "file_extension": ".py",
   "mimetype": "text/x-python",
   "name": "python",
   "nbconvert_exporter": "python",
   "pygments_lexer": "ipython3",
   "version": "3.10.13"
  },
  "papermill": {
   "default_parameters": {},
   "duration": 5.05581,
   "end_time": "2024-01-30T20:39:15.854223",
   "environment_variables": {},
   "exception": null,
   "input_path": "__notebook__.ipynb",
   "output_path": "__notebook__.ipynb",
   "parameters": {},
   "start_time": "2024-01-30T20:39:10.798413",
   "version": "2.5.0"
  }
 },
 "nbformat": 4,
 "nbformat_minor": 5
}
