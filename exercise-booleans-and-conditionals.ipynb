{
 "cells": [
  {
   "cell_type": "markdown",
   "id": "f963640b",
   "metadata": {
    "papermill": {
     "duration": 0.012546,
     "end_time": "2024-01-30T20:39:40.045146",
     "exception": false,
     "start_time": "2024-01-30T20:39:40.032600",
     "status": "completed"
    },
    "tags": []
   },
   "source": [
    "**This notebook is an exercise in the [Python](https://www.kaggle.com/learn/python) course.  You can reference the tutorial at [this link](https://www.kaggle.com/colinmorris/booleans-and-conditionals).**\n",
    "\n",
    "---\n"
   ]
  },
  {
   "cell_type": "markdown",
   "id": "0570d55e",
   "metadata": {
    "papermill": {
     "duration": 0.011433,
     "end_time": "2024-01-30T20:39:40.068629",
     "exception": false,
     "start_time": "2024-01-30T20:39:40.057196",
     "status": "completed"
    },
    "tags": []
   },
   "source": [
    "In this exercise, you'll put to work what you have learned about booleans and conditionals.\n",
    "\n",
    "To get started, **run the setup code below** before writing your own code (and if you leave this notebook and come back later, don't forget to run the setup code again)."
   ]
  },
  {
   "cell_type": "code",
   "execution_count": 1,
   "id": "e44e662a",
   "metadata": {
    "execution": {
     "iopub.execute_input": "2024-01-30T20:39:40.094920Z",
     "iopub.status.busy": "2024-01-30T20:39:40.093950Z",
     "iopub.status.idle": "2024-01-30T20:39:41.326031Z",
     "shell.execute_reply": "2024-01-30T20:39:41.324664Z"
    },
    "papermill": {
     "duration": 1.248695,
     "end_time": "2024-01-30T20:39:41.329115",
     "exception": false,
     "start_time": "2024-01-30T20:39:40.080420",
     "status": "completed"
    },
    "tags": []
   },
   "outputs": [
    {
     "name": "stdout",
     "output_type": "stream",
     "text": [
      "Setup complete.\n"
     ]
    }
   ],
   "source": [
    "from learntools.core import binder; binder.bind(globals())\n",
    "from learntools.python.ex3 import *\n",
    "print('Setup complete.')"
   ]
  },
  {
   "cell_type": "markdown",
   "id": "2f8694c3",
   "metadata": {
    "papermill": {
     "duration": 0.01213,
     "end_time": "2024-01-30T20:39:41.354288",
     "exception": false,
     "start_time": "2024-01-30T20:39:41.342158",
     "status": "completed"
    },
    "tags": []
   },
   "source": [
    "# 1.\n",
    "\n",
    "Many programming languages have [`sign`](https://en.wikipedia.org/wiki/Sign_function) available as a built-in function. Python doesn't, but we can define our own!\n",
    "\n",
    "In the cell below, define a function called `sign` which takes a numerical argument and returns -1 if it's negative, 1 if it's positive, and 0 if it's 0."
   ]
  },
  {
   "cell_type": "code",
   "execution_count": 2,
   "id": "9e9020c9",
   "metadata": {
    "execution": {
     "iopub.execute_input": "2024-01-30T20:39:41.382525Z",
     "iopub.status.busy": "2024-01-30T20:39:41.381916Z",
     "iopub.status.idle": "2024-01-30T20:39:41.395992Z",
     "shell.execute_reply": "2024-01-30T20:39:41.394752Z"
    },
    "papermill": {
     "duration": 0.031791,
     "end_time": "2024-01-30T20:39:41.398599",
     "exception": false,
     "start_time": "2024-01-30T20:39:41.366808",
     "status": "completed"
    },
    "tags": []
   },
   "outputs": [
    {
     "data": {
      "application/javascript": [
       "parent.postMessage({\"jupyterEvent\": \"custom.exercise_interaction\", \"data\": {\"outcomeType\": 1, \"valueTowardsCompletion\": 0.2, \"interactionType\": 1, \"questionType\": 2, \"questionId\": \"1_SignFunctionProblem\", \"learnToolsVersion\": \"0.3.4\", \"failureMessage\": \"\", \"exceptionClass\": \"\", \"trace\": \"\"}}, \"*\")"
      ],
      "text/plain": [
       "<IPython.core.display.Javascript object>"
      ]
     },
     "metadata": {},
     "output_type": "display_data"
    },
    {
     "data": {
      "text/markdown": [
       "<span style=\"color:#33cc33\">Correct</span>"
      ],
      "text/plain": [
       "Correct"
      ]
     },
     "metadata": {},
     "output_type": "display_data"
    }
   ],
   "source": [
    "# Your code goes here. Define a function called 'sign'\n",
    "def sign(n):\n",
    "    if n < 0:\n",
    "        return -1\n",
    "    elif n > 0:\n",
    "        return 1\n",
    "    elif n == 0:\n",
    "        return 0\n",
    "# Check your answer\n",
    "q1.check()"
   ]
  },
  {
   "cell_type": "code",
   "execution_count": 3,
   "id": "b2631af9",
   "metadata": {
    "execution": {
     "iopub.execute_input": "2024-01-30T20:39:41.430500Z",
     "iopub.status.busy": "2024-01-30T20:39:41.429204Z",
     "iopub.status.idle": "2024-01-30T20:39:41.435165Z",
     "shell.execute_reply": "2024-01-30T20:39:41.434208Z"
    },
    "papermill": {
     "duration": 0.024219,
     "end_time": "2024-01-30T20:39:41.437560",
     "exception": false,
     "start_time": "2024-01-30T20:39:41.413341",
     "status": "completed"
    },
    "tags": []
   },
   "outputs": [],
   "source": [
    "#q1.solution()"
   ]
  },
  {
   "cell_type": "markdown",
   "id": "7964241b",
   "metadata": {
    "papermill": {
     "duration": 0.012174,
     "end_time": "2024-01-30T20:39:41.464451",
     "exception": false,
     "start_time": "2024-01-30T20:39:41.452277",
     "status": "completed"
    },
    "tags": []
   },
   "source": [
    "# 2.\n",
    "\n",
    "We've decided to add \"logging\" to our `to_smash` function from the previous exercise."
   ]
  },
  {
   "cell_type": "code",
   "execution_count": 4,
   "id": "d23cce31",
   "metadata": {
    "execution": {
     "iopub.execute_input": "2024-01-30T20:39:41.493006Z",
     "iopub.status.busy": "2024-01-30T20:39:41.492518Z",
     "iopub.status.idle": "2024-01-30T20:39:41.502097Z",
     "shell.execute_reply": "2024-01-30T20:39:41.500766Z"
    },
    "papermill": {
     "duration": 0.027217,
     "end_time": "2024-01-30T20:39:41.505600",
     "exception": false,
     "start_time": "2024-01-30T20:39:41.478383",
     "status": "completed"
    },
    "tags": []
   },
   "outputs": [
    {
     "name": "stdout",
     "output_type": "stream",
     "text": [
      "Splitting 1 candies\n"
     ]
    },
    {
     "data": {
      "text/plain": [
       "1"
      ]
     },
     "execution_count": 4,
     "metadata": {},
     "output_type": "execute_result"
    }
   ],
   "source": [
    "def to_smash(total_candies):\n",
    "    \"\"\"Return the number of leftover candies that must be smashed after distributing\n",
    "    the given number of candies evenly between 3 friends.\n",
    "    \n",
    "    >>> to_smash(91)\n",
    "    1\n",
    "    \"\"\"\n",
    "    print(\"Splitting\", total_candies, \"candies\")\n",
    "    return total_candies % 3\n",
    "\n",
    "to_smash(1)"
   ]
  },
  {
   "cell_type": "markdown",
   "id": "9c85272a",
   "metadata": {
    "papermill": {
     "duration": 0.014361,
     "end_time": "2024-01-30T20:39:41.532849",
     "exception": false,
     "start_time": "2024-01-30T20:39:41.518488",
     "status": "completed"
    },
    "tags": []
   },
   "source": [
    "What happens if we call it with `total_candies = 1`?"
   ]
  },
  {
   "cell_type": "code",
   "execution_count": 5,
   "id": "fbded71b",
   "metadata": {
    "execution": {
     "iopub.execute_input": "2024-01-30T20:39:41.561590Z",
     "iopub.status.busy": "2024-01-30T20:39:41.560247Z",
     "iopub.status.idle": "2024-01-30T20:39:41.569638Z",
     "shell.execute_reply": "2024-01-30T20:39:41.568216Z"
    },
    "papermill": {
     "duration": 0.026358,
     "end_time": "2024-01-30T20:39:41.572179",
     "exception": false,
     "start_time": "2024-01-30T20:39:41.545821",
     "status": "completed"
    },
    "tags": []
   },
   "outputs": [
    {
     "name": "stdout",
     "output_type": "stream",
     "text": [
      "Splitting 1 candies\n"
     ]
    },
    {
     "data": {
      "text/plain": [
       "1"
      ]
     },
     "execution_count": 5,
     "metadata": {},
     "output_type": "execute_result"
    }
   ],
   "source": [
    "to_smash(1)"
   ]
  },
  {
   "cell_type": "markdown",
   "id": "f05ca760",
   "metadata": {
    "papermill": {
     "duration": 0.012721,
     "end_time": "2024-01-30T20:39:41.598086",
     "exception": false,
     "start_time": "2024-01-30T20:39:41.585365",
     "status": "completed"
    },
    "tags": []
   },
   "source": [
    "That isn't great grammar!\n",
    "\n",
    "Modify the definition in the cell below to correct the grammar of our print statement. (If there's only one candy, we should use the singular \"candy\" instead of the plural \"candies\")"
   ]
  },
  {
   "cell_type": "code",
   "execution_count": 6,
   "id": "fc525807",
   "metadata": {
    "execution": {
     "iopub.execute_input": "2024-01-30T20:39:41.627138Z",
     "iopub.status.busy": "2024-01-30T20:39:41.626657Z",
     "iopub.status.idle": "2024-01-30T20:39:41.637559Z",
     "shell.execute_reply": "2024-01-30T20:39:41.636019Z"
    },
    "papermill": {
     "duration": 0.028521,
     "end_time": "2024-01-30T20:39:41.639983",
     "exception": false,
     "start_time": "2024-01-30T20:39:41.611462",
     "status": "completed"
    },
    "tags": []
   },
   "outputs": [
    {
     "name": "stdout",
     "output_type": "stream",
     "text": [
      "Splitting 91 candies\n",
      "Splitting 1 candy\n"
     ]
    },
    {
     "data": {
      "text/plain": [
       "1"
      ]
     },
     "execution_count": 6,
     "metadata": {},
     "output_type": "execute_result"
    }
   ],
   "source": [
    "def to_smash(total_candies):\n",
    "    \"\"\"Return the number of leftover candies that must be smashed after distributing\n",
    "    the given number of candies evenly between 3 friends.\n",
    "    \n",
    "    >>> to_smash(91)\n",
    "    1\n",
    "    \"\"\"\n",
    "    if total_candies == 1:\n",
    "        print(\"Splitting\", total_candies, \"candy\")\n",
    "        return total_candies % 3\n",
    "    else: \n",
    "        print(\"Splitting\", total_candies, \"candies\")\n",
    "        return total_candies % 3\n",
    "\n",
    "to_smash(91)\n",
    "to_smash(1)"
   ]
  },
  {
   "cell_type": "markdown",
   "id": "8614eebf",
   "metadata": {
    "papermill": {
     "duration": 0.01341,
     "end_time": "2024-01-30T20:39:41.666815",
     "exception": false,
     "start_time": "2024-01-30T20:39:41.653405",
     "status": "completed"
    },
    "tags": []
   },
   "source": [
    "To get credit for completing this problem, and to see the official answer, run the code cell below."
   ]
  },
  {
   "cell_type": "code",
   "execution_count": 7,
   "id": "c64c8ada",
   "metadata": {
    "execution": {
     "iopub.execute_input": "2024-01-30T20:39:41.696314Z",
     "iopub.status.busy": "2024-01-30T20:39:41.695801Z",
     "iopub.status.idle": "2024-01-30T20:39:41.705306Z",
     "shell.execute_reply": "2024-01-30T20:39:41.704440Z"
    },
    "papermill": {
     "duration": 0.027396,
     "end_time": "2024-01-30T20:39:41.707563",
     "exception": false,
     "start_time": "2024-01-30T20:39:41.680167",
     "status": "completed"
    },
    "tags": []
   },
   "outputs": [
    {
     "data": {
      "application/javascript": [
       "parent.postMessage({\"jupyterEvent\": \"custom.exercise_interaction\", \"data\": {\"interactionType\": 3, \"questionType\": 4, \"questionId\": \"2_PluralizationProblem\", \"learnToolsVersion\": \"0.3.4\", \"valueTowardsCompletion\": 0.0, \"failureMessage\": \"\", \"exceptionClass\": \"\", \"trace\": \"\", \"outcomeType\": 4}}, \"*\")"
      ],
      "text/plain": [
       "<IPython.core.display.Javascript object>"
      ]
     },
     "metadata": {},
     "output_type": "display_data"
    },
    {
     "data": {
      "text/markdown": [
       "<span style=\"color:#33cc99\">Solution:</span> A straightforward (and totally fine) solution is to replace the original `print` call with:\n",
       "\n",
       "```python\n",
       "if total_candies == 1:\n",
       "    print(\"Splitting 1 candy\")\n",
       "else:\n",
       "    print(\"Splitting\", total_candies, \"candies\")\n",
       "```\n",
       "\n",
       "Here's a slightly more succinct solution using a conditional expression:\n",
       "\n",
       "```python\n",
       "print(\"Splitting\", total_candies, \"candy\" if total_candies == 1 else \"candies\")\n",
       "```"
      ],
      "text/plain": [
       "Solution: A straightforward (and totally fine) solution is to replace the original `print` call with:\n",
       "\n",
       "```python\n",
       "if total_candies == 1:\n",
       "    print(\"Splitting 1 candy\")\n",
       "else:\n",
       "    print(\"Splitting\", total_candies, \"candies\")\n",
       "```\n",
       "\n",
       "Here's a slightly more succinct solution using a conditional expression:\n",
       "\n",
       "```python\n",
       "print(\"Splitting\", total_candies, \"candy\" if total_candies == 1 else \"candies\")\n",
       "```"
      ]
     },
     "metadata": {},
     "output_type": "display_data"
    }
   ],
   "source": [
    "# Check your answer (Run this code cell to receive credit!)\n",
    "q2.solution()"
   ]
  },
  {
   "cell_type": "markdown",
   "id": "891e4432",
   "metadata": {
    "papermill": {
     "duration": 0.013261,
     "end_time": "2024-01-30T20:39:41.735279",
     "exception": false,
     "start_time": "2024-01-30T20:39:41.722018",
     "status": "completed"
    },
    "tags": []
   },
   "source": [
    "# 3. <span title=\"A bit spicy\" style=\"color: darkgreen \">🌶️</span>\n",
    "\n",
    "In the tutorial, we talked about deciding whether we're prepared for the weather. I said that I'm safe from today's weather if...\n",
    "- I have an umbrella...\n",
    "- or if the rain isn't too heavy and I have a hood...\n",
    "- otherwise, I'm still fine unless it's raining *and* it's a workday\n",
    "\n",
    "The function below uses our first attempt at turning this logic into a Python expression. I claimed that there was a bug in that code. Can you find it?\n",
    "\n",
    "To prove that `prepared_for_weather` is buggy, come up with a set of inputs where either:\n",
    "- the function returns `False` (but should have returned `True`), or\n",
    "- the function returned `True` (but should have returned `False`).\n",
    "\n",
    "To get credit for completing this question, your code should return a <font color='#33cc33'>Correct</font> result."
   ]
  },
  {
   "cell_type": "code",
   "execution_count": 8,
   "id": "8d42ac7d",
   "metadata": {
    "execution": {
     "iopub.execute_input": "2024-01-30T20:39:41.765583Z",
     "iopub.status.busy": "2024-01-30T20:39:41.764371Z",
     "iopub.status.idle": "2024-01-30T20:39:41.777903Z",
     "shell.execute_reply": "2024-01-30T20:39:41.776768Z"
    },
    "papermill": {
     "duration": 0.031328,
     "end_time": "2024-01-30T20:39:41.780429",
     "exception": false,
     "start_time": "2024-01-30T20:39:41.749101",
     "status": "completed"
    },
    "tags": []
   },
   "outputs": [
    {
     "name": "stdout",
     "output_type": "stream",
     "text": [
      "False\n"
     ]
    },
    {
     "data": {
      "application/javascript": [
       "parent.postMessage({\"jupyterEvent\": \"custom.exercise_interaction\", \"data\": {\"outcomeType\": 1, \"valueTowardsCompletion\": 0.2, \"interactionType\": 1, \"questionType\": 1, \"questionId\": \"3_WeatherDebug\", \"learnToolsVersion\": \"0.3.4\", \"failureMessage\": \"\", \"exceptionClass\": \"\", \"trace\": \"\"}}, \"*\")"
      ],
      "text/plain": [
       "<IPython.core.display.Javascript object>"
      ]
     },
     "metadata": {},
     "output_type": "display_data"
    },
    {
     "data": {
      "text/markdown": [
       "<span style=\"color:#33cc33\">Correct:</span> \n",
       "\n",
       "One example of a failing test case is:\n",
       "\n",
       "```python\n",
       "have_umbrella = False\n",
       "rain_level = 0.0\n",
       "have_hood = False\n",
       "is_workday = False\n",
       "```\n",
       "\n",
       "Clearly we're prepared for the weather in this case. It's not raining. Not only that, it's not a workday, so we don't even need to leave the house! But our function will return False on these inputs.\n",
       "\n",
       "The key problem is that Python implictly parenthesizes the last part as:\n",
       "\n",
       "```python\n",
       "(not (rain_level > 0)) and is_workday\n",
       "```\n",
       "\n",
       "Whereas what we were trying to express would look more like:\n",
       "\n",
       "```python\n",
       "not (rain_level > 0 and is_workday)\n",
       "```\n"
      ],
      "text/plain": [
       "Correct: \n",
       "\n",
       "One example of a failing test case is:\n",
       "\n",
       "```python\n",
       "have_umbrella = False\n",
       "rain_level = 0.0\n",
       "have_hood = False\n",
       "is_workday = False\n",
       "```\n",
       "\n",
       "Clearly we're prepared for the weather in this case. It's not raining. Not only that, it's not a workday, so we don't even need to leave the house! But our function will return False on these inputs.\n",
       "\n",
       "The key problem is that Python implictly parenthesizes the last part as:\n",
       "\n",
       "```python\n",
       "(not (rain_level > 0)) and is_workday\n",
       "```\n",
       "\n",
       "Whereas what we were trying to express would look more like:\n",
       "\n",
       "```python\n",
       "not (rain_level > 0 and is_workday)\n",
       "```"
      ]
     },
     "metadata": {},
     "output_type": "display_data"
    }
   ],
   "source": [
    "def prepared_for_weather(have_umbrella, rain_level, have_hood, is_workday):\n",
    "    # Don't change this code. Our goal is just to find the bug, not fix it!\n",
    "    return have_umbrella or rain_level < 5 and have_hood or not rain_level > 0 and is_workday\n",
    "\n",
    "# Change the values of these inputs so they represent a case where prepared_for_weather\n",
    "# returns the wrong answer.\n",
    "have_umbrella = False\n",
    "rain_level = 10.0\n",
    "have_hood = True\n",
    "is_workday = False\n",
    "\n",
    "# Check what the function returns given the current values of the variables above\n",
    "actual = prepared_for_weather(have_umbrella, rain_level, have_hood, is_workday)\n",
    "print(actual)\n",
    "\n",
    "# Check your answer\n",
    "q3.check()"
   ]
  },
  {
   "cell_type": "code",
   "execution_count": 9,
   "id": "2d3366aa",
   "metadata": {
    "execution": {
     "iopub.execute_input": "2024-01-30T20:39:41.812299Z",
     "iopub.status.busy": "2024-01-30T20:39:41.811025Z",
     "iopub.status.idle": "2024-01-30T20:39:41.816761Z",
     "shell.execute_reply": "2024-01-30T20:39:41.815635Z"
    },
    "papermill": {
     "duration": 0.024316,
     "end_time": "2024-01-30T20:39:41.819330",
     "exception": false,
     "start_time": "2024-01-30T20:39:41.795014",
     "status": "completed"
    },
    "tags": []
   },
   "outputs": [],
   "source": [
    "#q3.hint()\n",
    "#q3.solution()"
   ]
  },
  {
   "cell_type": "markdown",
   "id": "78ce7774",
   "metadata": {
    "papermill": {
     "duration": 0.014063,
     "end_time": "2024-01-30T20:39:41.848119",
     "exception": false,
     "start_time": "2024-01-30T20:39:41.834056",
     "status": "completed"
    },
    "tags": []
   },
   "source": [
    "# 4.\n",
    "\n",
    "The function `is_negative` below is implemented correctly - it returns True if the given number is negative and False otherwise.\n",
    "\n",
    "However, it's more verbose than it needs to be. We can actually reduce the number of lines of code in this function by *75%* while keeping the same behaviour. \n",
    "\n",
    "See if you can come up with an equivalent body that uses just **one line** of code, and put it in the function `concise_is_negative`. (HINT: you don't even need Python's ternary syntax)"
   ]
  },
  {
   "cell_type": "code",
   "execution_count": 10,
   "id": "506b565b",
   "metadata": {
    "execution": {
     "iopub.execute_input": "2024-01-30T20:39:41.879201Z",
     "iopub.status.busy": "2024-01-30T20:39:41.878727Z",
     "iopub.status.idle": "2024-01-30T20:39:41.889678Z",
     "shell.execute_reply": "2024-01-30T20:39:41.888423Z"
    },
    "papermill": {
     "duration": 0.029359,
     "end_time": "2024-01-30T20:39:41.892036",
     "exception": false,
     "start_time": "2024-01-30T20:39:41.862677",
     "status": "completed"
    },
    "tags": []
   },
   "outputs": [
    {
     "data": {
      "application/javascript": [
       "parent.postMessage({\"jupyterEvent\": \"custom.exercise_interaction\", \"data\": {\"outcomeType\": 1, \"valueTowardsCompletion\": 0.2, \"interactionType\": 1, \"questionType\": 2, \"questionId\": \"4_ConciseIsNegative\", \"learnToolsVersion\": \"0.3.4\", \"failureMessage\": \"\", \"exceptionClass\": \"\", \"trace\": \"\"}}, \"*\")"
      ],
      "text/plain": [
       "<IPython.core.display.Javascript object>"
      ]
     },
     "metadata": {},
     "output_type": "display_data"
    },
    {
     "data": {
      "text/markdown": [
       "<span style=\"color:#33cc33\">Correct</span>"
      ],
      "text/plain": [
       "Correct"
      ]
     },
     "metadata": {},
     "output_type": "display_data"
    }
   ],
   "source": [
    "def is_negative(number):\n",
    "    if number < 0:\n",
    "        return True\n",
    "    else:\n",
    "        return False\n",
    "\n",
    "def concise_is_negative(number):\n",
    "    return True if number < 0 else False\n",
    "\n",
    "# Check your answer\n",
    "q4.check()"
   ]
  },
  {
   "cell_type": "code",
   "execution_count": 11,
   "id": "16053b5f",
   "metadata": {
    "execution": {
     "iopub.execute_input": "2024-01-30T20:39:41.923685Z",
     "iopub.status.busy": "2024-01-30T20:39:41.923192Z",
     "iopub.status.idle": "2024-01-30T20:39:41.927871Z",
     "shell.execute_reply": "2024-01-30T20:39:41.926643Z"
    },
    "papermill": {
     "duration": 0.023467,
     "end_time": "2024-01-30T20:39:41.930293",
     "exception": false,
     "start_time": "2024-01-30T20:39:41.906826",
     "status": "completed"
    },
    "tags": []
   },
   "outputs": [],
   "source": [
    "#q4.hint()\n",
    "#q4.solution()"
   ]
  },
  {
   "cell_type": "markdown",
   "id": "cdcd02fb",
   "metadata": {
    "papermill": {
     "duration": 0.014719,
     "end_time": "2024-01-30T20:39:41.959949",
     "exception": false,
     "start_time": "2024-01-30T20:39:41.945230",
     "status": "completed"
    },
    "tags": []
   },
   "source": [
    "# 5a.\n",
    "\n",
    "The boolean variables `ketchup`, `mustard` and `onion` represent whether a customer wants a particular topping on their hot dog. We want to implement a number of boolean functions that correspond to some yes-or-no questions about the customer's order. For example:"
   ]
  },
  {
   "cell_type": "code",
   "execution_count": 12,
   "id": "70c4f706",
   "metadata": {
    "execution": {
     "iopub.execute_input": "2024-01-30T20:39:41.994539Z",
     "iopub.status.busy": "2024-01-30T20:39:41.994102Z",
     "iopub.status.idle": "2024-01-30T20:39:41.999447Z",
     "shell.execute_reply": "2024-01-30T20:39:41.998010Z"
    },
    "papermill": {
     "duration": 0.026045,
     "end_time": "2024-01-30T20:39:42.003067",
     "exception": false,
     "start_time": "2024-01-30T20:39:41.977022",
     "status": "completed"
    },
    "tags": []
   },
   "outputs": [],
   "source": [
    "def onionless(ketchup, mustard, onion):\n",
    "    \"\"\"Return whether the customer doesn't want onions.\n",
    "    \"\"\"\n",
    "    return not onion"
   ]
  },
  {
   "cell_type": "code",
   "execution_count": 13,
   "id": "94b376ad",
   "metadata": {
    "execution": {
     "iopub.execute_input": "2024-01-30T20:39:42.036179Z",
     "iopub.status.busy": "2024-01-30T20:39:42.035284Z",
     "iopub.status.idle": "2024-01-30T20:39:42.044234Z",
     "shell.execute_reply": "2024-01-30T20:39:42.043326Z"
    },
    "papermill": {
     "duration": 0.028027,
     "end_time": "2024-01-30T20:39:42.046434",
     "exception": false,
     "start_time": "2024-01-30T20:39:42.018407",
     "status": "completed"
    },
    "tags": []
   },
   "outputs": [
    {
     "data": {
      "application/javascript": [
       "parent.postMessage({\"jupyterEvent\": \"custom.exercise_interaction\", \"data\": {\"outcomeType\": 1, \"valueTowardsCompletion\": 0.2, \"interactionType\": 1, \"questionType\": 2, \"questionId\": \"5.1_AllToppings\", \"learnToolsVersion\": \"0.3.4\", \"failureMessage\": \"\", \"exceptionClass\": \"\", \"trace\": \"\"}}, \"*\")"
      ],
      "text/plain": [
       "<IPython.core.display.Javascript object>"
      ]
     },
     "metadata": {},
     "output_type": "display_data"
    },
    {
     "data": {
      "text/markdown": [
       "<span style=\"color:#33cc33\">Correct</span>"
      ],
      "text/plain": [
       "Correct"
      ]
     },
     "metadata": {},
     "output_type": "display_data"
    }
   ],
   "source": [
    "def wants_all_toppings(ketchup, mustard, onion):\n",
    "    \"\"\"Return whether the customer wants \"the works\" (all 3 toppings)\n",
    "    \"\"\"\n",
    "    pass\n",
    "\n",
    "# Check your answer\n",
    "    return onion and mustard and ketchup\n",
    "q5.a.check()"
   ]
  },
  {
   "cell_type": "code",
   "execution_count": 14,
   "id": "60e9193f",
   "metadata": {
    "execution": {
     "iopub.execute_input": "2024-01-30T20:39:42.079663Z",
     "iopub.status.busy": "2024-01-30T20:39:42.078841Z",
     "iopub.status.idle": "2024-01-30T20:39:42.083203Z",
     "shell.execute_reply": "2024-01-30T20:39:42.082288Z"
    },
    "papermill": {
     "duration": 0.023313,
     "end_time": "2024-01-30T20:39:42.085420",
     "exception": false,
     "start_time": "2024-01-30T20:39:42.062107",
     "status": "completed"
    },
    "tags": []
   },
   "outputs": [],
   "source": [
    "#q5.a.hint()\n",
    "#q5.a.solution()"
   ]
  },
  {
   "cell_type": "markdown",
   "id": "e8700559",
   "metadata": {
    "papermill": {
     "duration": 0.015267,
     "end_time": "2024-01-30T20:39:42.115876",
     "exception": false,
     "start_time": "2024-01-30T20:39:42.100609",
     "status": "completed"
    },
    "tags": []
   },
   "source": [
    "# 5b.\n",
    "\n",
    "For the next function, fill in the body to match the English description in the docstring. "
   ]
  },
  {
   "cell_type": "code",
   "execution_count": 15,
   "id": "8011288e",
   "metadata": {
    "execution": {
     "iopub.execute_input": "2024-01-30T20:39:42.150498Z",
     "iopub.status.busy": "2024-01-30T20:39:42.149327Z",
     "iopub.status.idle": "2024-01-30T20:39:42.159695Z",
     "shell.execute_reply": "2024-01-30T20:39:42.158520Z"
    },
    "papermill": {
     "duration": 0.030008,
     "end_time": "2024-01-30T20:39:42.162144",
     "exception": false,
     "start_time": "2024-01-30T20:39:42.132136",
     "status": "completed"
    },
    "tags": []
   },
   "outputs": [
    {
     "data": {
      "application/javascript": [
       "parent.postMessage({\"jupyterEvent\": \"custom.exercise_interaction\", \"data\": {\"outcomeType\": 1, \"valueTowardsCompletion\": 0.2, \"interactionType\": 1, \"questionType\": 2, \"questionId\": \"5.2_PlainDog\", \"learnToolsVersion\": \"0.3.4\", \"failureMessage\": \"\", \"exceptionClass\": \"\", \"trace\": \"\"}}, \"*\")"
      ],
      "text/plain": [
       "<IPython.core.display.Javascript object>"
      ]
     },
     "metadata": {},
     "output_type": "display_data"
    },
    {
     "data": {
      "text/markdown": [
       "<span style=\"color:#33cc33\">Correct:</span> \n",
       "\n",
       "One solution looks like:\n",
       "```python\n",
       "return not ketchup and not mustard and not onion\n",
       "```\n",
       "\n",
       "We can also [\"factor out\" the nots](https://en.wikipedia.org/wiki/De_Morgan%27s_laws) to get:\n",
       "\n",
       "```python\n",
       "return not (ketchup or mustard or onion)\n",
       "```"
      ],
      "text/plain": [
       "Correct: \n",
       "\n",
       "One solution looks like:\n",
       "```python\n",
       "return not ketchup and not mustard and not onion\n",
       "```\n",
       "\n",
       "We can also [\"factor out\" the nots](https://en.wikipedia.org/wiki/De_Morgan%27s_laws) to get:\n",
       "\n",
       "```python\n",
       "return not (ketchup or mustard or onion)\n",
       "```"
      ]
     },
     "metadata": {},
     "output_type": "display_data"
    }
   ],
   "source": [
    "def wants_plain_hotdog(ketchup, mustard, onion):\n",
    "    \"\"\"Return whether the customer wants a plain hot dog with no toppings.\n",
    "    \"\"\"\n",
    "    return not onion and not mustard and not ketchup\n",
    "# Check your answer\n",
    "q5.b.check()"
   ]
  },
  {
   "cell_type": "code",
   "execution_count": 16,
   "id": "feeb799a",
   "metadata": {
    "execution": {
     "iopub.execute_input": "2024-01-30T20:39:42.195383Z",
     "iopub.status.busy": "2024-01-30T20:39:42.194930Z",
     "iopub.status.idle": "2024-01-30T20:39:42.199921Z",
     "shell.execute_reply": "2024-01-30T20:39:42.198542Z"
    },
    "papermill": {
     "duration": 0.024933,
     "end_time": "2024-01-30T20:39:42.202684",
     "exception": false,
     "start_time": "2024-01-30T20:39:42.177751",
     "status": "completed"
    },
    "tags": []
   },
   "outputs": [],
   "source": [
    "#q5.b.hint()\n",
    "#q5.b.solution()"
   ]
  },
  {
   "cell_type": "markdown",
   "id": "1bbefac9",
   "metadata": {
    "papermill": {
     "duration": 0.015257,
     "end_time": "2024-01-30T20:39:42.233532",
     "exception": false,
     "start_time": "2024-01-30T20:39:42.218275",
     "status": "completed"
    },
    "tags": []
   },
   "source": [
    "# 5c.\n",
    "\n",
    "You know what to do: for the next function, fill in the body to match the English description in the docstring."
   ]
  },
  {
   "cell_type": "code",
   "execution_count": 17,
   "id": "b95f7b63",
   "metadata": {
    "execution": {
     "iopub.execute_input": "2024-01-30T20:39:42.268960Z",
     "iopub.status.busy": "2024-01-30T20:39:42.267774Z",
     "iopub.status.idle": "2024-01-30T20:39:42.279350Z",
     "shell.execute_reply": "2024-01-30T20:39:42.278171Z"
    },
    "papermill": {
     "duration": 0.031541,
     "end_time": "2024-01-30T20:39:42.281836",
     "exception": false,
     "start_time": "2024-01-30T20:39:42.250295",
     "status": "completed"
    },
    "tags": []
   },
   "outputs": [
    {
     "data": {
      "application/javascript": [
       "parent.postMessage({\"jupyterEvent\": \"custom.exercise_interaction\", \"data\": {\"outcomeType\": 1, \"valueTowardsCompletion\": 0.2, \"interactionType\": 1, \"questionType\": 2, \"questionId\": \"5.3_OneSauce\", \"learnToolsVersion\": \"0.3.4\", \"failureMessage\": \"\", \"exceptionClass\": \"\", \"trace\": \"\"}}, \"*\")"
      ],
      "text/plain": [
       "<IPython.core.display.Javascript object>"
      ]
     },
     "metadata": {},
     "output_type": "display_data"
    },
    {
     "data": {
      "text/markdown": [
       "<span style=\"color:#33cc33\">Correct</span>"
      ],
      "text/plain": [
       "Correct"
      ]
     },
     "metadata": {},
     "output_type": "display_data"
    }
   ],
   "source": [
    "def exactly_one_sauce(ketchup, mustard, onion):\n",
    "    \"\"\"Return whether the customer wants either ketchup or mustard, but not both.\n",
    "    (You may be familiar with this operation under the name \"exclusive or\")\n",
    "    \"\"\"\n",
    "    return (ketchup and not mustard) or (not ketchup and mustard)\n",
    "\n",
    "# Check your answer\n",
    "q5.c.check()"
   ]
  },
  {
   "cell_type": "code",
   "execution_count": 18,
   "id": "d32924f5",
   "metadata": {
    "execution": {
     "iopub.execute_input": "2024-01-30T20:39:42.316679Z",
     "iopub.status.busy": "2024-01-30T20:39:42.315498Z",
     "iopub.status.idle": "2024-01-30T20:39:42.320827Z",
     "shell.execute_reply": "2024-01-30T20:39:42.319910Z"
    },
    "papermill": {
     "duration": 0.025409,
     "end_time": "2024-01-30T20:39:42.323372",
     "exception": false,
     "start_time": "2024-01-30T20:39:42.297963",
     "status": "completed"
    },
    "tags": []
   },
   "outputs": [],
   "source": [
    "#q5.c.hint()\n",
    "#q5.c.solution()"
   ]
  },
  {
   "cell_type": "markdown",
   "id": "d3e4b7e2",
   "metadata": {
    "papermill": {
     "duration": 0.016117,
     "end_time": "2024-01-30T20:39:42.355434",
     "exception": false,
     "start_time": "2024-01-30T20:39:42.339317",
     "status": "completed"
    },
    "tags": []
   },
   "source": [
    "# 6. <span title=\"A bit spicy\" style=\"color: darkgreen \">🌶️</span>\n",
    "\n",
    "We’ve seen that calling `bool()` on an integer returns `False` if it’s equal to 0 and `True` otherwise. What happens if we call `int()` on a bool? Try it out in the notebook cell below.\n",
    "\n",
    "Can you take advantage of this to write a succinct function that corresponds to the English sentence \"does the customer want exactly one topping?\"?"
   ]
  },
  {
   "cell_type": "code",
   "execution_count": 19,
   "id": "f51e3e9c",
   "metadata": {
    "execution": {
     "iopub.execute_input": "2024-01-30T20:39:42.389921Z",
     "iopub.status.busy": "2024-01-30T20:39:42.388915Z",
     "iopub.status.idle": "2024-01-30T20:39:42.400334Z",
     "shell.execute_reply": "2024-01-30T20:39:42.399090Z"
    },
    "papermill": {
     "duration": 0.031219,
     "end_time": "2024-01-30T20:39:42.402627",
     "exception": false,
     "start_time": "2024-01-30T20:39:42.371408",
     "status": "completed"
    },
    "tags": []
   },
   "outputs": [
    {
     "data": {
      "application/javascript": [
       "parent.postMessage({\"jupyterEvent\": \"custom.exercise_interaction\", \"data\": {\"outcomeType\": 1, \"valueTowardsCompletion\": 0.2, \"interactionType\": 1, \"questionType\": 2, \"questionId\": \"6_OneTopping\", \"learnToolsVersion\": \"0.3.4\", \"failureMessage\": \"\", \"exceptionClass\": \"\", \"trace\": \"\"}}, \"*\")"
      ],
      "text/plain": [
       "<IPython.core.display.Javascript object>"
      ]
     },
     "metadata": {},
     "output_type": "display_data"
    },
    {
     "data": {
      "text/markdown": [
       "<span style=\"color:#33cc33\">Correct:</span> \n",
       "\n",
       "This condition would be pretty complicated to express using just `and`, `or` and `not`, but using boolean-to-integer conversion gives us this short solution:\n",
       "```python\n",
       "return (int(ketchup) + int(mustard) + int(onion)) == 1\n",
       "```\n",
       "\n",
       "Fun fact: we don't technically need to call `int` on the arguments. Just by doing addition with booleans, Python implicitly does the integer conversion. So we could also write...\n",
       "\n",
       "```python\n",
       "return (ketchup + mustard + onion) == 1\n",
       "```"
      ],
      "text/plain": [
       "Correct: \n",
       "\n",
       "This condition would be pretty complicated to express using just `and`, `or` and `not`, but using boolean-to-integer conversion gives us this short solution:\n",
       "```python\n",
       "return (int(ketchup) + int(mustard) + int(onion)) == 1\n",
       "```\n",
       "\n",
       "Fun fact: we don't technically need to call `int` on the arguments. Just by doing addition with booleans, Python implicitly does the integer conversion. So we could also write...\n",
       "\n",
       "```python\n",
       "return (ketchup + mustard + onion) == 1\n",
       "```"
      ]
     },
     "metadata": {},
     "output_type": "display_data"
    }
   ],
   "source": [
    "def exactly_one_topping(ketchup, mustard, onion):\n",
    "    \"\"\"Return whether the customer wants exactly one of the three available toppings\n",
    "    on their hot dog.\n",
    "    \"\"\"\n",
    "    return (int(ketchup) + int(mustard) + int(onion)) == 1\n",
    "\n",
    "# Check your answer\n",
    "q6.check()"
   ]
  },
  {
   "cell_type": "code",
   "execution_count": 20,
   "id": "da280853",
   "metadata": {
    "execution": {
     "iopub.execute_input": "2024-01-30T20:39:42.438303Z",
     "iopub.status.busy": "2024-01-30T20:39:42.437719Z",
     "iopub.status.idle": "2024-01-30T20:39:42.443255Z",
     "shell.execute_reply": "2024-01-30T20:39:42.442092Z"
    },
    "papermill": {
     "duration": 0.02645,
     "end_time": "2024-01-30T20:39:42.445960",
     "exception": false,
     "start_time": "2024-01-30T20:39:42.419510",
     "status": "completed"
    },
    "tags": []
   },
   "outputs": [],
   "source": [
    "#q6.hint()\n",
    "#q6.solution()"
   ]
  },
  {
   "cell_type": "markdown",
   "id": "8d05bdcb",
   "metadata": {
    "papermill": {
     "duration": 0.015939,
     "end_time": "2024-01-30T20:39:42.478850",
     "exception": false,
     "start_time": "2024-01-30T20:39:42.462911",
     "status": "completed"
    },
    "tags": []
   },
   "source": [
    "# 7. <span title=\"A bit spicy\" style=\"color: darkgreen \">🌶️</span> (Optional)\n",
    "\n",
    "In this problem we'll be working with a simplified version of [blackjack](https://en.wikipedia.org/wiki/Blackjack) (aka twenty-one). In this version there is one player (who you'll control) and a dealer. Play proceeds as follows:\n",
    "\n",
    "- The player is dealt two face-up cards. The dealer is dealt one face-up card.\n",
    "- The player may ask to be dealt another card ('hit') as many times as they wish. If the sum of their cards exceeds 21, they lose the round immediately.\n",
    "- The dealer then deals additional cards to himself until either:\n",
    "    - the sum of the dealer's cards exceeds 21, in which case the player wins the round\n",
    "    - the sum of the dealer's cards is greater than or equal to 17. If the player's total is greater than the dealer's, the player wins. Otherwise, the dealer wins (even in case of a tie).\n",
    "    \n",
    "When calculating the sum of cards, Jack, Queen, and King count for 10. Aces can count as 1 or 11 (when referring to a player's \"total\" above, we mean the largest total that can be made without exceeding 21. So e.g. A+8 = 19, A+8+8 = 17)\n",
    "\n",
    "For this problem, you'll write a function representing the player's decision-making strategy in this game. We've provided a very unintelligent implementation below:"
   ]
  },
  {
   "cell_type": "code",
   "execution_count": 21,
   "id": "84c77b2e",
   "metadata": {
    "execution": {
     "iopub.execute_input": "2024-01-30T20:39:42.514205Z",
     "iopub.status.busy": "2024-01-30T20:39:42.513135Z",
     "iopub.status.idle": "2024-01-30T20:39:42.519989Z",
     "shell.execute_reply": "2024-01-30T20:39:42.518796Z"
    },
    "papermill": {
     "duration": 0.02726,
     "end_time": "2024-01-30T20:39:42.522506",
     "exception": false,
     "start_time": "2024-01-30T20:39:42.495246",
     "status": "completed"
    },
    "tags": []
   },
   "outputs": [],
   "source": [
    "def should_hit(dealer_total, player_total, player_low_aces, player_high_aces):\n",
    "    \"\"\"Return True if the player should hit (request another card) given the current game\n",
    "    state, or False if the player should stay.\n",
    "    When calculating a hand's total value, we count aces as \"high\" (with value 11) if doing so\n",
    "    doesn't bring the total above 21, otherwise we count them as low (with value 1). \n",
    "    For example, if the player's hand is {A, A, A, 7}, we will count it as 11 + 1 + 1 + 7,\n",
    "    and therefore set player_total=20, player_low_aces=2, player_high_aces=1.\n",
    "    \"\"\"\n",
    "    return False"
   ]
  },
  {
   "cell_type": "markdown",
   "id": "152a8a0a",
   "metadata": {
    "papermill": {
     "duration": 0.015708,
     "end_time": "2024-01-30T20:39:42.624987",
     "exception": false,
     "start_time": "2024-01-30T20:39:42.609279",
     "status": "completed"
    },
    "tags": []
   },
   "source": [
    "This very conservative agent *always* sticks with the hand of two cards that they're dealt.\n",
    "\n",
    "We'll be simulating games between your player agent and our own dealer agent by calling your function.\n",
    "\n",
    "Try running the function below to see an example of a simulated game:"
   ]
  },
  {
   "cell_type": "code",
   "execution_count": 22,
   "id": "65fcc5ae",
   "metadata": {
    "execution": {
     "iopub.execute_input": "2024-01-30T20:39:42.660872Z",
     "iopub.status.busy": "2024-01-30T20:39:42.659406Z",
     "iopub.status.idle": "2024-01-30T20:39:42.667242Z",
     "shell.execute_reply": "2024-01-30T20:39:42.665532Z"
    },
    "papermill": {
     "duration": 0.028873,
     "end_time": "2024-01-30T20:39:42.669950",
     "exception": false,
     "start_time": "2024-01-30T20:39:42.641077",
     "status": "completed"
    },
    "tags": []
   },
   "outputs": [
    {
     "name": "stdout",
     "output_type": "stream",
     "text": [
      "Player starts with Q and 6 (total = 16)\n",
      "Dealer starts with 3\n",
      "\n",
      "__Player's turn__\n",
      "Player stays\n",
      "\n",
      "__Dealer's turn__\n",
      "Dealer hits and receives 6. (total = 9)\n",
      "Dealer hits and receives 10. (total = 19)\n",
      "Dealer stands.\n",
      "Dealer wins. 19 >= 16\n"
     ]
    }
   ],
   "source": [
    "q7.simulate_one_game()"
   ]
  },
  {
   "cell_type": "markdown",
   "id": "ad9cbdf6",
   "metadata": {
    "papermill": {
     "duration": 0.016314,
     "end_time": "2024-01-30T20:39:42.702468",
     "exception": false,
     "start_time": "2024-01-30T20:39:42.686154",
     "status": "completed"
    },
    "tags": []
   },
   "source": [
    "The real test of your agent's mettle is their average win rate over many games. Try calling the function below to simulate 50000 games of blackjack (it may take a couple seconds):"
   ]
  },
  {
   "cell_type": "code",
   "execution_count": 23,
   "id": "3aea32e0",
   "metadata": {
    "execution": {
     "iopub.execute_input": "2024-01-30T20:39:42.737131Z",
     "iopub.status.busy": "2024-01-30T20:39:42.736758Z",
     "iopub.status.idle": "2024-01-30T20:39:44.950033Z",
     "shell.execute_reply": "2024-01-30T20:39:44.948655Z"
    },
    "papermill": {
     "duration": 2.233994,
     "end_time": "2024-01-30T20:39:44.952983",
     "exception": false,
     "start_time": "2024-01-30T20:39:42.718989",
     "status": "completed"
    },
    "tags": []
   },
   "outputs": [
    {
     "name": "stdout",
     "output_type": "stream",
     "text": [
      "Player won 19003 out of 50000 games (win rate = 38.0%)\n"
     ]
    }
   ],
   "source": [
    "q7.simulate(n_games=50000)"
   ]
  },
  {
   "cell_type": "markdown",
   "id": "19f99664",
   "metadata": {
    "papermill": {
     "duration": 0.02035,
     "end_time": "2024-01-30T20:39:44.995053",
     "exception": false,
     "start_time": "2024-01-30T20:39:44.974703",
     "status": "completed"
    },
    "tags": []
   },
   "source": [
    "Our dumb agent that completely ignores the game state still manages to win shockingly often!\n",
    "\n",
    "Try adding some more smarts to the `should_hit` function and see how it affects the results."
   ]
  },
  {
   "cell_type": "code",
   "execution_count": 24,
   "id": "86969d24",
   "metadata": {
    "execution": {
     "iopub.execute_input": "2024-01-30T20:39:45.032929Z",
     "iopub.status.busy": "2024-01-30T20:39:45.032528Z",
     "iopub.status.idle": "2024-01-30T20:39:47.292350Z",
     "shell.execute_reply": "2024-01-30T20:39:47.291084Z"
    },
    "papermill": {
     "duration": 2.2802,
     "end_time": "2024-01-30T20:39:47.294981",
     "exception": false,
     "start_time": "2024-01-30T20:39:45.014781",
     "status": "completed"
    },
    "tags": []
   },
   "outputs": [
    {
     "name": "stdout",
     "output_type": "stream",
     "text": [
      "Player won 19096 out of 50000 games (win rate = 38.2%)\n"
     ]
    }
   ],
   "source": [
    "def should_hit(dealer_total, player_total, player_low_aces, player_high_aces):\n",
    "    \"\"\"Return True if the player should hit (request another card) given the current game\n",
    "    state, or False if the player should stay.\n",
    "    When calculating a hand's total value, we count aces as \"high\" (with value 11) if doing so\n",
    "    doesn't bring the total above 21, otherwise we count them as low (with value 1). \n",
    "    For example, if the player's hand is {A, A, A, 7}, we will count it as 11 + 1 + 1 + 7,\n",
    "    and therefore set player_total=20, player_low_aces=2, player_high_aces=1.\n",
    "    \"\"\"\n",
    "    return False\n",
    "\n",
    "q7.simulate(n_games=50000)"
   ]
  },
  {
   "cell_type": "markdown",
   "id": "8414a0b4",
   "metadata": {
    "papermill": {
     "duration": 0.016116,
     "end_time": "2024-01-30T20:39:47.328269",
     "exception": false,
     "start_time": "2024-01-30T20:39:47.312153",
     "status": "completed"
    },
    "tags": []
   },
   "source": [
    "# Keep Going\n",
    "\n",
    "Learn about **[lists and tuples](https://www.kaggle.com/colinmorris/lists)** to handle multiple items of data in a systematic way."
   ]
  },
  {
   "cell_type": "markdown",
   "id": "0be714d4",
   "metadata": {
    "papermill": {
     "duration": 0.016319,
     "end_time": "2024-01-30T20:39:47.361244",
     "exception": false,
     "start_time": "2024-01-30T20:39:47.344925",
     "status": "completed"
    },
    "tags": []
   },
   "source": [
    "---\n",
    "\n",
    "\n",
    "\n",
    "\n",
    "*Have questions or comments? Visit the [course discussion forum](https://www.kaggle.com/learn/python/discussion) to chat with other learners.*"
   ]
  }
 ],
 "metadata": {
  "kaggle": {
   "accelerator": "none",
   "dataSources": [],
   "isGpuEnabled": false,
   "isInternetEnabled": false,
   "language": "python",
   "sourceType": "notebook"
  },
  "kernelspec": {
   "display_name": "Python 3",
   "language": "python",
   "name": "python3"
  },
  "language_info": {
   "codemirror_mode": {
    "name": "ipython",
    "version": 3
   },
   "file_extension": ".py",
   "mimetype": "text/x-python",
   "name": "python",
   "nbconvert_exporter": "python",
   "pygments_lexer": "ipython3",
   "version": "3.10.13"
  },
  "papermill": {
   "default_parameters": {},
   "duration": 11.12922,
   "end_time": "2024-01-30T20:39:47.899309",
   "environment_variables": {},
   "exception": null,
   "input_path": "__notebook__.ipynb",
   "output_path": "__notebook__.ipynb",
   "parameters": {},
   "start_time": "2024-01-30T20:39:36.770089",
   "version": "2.5.0"
  }
 },
 "nbformat": 4,
 "nbformat_minor": 5
}
