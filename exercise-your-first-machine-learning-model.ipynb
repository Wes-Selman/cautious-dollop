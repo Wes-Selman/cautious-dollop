{
 "cells": [
  {
   "cell_type": "markdown",
   "id": "9c932554",
   "metadata": {
    "papermill": {
     "duration": 0.008418,
     "end_time": "2024-01-30T20:49:14.444380",
     "exception": false,
     "start_time": "2024-01-30T20:49:14.435962",
     "status": "completed"
    },
    "tags": []
   },
   "source": [
    "**This notebook is an exercise in the [Introduction to Machine Learning](https://www.kaggle.com/learn/intro-to-machine-learning) course.  You can reference the tutorial at [this link](https://www.kaggle.com/dansbecker/your-first-machine-learning-model).**\n",
    "\n",
    "---\n"
   ]
  },
  {
   "cell_type": "markdown",
   "id": "dbc69355",
   "metadata": {
    "papermill": {
     "duration": 0.007676,
     "end_time": "2024-01-30T20:49:14.460462",
     "exception": false,
     "start_time": "2024-01-30T20:49:14.452786",
     "status": "completed"
    },
    "tags": []
   },
   "source": [
    "## Recap\n",
    "So far, you have loaded your data and reviewed it with the following code. Run this cell to set up your coding environment where the previous step left off."
   ]
  },
  {
   "cell_type": "code",
   "execution_count": 1,
   "id": "ca66c724",
   "metadata": {
    "execution": {
     "iopub.execute_input": "2024-01-30T20:49:14.480040Z",
     "iopub.status.busy": "2024-01-30T20:49:14.478871Z",
     "iopub.status.idle": "2024-01-30T20:49:17.564804Z",
     "shell.execute_reply": "2024-01-30T20:49:17.563293Z"
    },
    "papermill": {
     "duration": 3.100443,
     "end_time": "2024-01-30T20:49:17.568707",
     "exception": false,
     "start_time": "2024-01-30T20:49:14.468264",
     "status": "completed"
    },
    "tags": []
   },
   "outputs": [
    {
     "name": "stdout",
     "output_type": "stream",
     "text": [
      "Setup Complete\n"
     ]
    }
   ],
   "source": [
    "# Code you have previously used to load data\n",
    "import pandas as pd\n",
    "\n",
    "# Path of the file to read\n",
    "iowa_file_path = '../input/home-data-for-ml-course/train.csv'\n",
    "\n",
    "home_data = pd.read_csv(iowa_file_path)\n",
    "\n",
    "# Set up code checking\n",
    "from learntools.core import binder\n",
    "binder.bind(globals())\n",
    "from learntools.machine_learning.ex3 import *\n",
    "\n",
    "print(\"Setup Complete\")"
   ]
  },
  {
   "cell_type": "code",
   "execution_count": 2,
   "id": "b90440d7",
   "metadata": {
    "execution": {
     "iopub.execute_input": "2024-01-30T20:49:17.586470Z",
     "iopub.status.busy": "2024-01-30T20:49:17.586023Z",
     "iopub.status.idle": "2024-01-30T20:49:17.596756Z",
     "shell.execute_reply": "2024-01-30T20:49:17.595343Z"
    },
    "papermill": {
     "duration": 0.022745,
     "end_time": "2024-01-30T20:49:17.599372",
     "exception": false,
     "start_time": "2024-01-30T20:49:17.576627",
     "status": "completed"
    },
    "tags": []
   },
   "outputs": [
    {
     "data": {
      "text/plain": [
       "Index(['Id', 'MSSubClass', 'MSZoning', 'LotFrontage', 'LotArea', 'Street',\n",
       "       'Alley', 'LotShape', 'LandContour', 'Utilities', 'LotConfig',\n",
       "       'LandSlope', 'Neighborhood', 'Condition1', 'Condition2', 'BldgType',\n",
       "       'HouseStyle', 'OverallQual', 'OverallCond', 'YearBuilt', 'YearRemodAdd',\n",
       "       'RoofStyle', 'RoofMatl', 'Exterior1st', 'Exterior2nd', 'MasVnrType',\n",
       "       'MasVnrArea', 'ExterQual', 'ExterCond', 'Foundation', 'BsmtQual',\n",
       "       'BsmtCond', 'BsmtExposure', 'BsmtFinType1', 'BsmtFinSF1',\n",
       "       'BsmtFinType2', 'BsmtFinSF2', 'BsmtUnfSF', 'TotalBsmtSF', 'Heating',\n",
       "       'HeatingQC', 'CentralAir', 'Electrical', '1stFlrSF', '2ndFlrSF',\n",
       "       'LowQualFinSF', 'GrLivArea', 'BsmtFullBath', 'BsmtHalfBath', 'FullBath',\n",
       "       'HalfBath', 'BedroomAbvGr', 'KitchenAbvGr', 'KitchenQual',\n",
       "       'TotRmsAbvGrd', 'Functional', 'Fireplaces', 'FireplaceQu', 'GarageType',\n",
       "       'GarageYrBlt', 'GarageFinish', 'GarageCars', 'GarageArea', 'GarageQual',\n",
       "       'GarageCond', 'PavedDrive', 'WoodDeckSF', 'OpenPorchSF',\n",
       "       'EnclosedPorch', '3SsnPorch', 'ScreenPorch', 'PoolArea', 'PoolQC',\n",
       "       'Fence', 'MiscFeature', 'MiscVal', 'MoSold', 'YrSold', 'SaleType',\n",
       "       'SaleCondition', 'SalePrice'],\n",
       "      dtype='object')"
      ]
     },
     "execution_count": 2,
     "metadata": {},
     "output_type": "execute_result"
    }
   ],
   "source": [
    "home_data.columns"
   ]
  },
  {
   "cell_type": "markdown",
   "id": "67df09db",
   "metadata": {
    "papermill": {
     "duration": 0.007928,
     "end_time": "2024-01-30T20:49:17.615371",
     "exception": false,
     "start_time": "2024-01-30T20:49:17.607443",
     "status": "completed"
    },
    "tags": []
   },
   "source": [
    "# Exercises\n",
    "\n",
    "## Step 1: Specify Prediction Target\n",
    "Select the target variable, which corresponds to the sales price. Save this to a new variable called `y`. You'll need to print a list of the columns to find the name of the column you need.\n"
   ]
  },
  {
   "cell_type": "code",
   "execution_count": 3,
   "id": "ec8af479",
   "metadata": {
    "execution": {
     "iopub.execute_input": "2024-01-30T20:49:17.633835Z",
     "iopub.status.busy": "2024-01-30T20:49:17.633343Z",
     "iopub.status.idle": "2024-01-30T20:49:17.639372Z",
     "shell.execute_reply": "2024-01-30T20:49:17.637852Z"
    },
    "papermill": {
     "duration": 0.018407,
     "end_time": "2024-01-30T20:49:17.642005",
     "exception": false,
     "start_time": "2024-01-30T20:49:17.623598",
     "status": "completed"
    },
    "tags": []
   },
   "outputs": [],
   "source": [
    "# print the list of columns in the dataset to find the name of the prediction target"
   ]
  },
  {
   "cell_type": "code",
   "execution_count": 4,
   "id": "3ae11fb6",
   "metadata": {
    "execution": {
     "iopub.execute_input": "2024-01-30T20:49:17.661744Z",
     "iopub.status.busy": "2024-01-30T20:49:17.660854Z",
     "iopub.status.idle": "2024-01-30T20:49:17.676894Z",
     "shell.execute_reply": "2024-01-30T20:49:17.675264Z"
    },
    "papermill": {
     "duration": 0.029347,
     "end_time": "2024-01-30T20:49:17.679639",
     "exception": false,
     "start_time": "2024-01-30T20:49:17.650292",
     "status": "completed"
    },
    "tags": []
   },
   "outputs": [
    {
     "data": {
      "application/javascript": [
       "parent.postMessage({\"jupyterEvent\": \"custom.exercise_interaction\", \"data\": {\"outcomeType\": 1, \"valueTowardsCompletion\": 0.25, \"interactionType\": 1, \"questionType\": 2, \"questionId\": \"1_SetTarget\", \"learnToolsVersion\": \"0.3.4\", \"failureMessage\": \"\", \"exceptionClass\": \"\", \"trace\": \"\"}}, \"*\")"
      ],
      "text/plain": [
       "<IPython.core.display.Javascript object>"
      ]
     },
     "metadata": {},
     "output_type": "display_data"
    },
    {
     "data": {
      "text/markdown": [
       "<span style=\"color:#33cc33\">Correct</span>"
      ],
      "text/plain": [
       "Correct"
      ]
     },
     "metadata": {},
     "output_type": "display_data"
    }
   ],
   "source": [
    "y = home_data.SalePrice\n",
    "\n",
    "# Check your answer\n",
    "step_1.check()"
   ]
  },
  {
   "cell_type": "code",
   "execution_count": 5,
   "id": "8e61b472",
   "metadata": {
    "collapsed": true,
    "execution": {
     "iopub.execute_input": "2024-01-30T20:49:17.697236Z",
     "iopub.status.busy": "2024-01-30T20:49:17.696806Z",
     "iopub.status.idle": "2024-01-30T20:49:17.702358Z",
     "shell.execute_reply": "2024-01-30T20:49:17.700945Z"
    },
    "jupyter": {
     "outputs_hidden": true
    },
    "papermill": {
     "duration": 0.017482,
     "end_time": "2024-01-30T20:49:17.704979",
     "exception": false,
     "start_time": "2024-01-30T20:49:17.687497",
     "status": "completed"
    },
    "tags": []
   },
   "outputs": [],
   "source": [
    "# The lines below will show you a hint or the solution.\n",
    "# step_1.hint() \n",
    "# step_1.solution()"
   ]
  },
  {
   "cell_type": "markdown",
   "id": "2677c5b9",
   "metadata": {
    "papermill": {
     "duration": 0.008094,
     "end_time": "2024-01-30T20:49:17.721296",
     "exception": false,
     "start_time": "2024-01-30T20:49:17.713202",
     "status": "completed"
    },
    "tags": []
   },
   "source": [
    "## Step 2: Create X\n",
    "Now you will create a DataFrame called `X` holding the predictive features.\n",
    "\n",
    "Since you want only some columns from the original data, you'll first create a list with the names of the columns you want in `X`.\n",
    "\n",
    "You'll use just the following columns in the list (you can copy and paste the whole list to save some typing, though you'll still need to add quotes):\n",
    "  * LotArea\n",
    "  * YearBuilt\n",
    "  * 1stFlrSF\n",
    "  * 2ndFlrSF\n",
    "  * FullBath\n",
    "  * BedroomAbvGr\n",
    "  * TotRmsAbvGrd\n",
    "\n",
    "After you've created that list of features, use it to create the DataFrame that you'll use to fit the model."
   ]
  },
  {
   "cell_type": "code",
   "execution_count": 6,
   "id": "55dc3d08",
   "metadata": {
    "execution": {
     "iopub.execute_input": "2024-01-30T20:49:17.739860Z",
     "iopub.status.busy": "2024-01-30T20:49:17.739466Z",
     "iopub.status.idle": "2024-01-30T20:49:17.757145Z",
     "shell.execute_reply": "2024-01-30T20:49:17.755415Z"
    },
    "papermill": {
     "duration": 0.030518,
     "end_time": "2024-01-30T20:49:17.759962",
     "exception": false,
     "start_time": "2024-01-30T20:49:17.729444",
     "status": "completed"
    },
    "tags": []
   },
   "outputs": [
    {
     "data": {
      "application/javascript": [
       "parent.postMessage({\"jupyterEvent\": \"custom.exercise_interaction\", \"data\": {\"outcomeType\": 1, \"valueTowardsCompletion\": 0.25, \"interactionType\": 1, \"questionType\": 2, \"questionId\": \"2_SelectPredictionData\", \"learnToolsVersion\": \"0.3.4\", \"failureMessage\": \"\", \"exceptionClass\": \"\", \"trace\": \"\"}}, \"*\")"
      ],
      "text/plain": [
       "<IPython.core.display.Javascript object>"
      ]
     },
     "metadata": {},
     "output_type": "display_data"
    },
    {
     "data": {
      "text/markdown": [
       "<span style=\"color:#33cc33\">Correct</span>"
      ],
      "text/plain": [
       "Correct"
      ]
     },
     "metadata": {},
     "output_type": "display_data"
    }
   ],
   "source": [
    "# Create the list of features below\n",
    "feature_names = [\"LotArea\", \"YearBuilt\", \"1stFlrSF\", \"2ndFlrSF\", \"FullBath\", \"BedroomAbvGr\",\"TotRmsAbvGrd\"]\n",
    "\n",
    "# Select data corresponding to features in feature_names\n",
    "X = home_data[feature_names]\n",
    "\n",
    "# Check your answer\n",
    "step_2.check()"
   ]
  },
  {
   "cell_type": "code",
   "execution_count": 7,
   "id": "91153f63",
   "metadata": {
    "collapsed": true,
    "execution": {
     "iopub.execute_input": "2024-01-30T20:49:17.779020Z",
     "iopub.status.busy": "2024-01-30T20:49:17.778610Z",
     "iopub.status.idle": "2024-01-30T20:49:17.784212Z",
     "shell.execute_reply": "2024-01-30T20:49:17.782739Z"
    },
    "jupyter": {
     "outputs_hidden": true
    },
    "papermill": {
     "duration": 0.018483,
     "end_time": "2024-01-30T20:49:17.787213",
     "exception": false,
     "start_time": "2024-01-30T20:49:17.768730",
     "status": "completed"
    },
    "tags": []
   },
   "outputs": [],
   "source": [
    "# step_2.hint()\n",
    "# step_2.solution()"
   ]
  },
  {
   "cell_type": "markdown",
   "id": "874870db",
   "metadata": {
    "papermill": {
     "duration": 0.010124,
     "end_time": "2024-01-30T20:49:17.806342",
     "exception": false,
     "start_time": "2024-01-30T20:49:17.796218",
     "status": "completed"
    },
    "tags": []
   },
   "source": [
    "## Review Data\n",
    "Before building a model, take a quick look at **X** to verify it looks sensible"
   ]
  },
  {
   "cell_type": "code",
   "execution_count": 8,
   "id": "daab7014",
   "metadata": {
    "execution": {
     "iopub.execute_input": "2024-01-30T20:49:17.826815Z",
     "iopub.status.busy": "2024-01-30T20:49:17.826398Z",
     "iopub.status.idle": "2024-01-30T20:49:17.954311Z",
     "shell.execute_reply": "2024-01-30T20:49:17.953119Z"
    },
    "papermill": {
     "duration": 0.141736,
     "end_time": "2024-01-30T20:49:17.957657",
     "exception": false,
     "start_time": "2024-01-30T20:49:17.815921",
     "status": "completed"
    },
    "tags": []
   },
   "outputs": [
    {
     "name": "stdout",
     "output_type": "stream",
     "text": [
      "             LotArea    YearBuilt     1stFlrSF     2ndFlrSF     FullBath  \\\n",
      "count    1460.000000  1460.000000  1460.000000  1460.000000  1460.000000   \n",
      "mean    10516.828082  1971.267808  1162.626712   346.992466     1.565068   \n",
      "std      9981.264932    30.202904   386.587738   436.528436     0.550916   \n",
      "min      1300.000000  1872.000000   334.000000     0.000000     0.000000   \n",
      "25%      7553.500000  1954.000000   882.000000     0.000000     1.000000   \n",
      "50%      9478.500000  1973.000000  1087.000000     0.000000     2.000000   \n",
      "75%     11601.500000  2000.000000  1391.250000   728.000000     2.000000   \n",
      "max    215245.000000  2010.000000  4692.000000  2065.000000     3.000000   \n",
      "\n",
      "       BedroomAbvGr  TotRmsAbvGrd  \n",
      "count   1460.000000   1460.000000  \n",
      "mean       2.866438      6.517808  \n",
      "std        0.815778      1.625393  \n",
      "min        0.000000      2.000000  \n",
      "25%        2.000000      5.000000  \n",
      "50%        3.000000      6.000000  \n",
      "75%        3.000000      7.000000  \n",
      "max        8.000000     14.000000  \n",
      "   LotArea  YearBuilt  1stFlrSF  2ndFlrSF  FullBath  BedroomAbvGr  \\\n",
      "0     8450       2003       856       854         2             3   \n",
      "1     9600       1976      1262         0         2             3   \n",
      "2    11250       2001       920       866         2             3   \n",
      "3     9550       1915       961       756         1             3   \n",
      "4    14260       2000      1145      1053         2             4   \n",
      "\n",
      "   TotRmsAbvGrd  \n",
      "0             8  \n",
      "1             6  \n",
      "2             6  \n",
      "3             7  \n",
      "4             9  \n"
     ]
    }
   ],
   "source": [
    "# Review data\n",
    "# print description or statistics from X\n",
    "print(X.describe())\n",
    "\n",
    "# print the top few lines\n",
    "print(X.head())"
   ]
  },
  {
   "cell_type": "markdown",
   "id": "e4377929",
   "metadata": {
    "papermill": {
     "duration": 0.008367,
     "end_time": "2024-01-30T20:49:17.975234",
     "exception": false,
     "start_time": "2024-01-30T20:49:17.966867",
     "status": "completed"
    },
    "tags": []
   },
   "source": [
    "## Step 3: Specify and Fit Model\n",
    "Create a `DecisionTreeRegressor` and save it iowa_model. Ensure you've done the relevant import from sklearn to run this command.\n",
    "\n",
    "Then fit the model you just created using the data in `X` and `y` that you saved above."
   ]
  },
  {
   "cell_type": "code",
   "execution_count": 9,
   "id": "cd094086",
   "metadata": {
    "execution": {
     "iopub.execute_input": "2024-01-30T20:49:17.995557Z",
     "iopub.status.busy": "2024-01-30T20:49:17.994211Z",
     "iopub.status.idle": "2024-01-30T20:49:18.021855Z",
     "shell.execute_reply": "2024-01-30T20:49:18.020139Z"
    },
    "papermill": {
     "duration": 0.04053,
     "end_time": "2024-01-30T20:49:18.024826",
     "exception": false,
     "start_time": "2024-01-30T20:49:17.984296",
     "status": "completed"
    },
    "tags": []
   },
   "outputs": [
    {
     "data": {
      "application/javascript": [
       "parent.postMessage({\"jupyterEvent\": \"custom.exercise_interaction\", \"data\": {\"outcomeType\": 1, \"valueTowardsCompletion\": 0.25, \"interactionType\": 1, \"questionType\": 2, \"questionId\": \"3_CreateModel\", \"learnToolsVersion\": \"0.3.4\", \"failureMessage\": \"\", \"exceptionClass\": \"\", \"trace\": \"\"}}, \"*\")"
      ],
      "text/plain": [
       "<IPython.core.display.Javascript object>"
      ]
     },
     "metadata": {},
     "output_type": "display_data"
    },
    {
     "data": {
      "text/markdown": [
       "<span style=\"color:#33cc33\">Correct</span>"
      ],
      "text/plain": [
       "Correct"
      ]
     },
     "metadata": {},
     "output_type": "display_data"
    }
   ],
   "source": [
    "#from _ import _\n",
    "from sklearn.tree import DecisionTreeRegressor\n",
    "#specify the model. \n",
    "#For model reproducibility, set a numeric value for random_state when specifying the model\n",
    "iowa_model = DecisionTreeRegressor(random_state=1)\n",
    "\n",
    "# Fit the model\n",
    "iowa_model.fit(X,y)\n",
    "\n",
    "# Check your answer\n",
    "step_3.check()"
   ]
  },
  {
   "cell_type": "code",
   "execution_count": 10,
   "id": "c4adbad3",
   "metadata": {
    "collapsed": true,
    "execution": {
     "iopub.execute_input": "2024-01-30T20:49:18.047138Z",
     "iopub.status.busy": "2024-01-30T20:49:18.046684Z",
     "iopub.status.idle": "2024-01-30T20:49:18.052332Z",
     "shell.execute_reply": "2024-01-30T20:49:18.050954Z"
    },
    "jupyter": {
     "outputs_hidden": true
    },
    "papermill": {
     "duration": 0.019225,
     "end_time": "2024-01-30T20:49:18.054883",
     "exception": false,
     "start_time": "2024-01-30T20:49:18.035658",
     "status": "completed"
    },
    "tags": []
   },
   "outputs": [],
   "source": [
    "# step_3.hint()\n",
    "# step_3.solution()"
   ]
  },
  {
   "cell_type": "markdown",
   "id": "8991d43a",
   "metadata": {
    "papermill": {
     "duration": 0.008594,
     "end_time": "2024-01-30T20:49:18.072801",
     "exception": false,
     "start_time": "2024-01-30T20:49:18.064207",
     "status": "completed"
    },
    "tags": []
   },
   "source": [
    "## Step 4: Make Predictions\n",
    "Make predictions with the model's `predict` command using `X` as the data. Save the results to a variable called `predictions`."
   ]
  },
  {
   "cell_type": "code",
   "execution_count": 11,
   "id": "f2720516",
   "metadata": {
    "execution": {
     "iopub.execute_input": "2024-01-30T20:49:18.092701Z",
     "iopub.status.busy": "2024-01-30T20:49:18.092206Z",
     "iopub.status.idle": "2024-01-30T20:49:18.108197Z",
     "shell.execute_reply": "2024-01-30T20:49:18.107216Z"
    },
    "papermill": {
     "duration": 0.028916,
     "end_time": "2024-01-30T20:49:18.110585",
     "exception": false,
     "start_time": "2024-01-30T20:49:18.081669",
     "status": "completed"
    },
    "tags": []
   },
   "outputs": [
    {
     "name": "stdout",
     "output_type": "stream",
     "text": [
      "[208500. 181500. 223500. ... 266500. 142125. 147500.]\n"
     ]
    },
    {
     "data": {
      "application/javascript": [
       "parent.postMessage({\"jupyterEvent\": \"custom.exercise_interaction\", \"data\": {\"outcomeType\": 1, \"valueTowardsCompletion\": 0.25, \"interactionType\": 1, \"questionType\": 2, \"questionId\": \"4_MakePredictions\", \"learnToolsVersion\": \"0.3.4\", \"failureMessage\": \"\", \"exceptionClass\": \"\", \"trace\": \"\"}}, \"*\")"
      ],
      "text/plain": [
       "<IPython.core.display.Javascript object>"
      ]
     },
     "metadata": {},
     "output_type": "display_data"
    },
    {
     "data": {
      "text/markdown": [
       "<span style=\"color:#33cc33\">Correct</span>"
      ],
      "text/plain": [
       "Correct"
      ]
     },
     "metadata": {},
     "output_type": "display_data"
    }
   ],
   "source": [
    "predictions = iowa_model.predict(X)\n",
    "print(predictions)\n",
    "\n",
    "# Check your answer\n",
    "step_4.check()"
   ]
  },
  {
   "cell_type": "code",
   "execution_count": 12,
   "id": "0aea00c3",
   "metadata": {
    "collapsed": true,
    "execution": {
     "iopub.execute_input": "2024-01-30T20:49:18.131737Z",
     "iopub.status.busy": "2024-01-30T20:49:18.131243Z",
     "iopub.status.idle": "2024-01-30T20:49:18.137142Z",
     "shell.execute_reply": "2024-01-30T20:49:18.135551Z"
    },
    "jupyter": {
     "outputs_hidden": true
    },
    "papermill": {
     "duration": 0.019786,
     "end_time": "2024-01-30T20:49:18.139952",
     "exception": false,
     "start_time": "2024-01-30T20:49:18.120166",
     "status": "completed"
    },
    "tags": []
   },
   "outputs": [],
   "source": [
    "# step_4.hint()\n",
    "# step_4.solution()"
   ]
  },
  {
   "cell_type": "markdown",
   "id": "cd97a086",
   "metadata": {
    "papermill": {
     "duration": 0.009711,
     "end_time": "2024-01-30T20:49:18.159493",
     "exception": false,
     "start_time": "2024-01-30T20:49:18.149782",
     "status": "completed"
    },
    "tags": []
   },
   "source": [
    "## Think About Your Results\n",
    "\n",
    "Use the `head` method to compare the top few predictions to the actual home values (in `y`) for those same homes. Anything surprising?\n"
   ]
  },
  {
   "cell_type": "code",
   "execution_count": 13,
   "id": "1fc9c73d",
   "metadata": {
    "execution": {
     "iopub.execute_input": "2024-01-30T20:49:18.181197Z",
     "iopub.status.busy": "2024-01-30T20:49:18.180680Z",
     "iopub.status.idle": "2024-01-30T20:49:18.190903Z",
     "shell.execute_reply": "2024-01-30T20:49:18.189534Z"
    },
    "papermill": {
     "duration": 0.024595,
     "end_time": "2024-01-30T20:49:18.193633",
     "exception": false,
     "start_time": "2024-01-30T20:49:18.169038",
     "status": "completed"
    },
    "tags": []
   },
   "outputs": [
    {
     "data": {
      "text/plain": [
       "0    208500\n",
       "1    181500\n",
       "2    223500\n",
       "3    140000\n",
       "4    250000\n",
       "Name: SalePrice, dtype: int64"
      ]
     },
     "execution_count": 13,
     "metadata": {},
     "output_type": "execute_result"
    }
   ],
   "source": [
    "# You can write code in this cell\n",
    "y.head()\n"
   ]
  },
  {
   "cell_type": "markdown",
   "id": "cca77202",
   "metadata": {
    "papermill": {
     "duration": 0.010267,
     "end_time": "2024-01-30T20:49:18.213991",
     "exception": false,
     "start_time": "2024-01-30T20:49:18.203724",
     "status": "completed"
    },
    "tags": []
   },
   "source": [
    "It's natural to ask how accurate the model's predictions will be and how you can improve that. That will be you're next step.\n",
    "\n",
    "# Keep Going\n",
    "\n",
    "You are ready for **[Model Validation](https://www.kaggle.com/dansbecker/model-validation).**\n"
   ]
  },
  {
   "cell_type": "markdown",
   "id": "21772b63",
   "metadata": {
    "papermill": {
     "duration": 0.009562,
     "end_time": "2024-01-30T20:49:18.233952",
     "exception": false,
     "start_time": "2024-01-30T20:49:18.224390",
     "status": "completed"
    },
    "tags": []
   },
   "source": [
    "---\n",
    "\n",
    "\n",
    "\n",
    "\n",
    "*Have questions or comments? Visit the [course discussion forum](https://www.kaggle.com/learn/intro-to-machine-learning/discussion) to chat with other learners.*"
   ]
  }
 ],
 "metadata": {
  "kaggle": {
   "accelerator": "none",
   "dataSources": [
    {
     "databundleVersionId": 111096,
     "sourceId": 10211,
     "sourceType": "competition"
    },
    {
     "datasetId": 11167,
     "sourceId": 15520,
     "sourceType": "datasetVersion"
    },
    {
     "datasetId": 2709,
     "sourceId": 38454,
     "sourceType": "datasetVersion"
    }
   ],
   "isGpuEnabled": false,
   "isInternetEnabled": false,
   "language": "python",
   "sourceType": "notebook"
  },
  "kernelspec": {
   "display_name": "Python 3",
   "language": "python",
   "name": "python3"
  },
  "language_info": {
   "codemirror_mode": {
    "name": "ipython",
    "version": 3
   },
   "file_extension": ".py",
   "mimetype": "text/x-python",
   "name": "python",
   "nbconvert_exporter": "python",
   "pygments_lexer": "ipython3",
   "version": "3.10.13"
  },
  "papermill": {
   "default_parameters": {},
   "duration": 8.583991,
   "end_time": "2024-01-30T20:49:19.170783",
   "environment_variables": {},
   "exception": null,
   "input_path": "__notebook__.ipynb",
   "output_path": "__notebook__.ipynb",
   "parameters": {},
   "start_time": "2024-01-30T20:49:10.586792",
   "version": "2.5.0"
  }
 },
 "nbformat": 4,
 "nbformat_minor": 5
}
