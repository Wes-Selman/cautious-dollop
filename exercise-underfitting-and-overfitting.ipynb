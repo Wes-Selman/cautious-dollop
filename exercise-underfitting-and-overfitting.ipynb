{
 "cells": [
  {
   "cell_type": "markdown",
   "id": "1250540f",
   "metadata": {
    "papermill": {
     "duration": 0.005184,
     "end_time": "2024-01-30T20:49:39.891637",
     "exception": false,
     "start_time": "2024-01-30T20:49:39.886453",
     "status": "completed"
    },
    "tags": []
   },
   "source": [
    "**This notebook is an exercise in the [Introduction to Machine Learning](https://www.kaggle.com/learn/intro-to-machine-learning) course.  You can reference the tutorial at [this link](https://www.kaggle.com/dansbecker/underfitting-and-overfitting).**\n",
    "\n",
    "---\n"
   ]
  },
  {
   "cell_type": "markdown",
   "id": "ed1f5b02",
   "metadata": {
    "papermill": {
     "duration": 0.004349,
     "end_time": "2024-01-30T20:49:39.900906",
     "exception": false,
     "start_time": "2024-01-30T20:49:39.896557",
     "status": "completed"
    },
    "tags": []
   },
   "source": [
    "## Recap\n",
    "You've built your first model, and now it's time to optimize the size of the tree to make better predictions. Run this cell to set up your coding environment where the previous step left off."
   ]
  },
  {
   "cell_type": "code",
   "execution_count": 1,
   "id": "d767c53b",
   "metadata": {
    "execution": {
     "iopub.execute_input": "2024-01-30T20:49:39.912323Z",
     "iopub.status.busy": "2024-01-30T20:49:39.911695Z",
     "iopub.status.idle": "2024-01-30T20:49:42.960049Z",
     "shell.execute_reply": "2024-01-30T20:49:42.958701Z"
    },
    "papermill": {
     "duration": 3.057215,
     "end_time": "2024-01-30T20:49:42.962726",
     "exception": false,
     "start_time": "2024-01-30T20:49:39.905511",
     "status": "completed"
    },
    "tags": []
   },
   "outputs": [
    {
     "name": "stdout",
     "output_type": "stream",
     "text": [
      "Validation MAE: 29,653\n",
      "\n",
      "Setup complete\n"
     ]
    }
   ],
   "source": [
    "# Code you have previously used to load data\n",
    "import pandas as pd\n",
    "from sklearn.metrics import mean_absolute_error\n",
    "from sklearn.model_selection import train_test_split\n",
    "from sklearn.tree import DecisionTreeRegressor\n",
    "\n",
    "\n",
    "# Path of the file to read\n",
    "iowa_file_path = '../input/home-data-for-ml-course/train.csv'\n",
    "\n",
    "home_data = pd.read_csv(iowa_file_path)\n",
    "# Create target object and call it y\n",
    "y = home_data.SalePrice\n",
    "# Create X\n",
    "features = ['LotArea', 'YearBuilt', '1stFlrSF', '2ndFlrSF', 'FullBath', 'BedroomAbvGr', 'TotRmsAbvGrd']\n",
    "X = home_data[features]\n",
    "\n",
    "# Split into validation and training data\n",
    "train_X, val_X, train_y, val_y = train_test_split(X, y, random_state=1)\n",
    "\n",
    "# Specify Model\n",
    "iowa_model = DecisionTreeRegressor(random_state=1)\n",
    "# Fit Model\n",
    "iowa_model.fit(train_X, train_y)\n",
    "\n",
    "# Make validation predictions and calculate mean absolute error\n",
    "val_predictions = iowa_model.predict(val_X)\n",
    "val_mae = mean_absolute_error(val_predictions, val_y)\n",
    "print(\"Validation MAE: {:,.0f}\".format(val_mae))\n",
    "\n",
    "# Set up code checking\n",
    "from learntools.core import binder\n",
    "binder.bind(globals())\n",
    "from learntools.machine_learning.ex5 import *\n",
    "print(\"\\nSetup complete\")"
   ]
  },
  {
   "cell_type": "markdown",
   "id": "763fbe4a",
   "metadata": {
    "papermill": {
     "duration": 0.004805,
     "end_time": "2024-01-30T20:49:42.972499",
     "exception": false,
     "start_time": "2024-01-30T20:49:42.967694",
     "status": "completed"
    },
    "tags": []
   },
   "source": [
    "# Exercises\n",
    "You could write the function `get_mae` yourself. For now, we'll supply it. This is the same function you read about in the previous lesson. Just run the cell below."
   ]
  },
  {
   "cell_type": "code",
   "execution_count": 2,
   "id": "e2665d91",
   "metadata": {
    "execution": {
     "iopub.execute_input": "2024-01-30T20:49:42.984358Z",
     "iopub.status.busy": "2024-01-30T20:49:42.983298Z",
     "iopub.status.idle": "2024-01-30T20:49:42.989199Z",
     "shell.execute_reply": "2024-01-30T20:49:42.988337Z"
    },
    "papermill": {
     "duration": 0.014526,
     "end_time": "2024-01-30T20:49:42.991737",
     "exception": false,
     "start_time": "2024-01-30T20:49:42.977211",
     "status": "completed"
    },
    "tags": []
   },
   "outputs": [],
   "source": [
    "def get_mae(max_leaf_nodes, train_X, val_X, train_y, val_y):\n",
    "    model = DecisionTreeRegressor(max_leaf_nodes=max_leaf_nodes, random_state=0)\n",
    "    model.fit(train_X, train_y)\n",
    "    preds_val = model.predict(val_X)\n",
    "    mae = mean_absolute_error(val_y, preds_val)\n",
    "    return(mae)"
   ]
  },
  {
   "cell_type": "markdown",
   "id": "50b20ad0",
   "metadata": {
    "papermill": {
     "duration": 0.004779,
     "end_time": "2024-01-30T20:49:43.001337",
     "exception": false,
     "start_time": "2024-01-30T20:49:42.996558",
     "status": "completed"
    },
    "tags": []
   },
   "source": [
    "## Step 1: Compare Different Tree Sizes\n",
    "Write a loop that tries the following values for *max_leaf_nodes* from a set of possible values.\n",
    "\n",
    "Call the *get_mae* function on each value of max_leaf_nodes. Store the output in some way that allows you to select the value of `max_leaf_nodes` that gives the most accurate model on your data."
   ]
  },
  {
   "cell_type": "code",
   "execution_count": 3,
   "id": "d810f540",
   "metadata": {
    "execution": {
     "iopub.execute_input": "2024-01-30T20:49:43.013811Z",
     "iopub.status.busy": "2024-01-30T20:49:43.013398Z",
     "iopub.status.idle": "2024-01-30T20:49:43.070411Z",
     "shell.execute_reply": "2024-01-30T20:49:43.069330Z"
    },
    "papermill": {
     "duration": 0.066552,
     "end_time": "2024-01-30T20:49:43.073184",
     "exception": false,
     "start_time": "2024-01-30T20:49:43.006632",
     "status": "completed"
    },
    "tags": []
   },
   "outputs": [
    {
     "name": "stdout",
     "output_type": "stream",
     "text": [
      "Max leaf nodes: 5 \t\t Mean Absolute Error: 35044\n",
      "Max leaf nodes: 25 \t\t Mean Absolute Error: 29016\n",
      "Max leaf nodes: 50 \t\t Mean Absolute Error: 27405\n",
      "Max leaf nodes: 100 \t\t Mean Absolute Error: 27282\n",
      "Max leaf nodes: 250 \t\t Mean Absolute Error: 27893\n",
      "Max leaf nodes: 500 \t\t Mean Absolute Error: 29454\n"
     ]
    },
    {
     "data": {
      "application/javascript": [
       "parent.postMessage({\"jupyterEvent\": \"custom.exercise_interaction\", \"data\": {\"outcomeType\": 1, \"valueTowardsCompletion\": 0.5, \"interactionType\": 1, \"questionType\": 1, \"questionId\": \"1_BestTreeSize\", \"learnToolsVersion\": \"0.3.4\", \"failureMessage\": \"\", \"exceptionClass\": \"\", \"trace\": \"\"}}, \"*\")"
      ],
      "text/plain": [
       "<IPython.core.display.Javascript object>"
      ]
     },
     "metadata": {},
     "output_type": "display_data"
    },
    {
     "data": {
      "text/markdown": [
       "<span style=\"color:#33cc33\">Correct</span>"
      ],
      "text/plain": [
       "Correct"
      ]
     },
     "metadata": {},
     "output_type": "display_data"
    }
   ],
   "source": [
    "candidate_max_leaf_nodes = [5, 25, 50, 100, 250, 500]\n",
    "# Write loop to find the ideal tree size from candidate_max_leaf_nodes\n",
    "for max_leaf_nodes in candidate_max_leaf_nodes:\n",
    "    test_mae = get_mae(max_leaf_nodes, train_X, val_X, train_y, val_y)\n",
    "    print(\"Max leaf nodes: %d \\t\\t Mean Absolute Error: %d\" %(max_leaf_nodes, test_mae))\n",
    "\n",
    "# Store the best value of max_leaf_nodes (it will be either 5, 25, 50, 100, 250 or 500)\n",
    "best_tree_size = 100\n",
    "\n",
    "# Check your answer\n",
    "step_1.check()"
   ]
  },
  {
   "cell_type": "code",
   "execution_count": 4,
   "id": "45763a96",
   "metadata": {
    "execution": {
     "iopub.execute_input": "2024-01-30T20:49:43.085963Z",
     "iopub.status.busy": "2024-01-30T20:49:43.085565Z",
     "iopub.status.idle": "2024-01-30T20:49:43.089942Z",
     "shell.execute_reply": "2024-01-30T20:49:43.088878Z"
    },
    "papermill": {
     "duration": 0.013795,
     "end_time": "2024-01-30T20:49:43.092412",
     "exception": false,
     "start_time": "2024-01-30T20:49:43.078617",
     "status": "completed"
    },
    "tags": []
   },
   "outputs": [],
   "source": [
    "# The lines below will show you a hint or the solution.\n",
    "# step_1.hint() \n",
    "# step_1.solution()"
   ]
  },
  {
   "cell_type": "markdown",
   "id": "c742b0bd",
   "metadata": {
    "papermill": {
     "duration": 0.005152,
     "end_time": "2024-01-30T20:49:43.102987",
     "exception": false,
     "start_time": "2024-01-30T20:49:43.097835",
     "status": "completed"
    },
    "tags": []
   },
   "source": [
    "## Step 2: Fit Model Using All Data\n",
    "You know the best tree size. If you were going to deploy this model in practice, you would make it even more accurate by using all of the data and keeping that tree size.  That is, you don't need to hold out the validation data now that you've made all your modeling decisions."
   ]
  },
  {
   "cell_type": "code",
   "execution_count": 5,
   "id": "a349de89",
   "metadata": {
    "execution": {
     "iopub.execute_input": "2024-01-30T20:49:43.116579Z",
     "iopub.status.busy": "2024-01-30T20:49:43.115868Z",
     "iopub.status.idle": "2024-01-30T20:49:43.134406Z",
     "shell.execute_reply": "2024-01-30T20:49:43.133185Z"
    },
    "papermill": {
     "duration": 0.028384,
     "end_time": "2024-01-30T20:49:43.137206",
     "exception": false,
     "start_time": "2024-01-30T20:49:43.108822",
     "status": "completed"
    },
    "tags": []
   },
   "outputs": [
    {
     "data": {
      "application/javascript": [
       "parent.postMessage({\"jupyterEvent\": \"custom.exercise_interaction\", \"data\": {\"outcomeType\": 1, \"valueTowardsCompletion\": 0.5, \"interactionType\": 1, \"questionType\": 2, \"questionId\": \"2_FitModelWithAllData\", \"learnToolsVersion\": \"0.3.4\", \"failureMessage\": \"\", \"exceptionClass\": \"\", \"trace\": \"\"}}, \"*\")"
      ],
      "text/plain": [
       "<IPython.core.display.Javascript object>"
      ]
     },
     "metadata": {},
     "output_type": "display_data"
    },
    {
     "data": {
      "text/markdown": [
       "<span style=\"color:#33cc33\">Correct</span>"
      ],
      "text/plain": [
       "Correct"
      ]
     },
     "metadata": {},
     "output_type": "display_data"
    }
   ],
   "source": [
    "# Fill in argument to make optimal size and uncomment\n",
    "\n",
    "final_model = DecisionTreeRegressor(max_leaf_nodes = best_tree_size, random_state = 1)\n",
    "\n",
    "# fit the final model and uncomment the next two lines\n",
    "\n",
    "final_model.fit(X,y)\n",
    "\n",
    "# Check your answer\n",
    "step_2.check()"
   ]
  },
  {
   "cell_type": "code",
   "execution_count": 6,
   "id": "3d8f0606",
   "metadata": {
    "execution": {
     "iopub.execute_input": "2024-01-30T20:49:43.150901Z",
     "iopub.status.busy": "2024-01-30T20:49:43.150455Z",
     "iopub.status.idle": "2024-01-30T20:49:43.155264Z",
     "shell.execute_reply": "2024-01-30T20:49:43.154057Z"
    },
    "papermill": {
     "duration": 0.014783,
     "end_time": "2024-01-30T20:49:43.157986",
     "exception": false,
     "start_time": "2024-01-30T20:49:43.143203",
     "status": "completed"
    },
    "tags": []
   },
   "outputs": [],
   "source": [
    "# step_2.hint()\n",
    "# step_2.solution()"
   ]
  },
  {
   "cell_type": "markdown",
   "id": "09ed101f",
   "metadata": {
    "papermill": {
     "duration": 0.005521,
     "end_time": "2024-01-30T20:49:43.169526",
     "exception": false,
     "start_time": "2024-01-30T20:49:43.164005",
     "status": "completed"
    },
    "tags": []
   },
   "source": [
    "You've tuned this model and improved your results. But we are still using Decision Tree models, which are not very sophisticated by modern machine learning standards. In the next step you will learn to use Random Forests to improve your models even more.\n",
    "\n",
    "# Keep Going\n",
    "\n",
    "You are ready for **[Random Forests](https://www.kaggle.com/dansbecker/random-forests).**\n"
   ]
  },
  {
   "cell_type": "markdown",
   "id": "d7297b1f",
   "metadata": {
    "papermill": {
     "duration": 0.005677,
     "end_time": "2024-01-30T20:49:43.180937",
     "exception": false,
     "start_time": "2024-01-30T20:49:43.175260",
     "status": "completed"
    },
    "tags": []
   },
   "source": [
    "---\n",
    "\n",
    "\n",
    "\n",
    "\n",
    "*Have questions or comments? Visit the [course discussion forum](https://www.kaggle.com/learn/intro-to-machine-learning/discussion) to chat with other learners.*"
   ]
  }
 ],
 "metadata": {
  "kaggle": {
   "accelerator": "none",
   "dataSources": [
    {
     "databundleVersionId": 111096,
     "sourceId": 10211,
     "sourceType": "competition"
    },
    {
     "datasetId": 11167,
     "sourceId": 15520,
     "sourceType": "datasetVersion"
    },
    {
     "datasetId": 2709,
     "sourceId": 38454,
     "sourceType": "datasetVersion"
    }
   ],
   "isGpuEnabled": false,
   "isInternetEnabled": false,
   "language": "python",
   "sourceType": "notebook"
  },
  "kernelspec": {
   "display_name": "Python 3",
   "language": "python",
   "name": "python3"
  },
  "language_info": {
   "codemirror_mode": {
    "name": "ipython",
    "version": 3
   },
   "file_extension": ".py",
   "mimetype": "text/x-python",
   "name": "python",
   "nbconvert_exporter": "python",
   "pygments_lexer": "ipython3",
   "version": "3.10.13"
  },
  "papermill": {
   "default_parameters": {},
   "duration": 7.131429,
   "end_time": "2024-01-30T20:49:43.808139",
   "environment_variables": {},
   "exception": null,
   "input_path": "__notebook__.ipynb",
   "output_path": "__notebook__.ipynb",
   "parameters": {},
   "start_time": "2024-01-30T20:49:36.676710",
   "version": "2.5.0"
  }
 },
 "nbformat": 4,
 "nbformat_minor": 5
}
