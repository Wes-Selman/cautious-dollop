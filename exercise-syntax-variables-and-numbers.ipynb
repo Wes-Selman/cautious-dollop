{
 "cells": [
  {
   "cell_type": "markdown",
   "id": "1e07fbcc",
   "metadata": {
    "papermill": {
     "duration": 0.011318,
     "end_time": "2024-01-30T20:37:44.186666",
     "exception": false,
     "start_time": "2024-01-30T20:37:44.175348",
     "status": "completed"
    },
    "tags": []
   },
   "source": [
    "**This notebook is an exercise in the [Python](https://www.kaggle.com/learn/python) course.  You can reference the tutorial at [this link](https://www.kaggle.com/colinmorris/hello-python).**\n",
    "\n",
    "---\n"
   ]
  },
  {
   "cell_type": "markdown",
   "id": "53026f99",
   "metadata": {
    "papermill": {
     "duration": 0.008139,
     "end_time": "2024-01-30T20:37:44.203489",
     "exception": false,
     "start_time": "2024-01-30T20:37:44.195350",
     "status": "completed"
    },
    "tags": []
   },
   "source": [
    "Welcome to your first set of Python coding problems.  If this is your first time using Kaggle Notebooks, welcome! \n",
    "\n",
    "Notebooks are composed of blocks (called \"cells\") of text and code. Each of these is editable, though you'll mainly be editing the code cells to answer some questions.\n",
    "\n",
    "To get started, try running the code cell below (by pressing the ► button, or clicking on the cell and pressing ctrl+enter on your keyboard)."
   ]
  },
  {
   "cell_type": "code",
   "execution_count": 1,
   "id": "2e9a36a7",
   "metadata": {
    "execution": {
     "iopub.execute_input": "2024-01-30T20:37:44.222760Z",
     "iopub.status.busy": "2024-01-30T20:37:44.221597Z",
     "iopub.status.idle": "2024-01-30T20:37:44.235532Z",
     "shell.execute_reply": "2024-01-30T20:37:44.234254Z"
    },
    "papermill": {
     "duration": 0.026068,
     "end_time": "2024-01-30T20:37:44.237878",
     "exception": false,
     "start_time": "2024-01-30T20:37:44.211810",
     "status": "completed"
    },
    "tags": []
   },
   "outputs": [
    {
     "name": "stdout",
     "output_type": "stream",
     "text": [
      "You've successfully run some Python code\n",
      "Congratulations!\n"
     ]
    }
   ],
   "source": [
    "print(\"You've successfully run some Python code\")\n",
    "print(\"Congratulations!\")"
   ]
  },
  {
   "cell_type": "markdown",
   "id": "ed5559b3",
   "metadata": {
    "papermill": {
     "duration": 0.008091,
     "end_time": "2024-01-30T20:37:44.254716",
     "exception": false,
     "start_time": "2024-01-30T20:37:44.246625",
     "status": "completed"
    },
    "tags": []
   },
   "source": [
    "Try adding another line of code in the cell above and re-running it. \n",
    "\n",
    "Now let's get a little fancier:  Add a new code cell by clicking on an existing code cell, hitting the escape key, and then hitting the `a` or `b` key.  The `a` key will add a cell above the current cell, and `b` adds a cell below.\n",
    "\n",
    "Great! Now you know how to use Notebooks.\n",
    "\n",
    "Each hands-on exercise starts by setting up our feedback and code checking mechanism. Run the code cell below to do that. Then you'll be ready to move on to question 0."
   ]
  },
  {
   "cell_type": "code",
   "execution_count": 2,
   "id": "cff5a717",
   "metadata": {
    "_kg_hide-input": true,
    "_kg_hide-output": true,
    "execution": {
     "iopub.execute_input": "2024-01-30T20:37:44.273854Z",
     "iopub.status.busy": "2024-01-30T20:37:44.272886Z",
     "iopub.status.idle": "2024-01-30T20:37:45.169988Z",
     "shell.execute_reply": "2024-01-30T20:37:45.168748Z"
    },
    "papermill": {
     "duration": 0.909537,
     "end_time": "2024-01-30T20:37:45.172741",
     "exception": false,
     "start_time": "2024-01-30T20:37:44.263204",
     "status": "completed"
    },
    "tags": []
   },
   "outputs": [
    {
     "name": "stdout",
     "output_type": "stream",
     "text": [
      "Setup complete! You're ready to start question 0.\n"
     ]
    }
   ],
   "source": [
    "from learntools.core import binder; binder.bind(globals())\n",
    "from learntools.python.ex1 import *\n",
    "print(\"Setup complete! You're ready to start question 0.\")"
   ]
  },
  {
   "cell_type": "markdown",
   "id": "6887084c",
   "metadata": {
    "papermill": {
     "duration": 0.008507,
     "end_time": "2024-01-30T20:37:45.190084",
     "exception": false,
     "start_time": "2024-01-30T20:37:45.181577",
     "status": "completed"
    },
    "tags": []
   },
   "source": [
    "# 0.\n",
    "\n",
    "*This is a silly question intended as an introduction to the format we use for hands-on exercises throughout all Kaggle courses.*\n",
    "\n",
    "**What is your favorite color? **\n",
    "\n",
    "To complete this question, create a variable called `color` in the cell below with an appropriate value. The function call `q0.check()` (which we've already provided in the cell below) will check your answer."
   ]
  },
  {
   "cell_type": "code",
   "execution_count": 3,
   "id": "0abcb560",
   "metadata": {
    "execution": {
     "iopub.execute_input": "2024-01-30T20:37:45.209614Z",
     "iopub.status.busy": "2024-01-30T20:37:45.208721Z",
     "iopub.status.idle": "2024-01-30T20:37:45.219117Z",
     "shell.execute_reply": "2024-01-30T20:37:45.218366Z"
    },
    "papermill": {
     "duration": 0.022619,
     "end_time": "2024-01-30T20:37:45.221299",
     "exception": false,
     "start_time": "2024-01-30T20:37:45.198680",
     "status": "completed"
    },
    "tags": []
   },
   "outputs": [
    {
     "data": {
      "application/javascript": [
       "parent.postMessage({\"jupyterEvent\": \"custom.exercise_interaction\", \"data\": {\"outcomeType\": 1, \"valueTowardsCompletion\": 0.25, \"interactionType\": 1, \"questionType\": 2, \"questionId\": \"0_ExerciseFormatTutorial\", \"learnToolsVersion\": \"0.3.4\", \"failureMessage\": \"\", \"exceptionClass\": \"\", \"trace\": \"\"}}, \"*\")"
      ],
      "text/plain": [
       "<IPython.core.display.Javascript object>"
      ]
     },
     "metadata": {},
     "output_type": "display_data"
    },
    {
     "data": {
      "text/markdown": [
       "<span style=\"color:#33cc33\">Correct:</span> What?! You got it right without needing a hint or anything? Drats. Well hey, you should still continue to the next step to get some practice asking for a hint and checking solutions. (Even though you obviously don't need any help here.)"
      ],
      "text/plain": [
       "Correct: What?! You got it right without needing a hint or anything? Drats. Well hey, you should still continue to the next step to get some practice asking for a hint and checking solutions. (Even though you obviously don't need any help here.)"
      ]
     },
     "metadata": {},
     "output_type": "display_data"
    }
   ],
   "source": [
    "# create a variable called color with an appropriate value on the line below\n",
    "# (Remember, strings in Python must be enclosed in 'single' or \"double\" quotes)\n",
    "____\n",
    "color = \"blue\"\n",
    "# Check your answer\n",
    "q0.check()"
   ]
  },
  {
   "cell_type": "markdown",
   "id": "3b694797",
   "metadata": {
    "papermill": {
     "duration": 0.008877,
     "end_time": "2024-01-30T20:37:45.239224",
     "exception": false,
     "start_time": "2024-01-30T20:37:45.230347",
     "status": "completed"
    },
    "tags": []
   },
   "source": [
    "Didn't get the right answer? How do you not even know your own favorite color?!\n",
    "\n",
    "Delete the `#` in the line below to make one of the lines run. You can choose between getting a hint or the full answer by choosing which line to remove the `#` from. \n",
    "\n",
    "Removing the `#` is called uncommenting, because it changes that line from a \"comment\" which Python doesn't run to code, which Python does run."
   ]
  },
  {
   "cell_type": "code",
   "execution_count": 4,
   "id": "81d3dd2e",
   "metadata": {
    "execution": {
     "iopub.execute_input": "2024-01-30T20:37:45.259240Z",
     "iopub.status.busy": "2024-01-30T20:37:45.258557Z",
     "iopub.status.idle": "2024-01-30T20:37:45.263120Z",
     "shell.execute_reply": "2024-01-30T20:37:45.262074Z"
    },
    "papermill": {
     "duration": 0.017224,
     "end_time": "2024-01-30T20:37:45.265434",
     "exception": false,
     "start_time": "2024-01-30T20:37:45.248210",
     "status": "completed"
    },
    "tags": []
   },
   "outputs": [],
   "source": [
    "#q0.hint()\n",
    "#q0.solution()"
   ]
  },
  {
   "cell_type": "markdown",
   "id": "4a938d3a",
   "metadata": {
    "papermill": {
     "duration": 0.009745,
     "end_time": "2024-01-30T20:37:45.284131",
     "exception": false,
     "start_time": "2024-01-30T20:37:45.274386",
     "status": "completed"
    },
    "tags": []
   },
   "source": [
    "The upcoming questions work the same way. The only thing that will change are the question numbers. For the next question, you'll call `q1.check()`, `q1.hint()`, `q1.solution()`, for question 2, you'll call `q2.check()`, and so on."
   ]
  },
  {
   "cell_type": "markdown",
   "id": "fec11f79",
   "metadata": {
    "papermill": {
     "duration": 0.008767,
     "end_time": "2024-01-30T20:37:45.301939",
     "exception": false,
     "start_time": "2024-01-30T20:37:45.293172",
     "status": "completed"
    },
    "tags": []
   },
   "source": [
    "<hr/>\n",
    "\n",
    "# 1.\n",
    "\n",
    "Complete the code below. In case it's helpful, here is the table of available arithmetic operations:\n",
    "\n",
    "\n",
    "\n",
    "| Operator     | Name           | Description                                            |\n",
    "|--------------|----------------|--------------------------------------------------------|\n",
    "| ``a + b``    | Addition       | Sum of ``a`` and ``b``                                 |\n",
    "| ``a - b``    | Subtraction    | Difference of ``a`` and ``b``                          |\n",
    "| ``a * b``    | Multiplication | Product of ``a`` and ``b``                             |\n",
    "| ``a / b``    | True division  | Quotient of ``a`` and ``b``                            |\n",
    "| ``a // b``   | Floor division | Quotient of ``a`` and ``b``, removing fractional parts |\n",
    "| ``a % b``    | Modulus        | Integer remainder after division of ``a`` by ``b``     |\n",
    "| ``a ** b``   | Exponentiation | ``a`` raised to the power of ``b``                     |\n",
    "| ``-a``       | Negation       | The negative of ``a``                                  |\n",
    "\n",
    "<span style=\"display:none\"></span>\n"
   ]
  },
  {
   "cell_type": "code",
   "execution_count": 5,
   "id": "6463b41b",
   "metadata": {
    "execution": {
     "iopub.execute_input": "2024-01-30T20:37:45.322504Z",
     "iopub.status.busy": "2024-01-30T20:37:45.321366Z",
     "iopub.status.idle": "2024-01-30T20:37:45.332244Z",
     "shell.execute_reply": "2024-01-30T20:37:45.331195Z"
    },
    "papermill": {
     "duration": 0.023656,
     "end_time": "2024-01-30T20:37:45.334721",
     "exception": false,
     "start_time": "2024-01-30T20:37:45.311065",
     "status": "completed"
    },
    "tags": []
   },
   "outputs": [
    {
     "data": {
      "application/javascript": [
       "parent.postMessage({\"jupyterEvent\": \"custom.exercise_interaction\", \"data\": {\"outcomeType\": 1, \"valueTowardsCompletion\": 0.25, \"interactionType\": 1, \"questionType\": 1, \"questionId\": \"1_CircleArea\", \"learnToolsVersion\": \"0.3.4\", \"failureMessage\": \"\", \"exceptionClass\": \"\", \"trace\": \"\"}}, \"*\")"
      ],
      "text/plain": [
       "<IPython.core.display.Javascript object>"
      ]
     },
     "metadata": {},
     "output_type": "display_data"
    },
    {
     "data": {
      "text/markdown": [
       "<span style=\"color:#33cc33\">Correct</span>"
      ],
      "text/plain": [
       "Correct"
      ]
     },
     "metadata": {},
     "output_type": "display_data"
    }
   ],
   "source": [
    "pi = 3.14159 # approximate\n",
    "diameter = 3\n",
    "\n",
    "# Create a variable called 'radius' equal to half the diameter\n",
    "____\n",
    "radius = diameter / 2\n",
    "# Create a variable called 'area', using the formula for the area of a circle: pi times the radius squared\n",
    "____\n",
    "area = pi * (radius**2)\n",
    "# Check your answer\n",
    "q1.check()"
   ]
  },
  {
   "cell_type": "code",
   "execution_count": 6,
   "id": "4bbe75d7",
   "metadata": {
    "execution": {
     "iopub.execute_input": "2024-01-30T20:37:45.354901Z",
     "iopub.status.busy": "2024-01-30T20:37:45.354541Z",
     "iopub.status.idle": "2024-01-30T20:37:45.359265Z",
     "shell.execute_reply": "2024-01-30T20:37:45.358173Z"
    },
    "papermill": {
     "duration": 0.017589,
     "end_time": "2024-01-30T20:37:45.361579",
     "exception": false,
     "start_time": "2024-01-30T20:37:45.343990",
     "status": "completed"
    },
    "tags": []
   },
   "outputs": [],
   "source": [
    "# Uncomment and run the lines below if you need help.\n",
    "#q1.hint()\n",
    "#q1.solution()"
   ]
  },
  {
   "cell_type": "markdown",
   "id": "0d598deb",
   "metadata": {
    "papermill": {
     "duration": 0.008917,
     "end_time": "2024-01-30T20:37:45.380008",
     "exception": false,
     "start_time": "2024-01-30T20:37:45.371091",
     "status": "completed"
    },
    "tags": []
   },
   "source": [
    "<hr/>\n",
    "\n",
    "# 2.\n",
    "\n",
    "Add code to the following cell to swap variables `a` and `b` (so that `a` refers to the object previously referred to by `b` and vice versa)."
   ]
  },
  {
   "cell_type": "code",
   "execution_count": 7,
   "id": "cdba5a31",
   "metadata": {
    "execution": {
     "iopub.execute_input": "2024-01-30T20:37:45.400475Z",
     "iopub.status.busy": "2024-01-30T20:37:45.399554Z",
     "iopub.status.idle": "2024-01-30T20:37:45.410089Z",
     "shell.execute_reply": "2024-01-30T20:37:45.409073Z"
    },
    "papermill": {
     "duration": 0.023222,
     "end_time": "2024-01-30T20:37:45.412366",
     "exception": false,
     "start_time": "2024-01-30T20:37:45.389144",
     "status": "completed"
    },
    "tags": []
   },
   "outputs": [
    {
     "data": {
      "application/javascript": [
       "parent.postMessage({\"jupyterEvent\": \"custom.exercise_interaction\", \"data\": {\"outcomeType\": 1, \"valueTowardsCompletion\": 0.25, \"interactionType\": 1, \"questionType\": 2, \"questionId\": \"2_VariableSwap\", \"learnToolsVersion\": \"0.3.4\", \"failureMessage\": \"\", \"exceptionClass\": \"\", \"trace\": \"\"}}, \"*\")"
      ],
      "text/plain": [
       "<IPython.core.display.Javascript object>"
      ]
     },
     "metadata": {},
     "output_type": "display_data"
    },
    {
     "data": {
      "text/markdown": [
       "<span style=\"color:#33cc33\">Correct:</span> \n",
       "\n",
       "The most straightforward solution is to use a third variable to temporarily store one of the old values. e.g.:\n",
       "\n",
       "    tmp = a\n",
       "    a = b\n",
       "    b = tmp\n",
       "\n",
       "If you've read lots of Python code, you might have seen the following trick to swap two variables in one line:\n",
       "\n",
       "    a, b = b, a\n",
       "\n",
       "We'll demystify this bit of Python magic later when we talk about *tuples*."
      ],
      "text/plain": [
       "Correct: \n",
       "\n",
       "The most straightforward solution is to use a third variable to temporarily store one of the old values. e.g.:\n",
       "\n",
       "    tmp = a\n",
       "    a = b\n",
       "    b = tmp\n",
       "\n",
       "If you've read lots of Python code, you might have seen the following trick to swap two variables in one line:\n",
       "\n",
       "    a, b = b, a\n",
       "\n",
       "We'll demystify this bit of Python magic later when we talk about *tuples*."
      ]
     },
     "metadata": {},
     "output_type": "display_data"
    }
   ],
   "source": [
    "########### Setup code - don't touch this part ######################\n",
    "# If you're curious, these are examples of lists. We'll talk about \n",
    "# them in depth a few lessons from now. For now, just know that they're\n",
    "# yet another type of Python object, like int or float.\n",
    "a = [1, 2, 3]\n",
    "b = [3, 2, 1]\n",
    "q2.store_original_ids()\n",
    "######################################################################\n",
    "a, b = b, a\n",
    "# Your code goes here. Swap the values to which a and b refer.\n",
    "# If you get stuck, you can always uncomment one or both of the lines in\n",
    "# the next cell for a hint, or to peek at the solution.\n",
    "\n",
    "######################################################################\n",
    "\n",
    "# Check your answer\n",
    "q2.check()"
   ]
  },
  {
   "cell_type": "code",
   "execution_count": 8,
   "id": "286d2db4",
   "metadata": {
    "execution": {
     "iopub.execute_input": "2024-01-30T20:37:45.433910Z",
     "iopub.status.busy": "2024-01-30T20:37:45.433543Z",
     "iopub.status.idle": "2024-01-30T20:37:45.437902Z",
     "shell.execute_reply": "2024-01-30T20:37:45.436682Z"
    },
    "papermill": {
     "duration": 0.01787,
     "end_time": "2024-01-30T20:37:45.440158",
     "exception": false,
     "start_time": "2024-01-30T20:37:45.422288",
     "status": "completed"
    },
    "tags": []
   },
   "outputs": [],
   "source": [
    "#q2.hint()"
   ]
  },
  {
   "cell_type": "code",
   "execution_count": 9,
   "id": "3fa60603",
   "metadata": {
    "execution": {
     "iopub.execute_input": "2024-01-30T20:37:45.461830Z",
     "iopub.status.busy": "2024-01-30T20:37:45.461063Z",
     "iopub.status.idle": "2024-01-30T20:37:45.465536Z",
     "shell.execute_reply": "2024-01-30T20:37:45.464535Z"
    },
    "papermill": {
     "duration": 0.017525,
     "end_time": "2024-01-30T20:37:45.467601",
     "exception": false,
     "start_time": "2024-01-30T20:37:45.450076",
     "status": "completed"
    },
    "tags": []
   },
   "outputs": [],
   "source": [
    "#q2.solution()"
   ]
  },
  {
   "cell_type": "markdown",
   "id": "9da86a8c",
   "metadata": {
    "papermill": {
     "duration": 0.009614,
     "end_time": "2024-01-30T20:37:45.486981",
     "exception": false,
     "start_time": "2024-01-30T20:37:45.477367",
     "status": "completed"
    },
    "tags": []
   },
   "source": [
    "<hr/>\n",
    "\n",
    "# 3a.\n",
    "\n",
    "Add parentheses to the following expression so that it evaluates to 1."
   ]
  },
  {
   "cell_type": "code",
   "execution_count": 10,
   "id": "fbdfcbc5",
   "metadata": {
    "execution": {
     "iopub.execute_input": "2024-01-30T20:37:45.507680Z",
     "iopub.status.busy": "2024-01-30T20:37:45.507340Z",
     "iopub.status.idle": "2024-01-30T20:37:45.513811Z",
     "shell.execute_reply": "2024-01-30T20:37:45.512754Z"
    },
    "papermill": {
     "duration": 0.019273,
     "end_time": "2024-01-30T20:37:45.515827",
     "exception": false,
     "start_time": "2024-01-30T20:37:45.496554",
     "status": "completed"
    },
    "tags": []
   },
   "outputs": [
    {
     "data": {
      "text/plain": [
       "1"
      ]
     },
     "execution_count": 10,
     "metadata": {},
     "output_type": "execute_result"
    }
   ],
   "source": [
    "(5 - 3) // 2"
   ]
  },
  {
   "cell_type": "code",
   "execution_count": 11,
   "id": "1df061a7",
   "metadata": {
    "execution": {
     "iopub.execute_input": "2024-01-30T20:37:45.537955Z",
     "iopub.status.busy": "2024-01-30T20:37:45.536866Z",
     "iopub.status.idle": "2024-01-30T20:37:45.542125Z",
     "shell.execute_reply": "2024-01-30T20:37:45.540869Z"
    },
    "papermill": {
     "duration": 0.018834,
     "end_time": "2024-01-30T20:37:45.544572",
     "exception": false,
     "start_time": "2024-01-30T20:37:45.525738",
     "status": "completed"
    },
    "tags": []
   },
   "outputs": [],
   "source": [
    "#q3.a.hint()"
   ]
  },
  {
   "cell_type": "code",
   "execution_count": 12,
   "id": "ed11d7e7",
   "metadata": {
    "execution": {
     "iopub.execute_input": "2024-01-30T20:37:45.566705Z",
     "iopub.status.busy": "2024-01-30T20:37:45.566066Z",
     "iopub.status.idle": "2024-01-30T20:37:45.574057Z",
     "shell.execute_reply": "2024-01-30T20:37:45.573310Z"
    },
    "papermill": {
     "duration": 0.021502,
     "end_time": "2024-01-30T20:37:45.576296",
     "exception": false,
     "start_time": "2024-01-30T20:37:45.554794",
     "status": "completed"
    },
    "tags": []
   },
   "outputs": [
    {
     "data": {
      "application/javascript": [
       "parent.postMessage({\"jupyterEvent\": \"custom.exercise_interaction\", \"data\": {\"interactionType\": 3, \"questionType\": 4, \"questionId\": \"3.1_ArithmeticParensEasy\", \"learnToolsVersion\": \"0.3.4\", \"valueTowardsCompletion\": 0.0, \"failureMessage\": \"\", \"exceptionClass\": \"\", \"trace\": \"\", \"outcomeType\": 4}}, \"*\")"
      ],
      "text/plain": [
       "<IPython.core.display.Javascript object>"
      ]
     },
     "metadata": {},
     "output_type": "display_data"
    },
    {
     "data": {
      "text/markdown": [
       "<span style=\"color:#33cc99\">Solution:</span> \n",
       "```python\n",
       "(5 - 3) // 2\n",
       "```"
      ],
      "text/plain": [
       "Solution: \n",
       "```python\n",
       "(5 - 3) // 2\n",
       "```"
      ]
     },
     "metadata": {},
     "output_type": "display_data"
    }
   ],
   "source": [
    "# Check your answer (Run this code cell to receive credit!)\n",
    "q3.a.solution()"
   ]
  },
  {
   "cell_type": "markdown",
   "id": "80e316f3",
   "metadata": {
    "papermill": {
     "duration": 0.010131,
     "end_time": "2024-01-30T20:37:45.596578",
     "exception": false,
     "start_time": "2024-01-30T20:37:45.586447",
     "status": "completed"
    },
    "tags": []
   },
   "source": [
    "# 3b.  <span title=\"A bit spicy\" style=\"color: darkgreen \">🌶️</span>\n",
    "\n",
    "<small>Questions, like this one, marked a spicy pepper are a bit harder.</small>\n",
    "\n",
    "Add parentheses to the following expression so that it evaluates to 0."
   ]
  },
  {
   "cell_type": "code",
   "execution_count": 13,
   "id": "a70691db",
   "metadata": {
    "execution": {
     "iopub.execute_input": "2024-01-30T20:37:45.619361Z",
     "iopub.status.busy": "2024-01-30T20:37:45.618957Z",
     "iopub.status.idle": "2024-01-30T20:37:45.625713Z",
     "shell.execute_reply": "2024-01-30T20:37:45.624724Z"
    },
    "papermill": {
     "duration": 0.02078,
     "end_time": "2024-01-30T20:37:45.627807",
     "exception": false,
     "start_time": "2024-01-30T20:37:45.607027",
     "status": "completed"
    },
    "tags": []
   },
   "outputs": [
    {
     "data": {
      "text/plain": [
       "0"
      ]
     },
     "execution_count": 13,
     "metadata": {},
     "output_type": "execute_result"
    }
   ],
   "source": [
    "(8 - 3) * (2 - (1 + 1))"
   ]
  },
  {
   "cell_type": "code",
   "execution_count": 14,
   "id": "adea26d0",
   "metadata": {
    "execution": {
     "iopub.execute_input": "2024-01-30T20:37:45.650040Z",
     "iopub.status.busy": "2024-01-30T20:37:45.649652Z",
     "iopub.status.idle": "2024-01-30T20:37:45.654303Z",
     "shell.execute_reply": "2024-01-30T20:37:45.653172Z"
    },
    "papermill": {
     "duration": 0.01854,
     "end_time": "2024-01-30T20:37:45.656612",
     "exception": false,
     "start_time": "2024-01-30T20:37:45.638072",
     "status": "completed"
    },
    "tags": []
   },
   "outputs": [],
   "source": [
    "#q3.b.hint()"
   ]
  },
  {
   "cell_type": "code",
   "execution_count": 15,
   "id": "bb37e3df",
   "metadata": {
    "execution": {
     "iopub.execute_input": "2024-01-30T20:37:45.679186Z",
     "iopub.status.busy": "2024-01-30T20:37:45.678841Z",
     "iopub.status.idle": "2024-01-30T20:37:45.688665Z",
     "shell.execute_reply": "2024-01-30T20:37:45.686607Z"
    },
    "papermill": {
     "duration": 0.024166,
     "end_time": "2024-01-30T20:37:45.691086",
     "exception": false,
     "start_time": "2024-01-30T20:37:45.666920",
     "status": "completed"
    },
    "tags": []
   },
   "outputs": [
    {
     "data": {
      "application/javascript": [
       "parent.postMessage({\"jupyterEvent\": \"custom.exercise_interaction\", \"data\": {\"interactionType\": 3, \"questionType\": 4, \"questionId\": \"3.2_ArithmeticParensHard\", \"learnToolsVersion\": \"0.3.4\", \"valueTowardsCompletion\": 0.0, \"failureMessage\": \"\", \"exceptionClass\": \"\", \"trace\": \"\", \"outcomeType\": 4}}, \"*\")"
      ],
      "text/plain": [
       "<IPython.core.display.Javascript object>"
      ]
     },
     "metadata": {},
     "output_type": "display_data"
    },
    {
     "data": {
      "text/markdown": [
       "<span style=\"color:#33cc99\">Solution:</span> `(8 - 3) * (2 - (1 + 1))` is one solution. There may be others."
      ],
      "text/plain": [
       "Solution: `(8 - 3) * (2 - (1 + 1))` is one solution. There may be others."
      ]
     },
     "metadata": {},
     "output_type": "display_data"
    }
   ],
   "source": [
    "# Check your answer (Run this code cell to receive credit!)\n",
    "q3.b.solution()"
   ]
  },
  {
   "cell_type": "markdown",
   "id": "1c51279c",
   "metadata": {
    "papermill": {
     "duration": 0.010846,
     "end_time": "2024-01-30T20:37:45.712945",
     "exception": false,
     "start_time": "2024-01-30T20:37:45.702099",
     "status": "completed"
    },
    "tags": []
   },
   "source": [
    "<hr/>\n",
    "\n",
    "# 4. \n",
    "Alice, Bob and Carol have agreed to pool their Halloween candy and split it evenly among themselves.\n",
    "For the sake of their friendship, any candies left over will be smashed. For example, if they collectively\n",
    "bring home 91 candies, they'll take 30 each and smash 1.\n",
    "\n",
    "Write an arithmetic expression below to calculate how many candies they must smash for a given haul."
   ]
  },
  {
   "cell_type": "code",
   "execution_count": null,
   "id": "c51ce6c8",
   "metadata": {
    "papermill": {
     "duration": 0.010899,
     "end_time": "2024-01-30T20:37:45.734960",
     "exception": false,
     "start_time": "2024-01-30T20:37:45.724061",
     "status": "completed"
    },
    "tags": []
   },
   "outputs": [],
   "source": []
  },
  {
   "cell_type": "code",
   "execution_count": 16,
   "id": "b125dff7",
   "metadata": {
    "execution": {
     "iopub.execute_input": "2024-01-30T20:37:45.759028Z",
     "iopub.status.busy": "2024-01-30T20:37:45.758643Z",
     "iopub.status.idle": "2024-01-30T20:37:45.769911Z",
     "shell.execute_reply": "2024-01-30T20:37:45.768480Z"
    },
    "papermill": {
     "duration": 0.026459,
     "end_time": "2024-01-30T20:37:45.772507",
     "exception": false,
     "start_time": "2024-01-30T20:37:45.746048",
     "status": "completed"
    },
    "tags": []
   },
   "outputs": [
    {
     "data": {
      "application/javascript": [
       "parent.postMessage({\"jupyterEvent\": \"custom.exercise_interaction\", \"data\": {\"outcomeType\": 1, \"valueTowardsCompletion\": 0.25, \"interactionType\": 1, \"questionType\": 1, \"questionId\": \"4_CandySplitting\", \"learnToolsVersion\": \"0.3.4\", \"failureMessage\": \"\", \"exceptionClass\": \"\", \"trace\": \"\"}}, \"*\")"
      ],
      "text/plain": [
       "<IPython.core.display.Javascript object>"
      ]
     },
     "metadata": {},
     "output_type": "display_data"
    },
    {
     "data": {
      "text/markdown": [
       "<span style=\"color:#33cc33\">Correct</span>"
      ],
      "text/plain": [
       "Correct"
      ]
     },
     "metadata": {},
     "output_type": "display_data"
    }
   ],
   "source": [
    "# Variables representing the number of candies collected by alice, bob, and carol\n",
    "alice_candies = 121\n",
    "bob_candies = 77\n",
    "carol_candies = 109\n",
    "\n",
    "# Your code goes here! Replace the right-hand side of this assignment with an expression\n",
    "# involving alice_candies, bob_candies, and carol_candies\n",
    "total_candies = alice_candies + bob_candies + carol_candies\n",
    "candies_consumed = (total_candies // 3) * 3\n",
    "to_smash = total_candies - candies_consumed\n",
    "\n",
    "# Check your answer\n",
    "q4.check()"
   ]
  },
  {
   "cell_type": "code",
   "execution_count": 17,
   "id": "4a25cca0",
   "metadata": {
    "execution": {
     "iopub.execute_input": "2024-01-30T20:37:45.797774Z",
     "iopub.status.busy": "2024-01-30T20:37:45.797383Z",
     "iopub.status.idle": "2024-01-30T20:37:45.801759Z",
     "shell.execute_reply": "2024-01-30T20:37:45.800751Z"
    },
    "papermill": {
     "duration": 0.019763,
     "end_time": "2024-01-30T20:37:45.803950",
     "exception": false,
     "start_time": "2024-01-30T20:37:45.784187",
     "status": "completed"
    },
    "tags": []
   },
   "outputs": [],
   "source": [
    "#q4.hint()\n",
    "#q4.solution()"
   ]
  },
  {
   "cell_type": "markdown",
   "id": "89dc9a6f",
   "metadata": {
    "papermill": {
     "duration": 0.011104,
     "end_time": "2024-01-30T20:37:45.826482",
     "exception": false,
     "start_time": "2024-01-30T20:37:45.815378",
     "status": "completed"
    },
    "tags": []
   },
   "source": [
    "# Keep Going\n",
    "\n",
    "Next up, you'll **[learn to write new functions and understand functions others write](https://www.kaggle.com/colinmorris/functions-and-getting-help)**. This will make you at least 10 times more productive as a Python programmer. "
   ]
  },
  {
   "cell_type": "markdown",
   "id": "93546326",
   "metadata": {
    "papermill": {
     "duration": 0.010893,
     "end_time": "2024-01-30T20:37:45.848758",
     "exception": false,
     "start_time": "2024-01-30T20:37:45.837865",
     "status": "completed"
    },
    "tags": []
   },
   "source": [
    "---\n",
    "\n",
    "\n",
    "\n",
    "\n",
    "*Have questions or comments? Visit the [course discussion forum](https://www.kaggle.com/learn/python/discussion) to chat with other learners.*"
   ]
  }
 ],
 "metadata": {
  "kaggle": {
   "accelerator": "none",
   "dataSources": [],
   "isGpuEnabled": false,
   "isInternetEnabled": false,
   "language": "python",
   "sourceType": "notebook"
  },
  "kernelspec": {
   "display_name": "Python 3",
   "language": "python",
   "name": "python3"
  },
  "language_info": {
   "codemirror_mode": {
    "name": "ipython",
    "version": 3
   },
   "file_extension": ".py",
   "mimetype": "text/x-python",
   "name": "python",
   "nbconvert_exporter": "python",
   "pygments_lexer": "ipython3",
   "version": "3.10.13"
  },
  "papermill": {
   "default_parameters": {},
   "duration": 8.063178,
   "end_time": "2024-01-30T20:37:49.241491",
   "environment_variables": {},
   "exception": null,
   "input_path": "__notebook__.ipynb",
   "output_path": "__notebook__.ipynb",
   "parameters": {},
   "start_time": "2024-01-30T20:37:41.178313",
   "version": "2.5.0"
  }
 },
 "nbformat": 4,
 "nbformat_minor": 5
}
