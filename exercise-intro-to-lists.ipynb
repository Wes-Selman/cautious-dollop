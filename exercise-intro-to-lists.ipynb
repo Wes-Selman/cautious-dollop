{
 "cells": [
  {
   "cell_type": "markdown",
   "id": "a53ee977",
   "metadata": {
    "papermill": {
     "duration": 0.009672,
     "end_time": "2024-05-11T21:44:40.477990",
     "exception": false,
     "start_time": "2024-05-11T21:44:40.468318",
     "status": "completed"
    },
    "tags": []
   },
   "source": [
    "**This notebook is an exercise in the [Intro to Programming](https://www.kaggle.com/learn/intro-to-programming) course.  You can reference the tutorial at [this link](https://www.kaggle.com/alexisbcook/intro-to-lists).**\n",
    "\n",
    "---\n"
   ]
  },
  {
   "cell_type": "markdown",
   "id": "53fab009",
   "metadata": {
    "papermill": {
     "duration": 0.007739,
     "end_time": "2024-05-11T21:44:40.494208",
     "exception": false,
     "start_time": "2024-05-11T21:44:40.486469",
     "status": "completed"
    },
    "tags": []
   },
   "source": [
    "In the tutorial, you learned how to define and modify Python lists.  In this exercise, you will use your new knowledge to solve several problems.\n",
    "\n",
    "# Set up the notebook\n",
    "\n",
    "Run the next code cell without changes to set up the notebook."
   ]
  },
  {
   "cell_type": "code",
   "execution_count": 1,
   "id": "1428fcd0",
   "metadata": {
    "execution": {
     "iopub.execute_input": "2024-05-11T21:44:40.512601Z",
     "iopub.status.busy": "2024-05-11T21:44:40.511914Z",
     "iopub.status.idle": "2024-05-11T21:44:41.486067Z",
     "shell.execute_reply": "2024-05-11T21:44:41.484964Z"
    },
    "papermill": {
     "duration": 0.98644,
     "end_time": "2024-05-11T21:44:41.488582",
     "exception": false,
     "start_time": "2024-05-11T21:44:40.502142",
     "status": "completed"
    },
    "tags": []
   },
   "outputs": [
    {
     "name": "stdout",
     "output_type": "stream",
     "text": [
      "Setup complete.\n"
     ]
    }
   ],
   "source": [
    "from learntools.core import binder\n",
    "binder.bind(globals())\n",
    "from learntools.intro_to_programming.ex5 import *\n",
    "print('Setup complete.')"
   ]
  },
  {
   "cell_type": "markdown",
   "id": "7cfa5fc0",
   "metadata": {
    "papermill": {
     "duration": 0.007924,
     "end_time": "2024-05-11T21:44:41.505058",
     "exception": false,
     "start_time": "2024-05-11T21:44:41.497134",
     "status": "completed"
    },
    "tags": []
   },
   "source": [
    "# Question 1\n",
    "\n",
    "You own a restaurant with five food dishes, organized in the Python list `menu` below.  One day, you decide to:\n",
    "- remove bean soup (`'bean soup'`) from the menu, and\n",
    "- add roasted beet salad (`'roasted beet salad'`) to the menu.\n",
    "\n",
    "Implement this change to the list below.  While completing this task, \n",
    "- do not change the line that creates the `menu` list.  \n",
    "- your answer should use `.remove()` and `.append()`.  "
   ]
  },
  {
   "cell_type": "code",
   "execution_count": 2,
   "id": "1b01313f",
   "metadata": {
    "execution": {
     "iopub.execute_input": "2024-05-11T21:44:41.523810Z",
     "iopub.status.busy": "2024-05-11T21:44:41.523320Z",
     "iopub.status.idle": "2024-05-11T21:44:41.534522Z",
     "shell.execute_reply": "2024-05-11T21:44:41.533275Z"
    },
    "papermill": {
     "duration": 0.023786,
     "end_time": "2024-05-11T21:44:41.537013",
     "exception": false,
     "start_time": "2024-05-11T21:44:41.513227",
     "status": "completed"
    },
    "tags": []
   },
   "outputs": [
    {
     "data": {
      "application/javascript": [
       "parent.postMessage({\"jupyterEvent\": \"custom.exercise_interaction\", \"data\": {\"outcomeType\": 1, \"valueTowardsCompletion\": 0.2, \"interactionType\": 1, \"questionType\": 2, \"questionId\": \"1_FoodMenu\", \"learnToolsVersion\": \"0.3.4\", \"failureMessage\": \"\", \"exceptionClass\": \"\", \"trace\": \"\"}}, \"*\")"
      ],
      "text/plain": [
       "<IPython.core.display.Javascript object>"
      ]
     },
     "metadata": {},
     "output_type": "display_data"
    },
    {
     "data": {
      "text/markdown": [
       "<span style=\"color:#33cc33\">Correct</span>"
      ],
      "text/plain": [
       "Correct"
      ]
     },
     "metadata": {},
     "output_type": "display_data"
    }
   ],
   "source": [
    "# Do not change: Initial menu for your restaurant\n",
    "menu = ['stewed meat with onions', 'bean soup', 'risotto with trout and shrimp',\n",
    "       'fish soup with cream and onion', 'gyro']\n",
    "\n",
    "# TODO: remove 'bean soup', and add 'roasted beet salad' to the end of the menu\n",
    "menu.remove('bean soup')\n",
    "menu.append('roasted beet salad')\n",
    "\n",
    "# Do not change: Check your answer\n",
    "q1.check()"
   ]
  },
  {
   "cell_type": "code",
   "execution_count": 3,
   "id": "404e6cda",
   "metadata": {
    "execution": {
     "iopub.execute_input": "2024-05-11T21:44:41.556155Z",
     "iopub.status.busy": "2024-05-11T21:44:41.555787Z",
     "iopub.status.idle": "2024-05-11T21:44:41.560029Z",
     "shell.execute_reply": "2024-05-11T21:44:41.558920Z"
    },
    "papermill": {
     "duration": 0.016696,
     "end_time": "2024-05-11T21:44:41.562403",
     "exception": false,
     "start_time": "2024-05-11T21:44:41.545707",
     "status": "completed"
    },
    "tags": []
   },
   "outputs": [],
   "source": [
    "# Uncomment to see a hint\n",
    "#q1.hint()\n",
    "\n",
    "# Uncomment to see the solution\n",
    "#q1.solution()"
   ]
  },
  {
   "cell_type": "markdown",
   "id": "a2eb48bb",
   "metadata": {
    "papermill": {
     "duration": 0.008142,
     "end_time": "2024-05-11T21:44:41.579202",
     "exception": false,
     "start_time": "2024-05-11T21:44:41.571060",
     "status": "completed"
    },
    "tags": []
   },
   "source": [
    "# Question 2\n",
    "\n",
    "The list `num_customers` contains the number of customers who came into your restaurant every day over the last month (which lasted thirty days).  Fill in values for each of the following:\n",
    "- `avg_first_seven` - average number of customers who visited in the first seven days\n",
    "- `avg_last_seven` - average number of customers who visited in the last seven days\n",
    "- `max_month` - number of customers on the day that got the most customers in the last month\n",
    "- `min_month` - number of customers on the day that got the least customers in the last month\n",
    "\n",
    "Answer this question by writing code.  For instance, if you have to find the minimum value in a list, use `min()` instead of scanning for the smallest value and directly filling in a number."
   ]
  },
  {
   "cell_type": "code",
   "execution_count": 4,
   "id": "3bb8189c",
   "metadata": {
    "execution": {
     "iopub.execute_input": "2024-05-11T21:44:41.598015Z",
     "iopub.status.busy": "2024-05-11T21:44:41.597362Z",
     "iopub.status.idle": "2024-05-11T21:44:41.609454Z",
     "shell.execute_reply": "2024-05-11T21:44:41.608300Z"
    },
    "papermill": {
     "duration": 0.024155,
     "end_time": "2024-05-11T21:44:41.611851",
     "exception": false,
     "start_time": "2024-05-11T21:44:41.587696",
     "status": "completed"
    },
    "tags": []
   },
   "outputs": [
    {
     "data": {
      "application/javascript": [
       "parent.postMessage({\"jupyterEvent\": \"custom.exercise_interaction\", \"data\": {\"outcomeType\": 1, \"valueTowardsCompletion\": 0.2, \"interactionType\": 1, \"questionType\": 1, \"questionId\": \"2_NumCustomers\", \"learnToolsVersion\": \"0.3.4\", \"failureMessage\": \"\", \"exceptionClass\": \"\", \"trace\": \"\"}}, \"*\")"
      ],
      "text/plain": [
       "<IPython.core.display.Javascript object>"
      ]
     },
     "metadata": {},
     "output_type": "display_data"
    },
    {
     "data": {
      "text/markdown": [
       "<span style=\"color:#33cc33\">Correct</span>"
      ],
      "text/plain": [
       "Correct"
      ]
     },
     "metadata": {},
     "output_type": "display_data"
    }
   ],
   "source": [
    "# Do not change: Number of customers each day for the last month\n",
    "num_customers = [137, 147, 135, 128, 170, 174, 165, 146, 126, 159,\n",
    "                 141, 148, 132, 147, 168, 153, 170, 161, 148, 152,\n",
    "                 141, 151, 131, 149, 164, 163, 143, 143, 166, 171]\n",
    "\n",
    "# TODO: Fill in values for the variables below\n",
    "avg_first_seven = (sum(num_customers[:7])/7)\n",
    "avg_last_seven = (sum(num_customers[-7:])/7)\n",
    "max_month = max(num_customers)\n",
    "min_month = min(num_customers)\n",
    "\n",
    "# Do not change: Check your answer\n",
    "q2.check()"
   ]
  },
  {
   "cell_type": "code",
   "execution_count": 5,
   "id": "5d34c3f2",
   "metadata": {
    "execution": {
     "iopub.execute_input": "2024-05-11T21:44:41.633086Z",
     "iopub.status.busy": "2024-05-11T21:44:41.632435Z",
     "iopub.status.idle": "2024-05-11T21:44:41.637666Z",
     "shell.execute_reply": "2024-05-11T21:44:41.636565Z"
    },
    "papermill": {
     "duration": 0.019263,
     "end_time": "2024-05-11T21:44:41.640162",
     "exception": false,
     "start_time": "2024-05-11T21:44:41.620899",
     "status": "completed"
    },
    "tags": []
   },
   "outputs": [],
   "source": [
    "# Uncomment to see a hint\n",
    "#q2.hint()\n",
    "\n",
    "# Uncomment to see the solution\n",
    "#q2.solution()"
   ]
  },
  {
   "cell_type": "markdown",
   "id": "a53050a1",
   "metadata": {
    "papermill": {
     "duration": 0.008681,
     "end_time": "2024-05-11T21:44:41.657972",
     "exception": false,
     "start_time": "2024-05-11T21:44:41.649291",
     "status": "completed"
    },
    "tags": []
   },
   "source": [
    "# Question 3\n",
    "\n",
    "In the tutorial, we gave an example of a Python string with information that was better as a list."
   ]
  },
  {
   "cell_type": "code",
   "execution_count": 6,
   "id": "24c16644",
   "metadata": {
    "execution": {
     "iopub.execute_input": "2024-05-11T21:44:41.677890Z",
     "iopub.status.busy": "2024-05-11T21:44:41.677472Z",
     "iopub.status.idle": "2024-05-11T21:44:41.682462Z",
     "shell.execute_reply": "2024-05-11T21:44:41.681128Z"
    },
    "papermill": {
     "duration": 0.017592,
     "end_time": "2024-05-11T21:44:41.684626",
     "exception": false,
     "start_time": "2024-05-11T21:44:41.667034",
     "status": "completed"
    },
    "tags": []
   },
   "outputs": [],
   "source": [
    "flowers = \"pink primrose,hard-leaved pocket orchid,canterbury bells,sweet pea,english marigold,tiger lily,moon orchid,bird of paradise,monkshood,globe thistle\""
   ]
  },
  {
   "cell_type": "markdown",
   "id": "b072e41c",
   "metadata": {
    "papermill": {
     "duration": 0.008776,
     "end_time": "2024-05-11T21:44:41.702423",
     "exception": false,
     "start_time": "2024-05-11T21:44:41.693647",
     "status": "completed"
    },
    "tags": []
   },
   "source": [
    "You can actually use Python to quickly turn this string into a list with `.split()`.  In the parentheses, we need to provide the character should be used to mark the end of one list item and the beginning of another, and enclose it in quotation marks.  In this case, that character is a comma."
   ]
  },
  {
   "cell_type": "code",
   "execution_count": 7,
   "id": "49d83737",
   "metadata": {
    "execution": {
     "iopub.execute_input": "2024-05-11T21:44:41.722422Z",
     "iopub.status.busy": "2024-05-11T21:44:41.721653Z",
     "iopub.status.idle": "2024-05-11T21:44:41.727481Z",
     "shell.execute_reply": "2024-05-11T21:44:41.726267Z"
    },
    "papermill": {
     "duration": 0.018457,
     "end_time": "2024-05-11T21:44:41.729910",
     "exception": false,
     "start_time": "2024-05-11T21:44:41.711453",
     "status": "completed"
    },
    "tags": []
   },
   "outputs": [
    {
     "name": "stdout",
     "output_type": "stream",
     "text": [
      "['pink primrose', 'hard-leaved pocket orchid', 'canterbury bells', 'sweet pea', 'english marigold', 'tiger lily', 'moon orchid', 'bird of paradise', 'monkshood', 'globe thistle']\n"
     ]
    }
   ],
   "source": [
    " print(flowers.split(\",\"))"
   ]
  },
  {
   "cell_type": "markdown",
   "id": "280a93db",
   "metadata": {
    "papermill": {
     "duration": 0.008669,
     "end_time": "2024-05-11T21:44:41.747718",
     "exception": false,
     "start_time": "2024-05-11T21:44:41.739049",
     "status": "completed"
    },
    "tags": []
   },
   "source": [
    "Now it is your turn to try this out!  Create two Python lists:\n",
    "- `letters` should be a Python list where each entry is an uppercase letter of the English alphabet.  For instance, the first two entries should be `\"A\"` and `\"B\"`, and the final two entries should be `\"Y\"` and `\"Z\"`.  Use the string `alphabet` to create this list.\n",
    "- `address` should be a Python list where each row in `address` is a different item in the list.  Currently, each row in `address` is separated by a comma. "
   ]
  },
  {
   "cell_type": "code",
   "execution_count": 8,
   "id": "7b3d8a9e",
   "metadata": {
    "execution": {
     "iopub.execute_input": "2024-05-11T21:44:41.767341Z",
     "iopub.status.busy": "2024-05-11T21:44:41.766929Z",
     "iopub.status.idle": "2024-05-11T21:44:41.776600Z",
     "shell.execute_reply": "2024-05-11T21:44:41.775549Z"
    },
    "papermill": {
     "duration": 0.022244,
     "end_time": "2024-05-11T21:44:41.779080",
     "exception": false,
     "start_time": "2024-05-11T21:44:41.756836",
     "status": "completed"
    },
    "tags": []
   },
   "outputs": [
    {
     "data": {
      "application/javascript": [
       "parent.postMessage({\"jupyterEvent\": \"custom.exercise_interaction\", \"data\": {\"outcomeType\": 1, \"valueTowardsCompletion\": 0.2, \"interactionType\": 1, \"questionType\": 1, \"questionId\": \"3_SplitString\", \"learnToolsVersion\": \"0.3.4\", \"failureMessage\": \"\", \"exceptionClass\": \"\", \"trace\": \"\"}}, \"*\")"
      ],
      "text/plain": [
       "<IPython.core.display.Javascript object>"
      ]
     },
     "metadata": {},
     "output_type": "display_data"
    },
    {
     "data": {
      "text/markdown": [
       "<span style=\"color:#33cc33\">Correct</span>"
      ],
      "text/plain": [
       "Correct"
      ]
     },
     "metadata": {},
     "output_type": "display_data"
    }
   ],
   "source": [
    "# DO not change: Define two Python strings\n",
    "alphabet = \"A.B.C.D.E.F.G.H.I.J.K.L.M.N.O.P.Q.R.S.T.U.V.W.X.Y.Z\"\n",
    "address = \"Mr. H. Potter,The cupboard under the Stairs,4 Privet Drive,Little Whinging,Surrey\"\n",
    "\n",
    "# TODO: Convert strings into Python lists\n",
    "letters = alphabet.split(\".\")\n",
    "formatted_address = address.split(\",\")\n",
    "\n",
    "# Do not change: Check your answer\n",
    "q3.check()"
   ]
  },
  {
   "cell_type": "code",
   "execution_count": 9,
   "id": "a73f9a9e",
   "metadata": {
    "execution": {
     "iopub.execute_input": "2024-05-11T21:44:41.800517Z",
     "iopub.status.busy": "2024-05-11T21:44:41.800084Z",
     "iopub.status.idle": "2024-05-11T21:44:41.804782Z",
     "shell.execute_reply": "2024-05-11T21:44:41.803916Z"
    },
    "papermill": {
     "duration": 0.018606,
     "end_time": "2024-05-11T21:44:41.806968",
     "exception": false,
     "start_time": "2024-05-11T21:44:41.788362",
     "status": "completed"
    },
    "tags": []
   },
   "outputs": [],
   "source": [
    "# Uncomment to see a hint\n",
    "#q3.hint()\n",
    "\n",
    "# Uncomment to see the solution\n",
    "#q3.solution()"
   ]
  },
  {
   "cell_type": "markdown",
   "id": "1a4ec0f4",
   "metadata": {
    "papermill": {
     "duration": 0.009204,
     "end_time": "2024-05-11T21:44:41.825740",
     "exception": false,
     "start_time": "2024-05-11T21:44:41.816536",
     "status": "completed"
    },
    "tags": []
   },
   "source": [
    "# Question 4\n",
    "\n",
    "In the Python course, you'll learn all about **list comprehensions**, which allow you to create a list based on the values in another list.  In this question, you'll get a brief preview of how they work.\n",
    "\n",
    "Say we're working with the list below."
   ]
  },
  {
   "cell_type": "code",
   "execution_count": 10,
   "id": "5d6506a9",
   "metadata": {
    "execution": {
     "iopub.execute_input": "2024-05-11T21:44:41.847792Z",
     "iopub.status.busy": "2024-05-11T21:44:41.847394Z",
     "iopub.status.idle": "2024-05-11T21:44:41.852377Z",
     "shell.execute_reply": "2024-05-11T21:44:41.851266Z"
    },
    "papermill": {
     "duration": 0.019505,
     "end_time": "2024-05-11T21:44:41.854664",
     "exception": false,
     "start_time": "2024-05-11T21:44:41.835159",
     "status": "completed"
    },
    "tags": []
   },
   "outputs": [],
   "source": [
    "test_ratings = [1, 2, 3, 4, 5]"
   ]
  },
  {
   "cell_type": "markdown",
   "id": "808a059d",
   "metadata": {
    "papermill": {
     "duration": 0.009218,
     "end_time": "2024-05-11T21:44:41.873539",
     "exception": false,
     "start_time": "2024-05-11T21:44:41.864321",
     "status": "completed"
    },
    "tags": []
   },
   "source": [
    "Then we can use this list (`test_ratings`) to create a new list (`test_liked`) where each item has been turned into a boolean, depending on whether or not the item is greater than or equal to four."
   ]
  },
  {
   "cell_type": "code",
   "execution_count": 11,
   "id": "a6a026ec",
   "metadata": {
    "execution": {
     "iopub.execute_input": "2024-05-11T21:44:41.894232Z",
     "iopub.status.busy": "2024-05-11T21:44:41.893866Z",
     "iopub.status.idle": "2024-05-11T21:44:41.898480Z",
     "shell.execute_reply": "2024-05-11T21:44:41.897626Z"
    },
    "papermill": {
     "duration": 0.018346,
     "end_time": "2024-05-11T21:44:41.901322",
     "exception": false,
     "start_time": "2024-05-11T21:44:41.882976",
     "status": "completed"
    },
    "tags": []
   },
   "outputs": [
    {
     "name": "stdout",
     "output_type": "stream",
     "text": [
      "[False, False, False, True, True]\n"
     ]
    }
   ],
   "source": [
    "test_liked = [i>=4 for i in test_ratings]\n",
    "print(test_liked)"
   ]
  },
  {
   "cell_type": "markdown",
   "id": "47604355",
   "metadata": {
    "papermill": {
     "duration": 0.00926,
     "end_time": "2024-05-11T21:44:41.920220",
     "exception": false,
     "start_time": "2024-05-11T21:44:41.910960",
     "status": "completed"
    },
    "tags": []
   },
   "source": [
    "In this question, you'll use this list comprehension to define a function `percentage_liked()` that takes one argument as input:\n",
    "- `ratings`: list of ratings that people gave to a movie, where each rating is a number between 1-5, inclusive\n",
    "\n",
    "We say someone liked the movie, if they gave a rating of either 4 or 5.  Your function should return the percentage of people who liked the movie.\n",
    "\n",
    "For instance, if we supply a value of `[1, 2, 3, 4, 5, 4, 5, 1]`, then 50% (4/8) of the people liked the movie, and the function should return `0.5`.\n",
    "\n",
    "Part of the function has already been completed for you.  You need only use `list_liked` to calculate `percentage_liked`."
   ]
  },
  {
   "cell_type": "code",
   "execution_count": 12,
   "id": "11306aaf",
   "metadata": {
    "execution": {
     "iopub.execute_input": "2024-05-11T21:44:41.941397Z",
     "iopub.status.busy": "2024-05-11T21:44:41.940959Z",
     "iopub.status.idle": "2024-05-11T21:44:41.951786Z",
     "shell.execute_reply": "2024-05-11T21:44:41.950591Z"
    },
    "papermill": {
     "duration": 0.024549,
     "end_time": "2024-05-11T21:44:41.954622",
     "exception": false,
     "start_time": "2024-05-11T21:44:41.930073",
     "status": "completed"
    },
    "tags": []
   },
   "outputs": [
    {
     "data": {
      "application/javascript": [
       "parent.postMessage({\"jupyterEvent\": \"custom.exercise_interaction\", \"data\": {\"outcomeType\": 1, \"valueTowardsCompletion\": 0.2, \"interactionType\": 1, \"questionType\": 2, \"questionId\": \"4_PercentageLiked\", \"learnToolsVersion\": \"0.3.4\", \"failureMessage\": \"\", \"exceptionClass\": \"\", \"trace\": \"\"}}, \"*\")"
      ],
      "text/plain": [
       "<IPython.core.display.Javascript object>"
      ]
     },
     "metadata": {},
     "output_type": "display_data"
    },
    {
     "data": {
      "text/markdown": [
       "<span style=\"color:#33cc33\">Correct</span>"
      ],
      "text/plain": [
       "Correct"
      ]
     },
     "metadata": {},
     "output_type": "display_data"
    }
   ],
   "source": [
    "\n",
    "def percentage_liked(ratings):\n",
    "    list_liked = [i>=4 for i in ratings]\n",
    "    # TODO: Complete the function\n",
    "    percentage_liked = sum(list_liked) / len(list_liked)\n",
    "    return percentage_liked\n",
    "\n",
    "# Do not change: should return 0.5\n",
    "percentage_liked([1, 2, 3, 4, 5, 4, 5, 1])\n",
    "\n",
    "# Do not change: Check your answer\n",
    "q4.check()"
   ]
  },
  {
   "cell_type": "code",
   "execution_count": 13,
   "id": "a8c186bf",
   "metadata": {
    "execution": {
     "iopub.execute_input": "2024-05-11T21:44:41.976805Z",
     "iopub.status.busy": "2024-05-11T21:44:41.976416Z",
     "iopub.status.idle": "2024-05-11T21:44:41.980934Z",
     "shell.execute_reply": "2024-05-11T21:44:41.979776Z"
    },
    "papermill": {
     "duration": 0.018491,
     "end_time": "2024-05-11T21:44:41.983125",
     "exception": false,
     "start_time": "2024-05-11T21:44:41.964634",
     "status": "completed"
    },
    "tags": []
   },
   "outputs": [],
   "source": [
    "# Uncomment to see a hint\n",
    "#q4.hint()\n",
    "\n",
    "# Uncomment to see the solution\n",
    "#q4.solution()"
   ]
  },
  {
   "cell_type": "markdown",
   "id": "fab58b91",
   "metadata": {
    "papermill": {
     "duration": 0.009718,
     "end_time": "2024-05-11T21:44:42.003037",
     "exception": false,
     "start_time": "2024-05-11T21:44:41.993319",
     "status": "completed"
    },
    "tags": []
   },
   "source": [
    "# 🌶️ Question 5\n",
    " \n",
    "Say you're doing analytics for a website.  You need to write a function that returns the percentage growth in the total number of users relative to a specified number of years ago.\n",
    "\n",
    "Your function `percentage_growth()` should take two arguments as input:\n",
    "- `num_users` = Python list with the total number of users each year.  So `num_users[0]` is the total number of users in the first year, `num_users[1]` is the total number of users in the second year, and so on.  The final entry in the list gives the total number of users in the most recently completed year.\n",
    "- `yrs_ago` = number of years to go back in time when calculating the growth percentage\n",
    "\n",
    "For instance, say `num_users = [920344, 1043553, 1204334, 1458996, 1503323, 1593432, 1623463, 1843064, 1930992, 2001078]`.\n",
    "- if `yrs_ago = 1`, we want the function to return a value of about `0.036`. This corresponds to a percentage growth of approximately 3.6%, calculated as (2001078 - 1930992)/1930992.\n",
    "- if `years_ago = 7`, we would want to return approximately `0.66`.  This corresponds to a percentage growth of approximately 66%, calculated as (2001078 - 1204334)/1204334.\n",
    "\n",
    "Your coworker sent you a draft of a function, but it doesn't seem to be doing the correct calculation.  Can you figure out what has gone wrong and make the needed changes?"
   ]
  },
  {
   "cell_type": "code",
   "execution_count": 14,
   "id": "3a0018ec",
   "metadata": {
    "execution": {
     "iopub.execute_input": "2024-05-11T21:44:42.025198Z",
     "iopub.status.busy": "2024-05-11T21:44:42.024805Z",
     "iopub.status.idle": "2024-05-11T21:44:42.037434Z",
     "shell.execute_reply": "2024-05-11T21:44:42.036336Z"
    },
    "papermill": {
     "duration": 0.0271,
     "end_time": "2024-05-11T21:44:42.040480",
     "exception": false,
     "start_time": "2024-05-11T21:44:42.013380",
     "status": "completed"
    },
    "tags": []
   },
   "outputs": [
    {
     "name": "stdout",
     "output_type": "stream",
     "text": [
      "0.03629533421163837\n",
      "0.6615639847417742\n"
     ]
    },
    {
     "data": {
      "application/javascript": [
       "parent.postMessage({\"jupyterEvent\": \"custom.exercise_interaction\", \"data\": {\"outcomeType\": 1, \"valueTowardsCompletion\": 0.2, \"interactionType\": 1, \"questionType\": 2, \"questionId\": \"5_WebsiteAnalytics\", \"learnToolsVersion\": \"0.3.4\", \"failureMessage\": \"\", \"exceptionClass\": \"\", \"trace\": \"\"}}, \"*\")"
      ],
      "text/plain": [
       "<IPython.core.display.Javascript object>"
      ]
     },
     "metadata": {},
     "output_type": "display_data"
    },
    {
     "data": {
      "text/markdown": [
       "<span style=\"color:#33cc33\">Correct</span>"
      ],
      "text/plain": [
       "Correct"
      ]
     },
     "metadata": {},
     "output_type": "display_data"
    }
   ],
   "source": [
    "# TODO: Edit the function\n",
    "def percentage_growth(num_users, yrs_ago):\n",
    "    growth = (num_users[len(num_users)-1] - num_users[len(num_users)-yrs_ago-1]) / num_users[len(num_users)-yrs_ago-1]\n",
    "    return growth\n",
    "\n",
    "# Do not change: Variable for calculating some test examples\n",
    "num_users_test = [920344, 1043553, 1204334, 1458996, 1503323, 1593432, 1623463, 1843064, 1930992, 2001078]\n",
    "\n",
    "# Do not change: Should return .036\n",
    "print(percentage_growth(num_users_test, 1))\n",
    "\n",
    "# Do not change: Should return 0.66\n",
    "print(percentage_growth(num_users_test, 7))\n",
    "\n",
    "# Do not change: Check your answer\n",
    "q5.check()"
   ]
  },
  {
   "cell_type": "code",
   "execution_count": 15,
   "id": "0f18f330",
   "metadata": {
    "execution": {
     "iopub.execute_input": "2024-05-11T21:44:42.064100Z",
     "iopub.status.busy": "2024-05-11T21:44:42.063652Z",
     "iopub.status.idle": "2024-05-11T21:44:42.072512Z",
     "shell.execute_reply": "2024-05-11T21:44:42.071192Z"
    },
    "papermill": {
     "duration": 0.024096,
     "end_time": "2024-05-11T21:44:42.075156",
     "exception": false,
     "start_time": "2024-05-11T21:44:42.051060",
     "status": "completed"
    },
    "tags": []
   },
   "outputs": [
    {
     "data": {
      "application/javascript": [
       "parent.postMessage({\"jupyterEvent\": \"custom.exercise_interaction\", \"data\": {\"interactionType\": 2, \"questionType\": 2, \"questionId\": \"5_WebsiteAnalytics\", \"learnToolsVersion\": \"0.3.4\", \"valueTowardsCompletion\": 0.0, \"failureMessage\": \"\", \"exceptionClass\": \"\", \"trace\": \"\", \"outcomeType\": 4}}, \"*\")"
      ],
      "text/plain": [
       "<IPython.core.display.Javascript object>"
      ]
     },
     "metadata": {},
     "output_type": "display_data"
    },
    {
     "data": {
      "text/markdown": [
       "<span style=\"color:#3366cc\">Hint:</span> It's already correct that you need to subtract two numbers from the list, before dividing by an item in the list. You only need to modify the positions for the items that are pulled from the list. \n",
       "\n",
       "In order to pull the final entry in the `num_users` list, you would need to use `num_users[len(num_users)-1]`.  This corresponds to the number of users in the most recently completed year.  \n",
       "\n",
       "Then, to get the number of users from one year prior, you should use `num_users[len(num_users)-2]`.  \n",
       "\n",
       "To get the number of users from `yrs_ago` years ago, use `num_users[len(num_users)-yrs_ago-1]`."
      ],
      "text/plain": [
       "Hint: It's already correct that you need to subtract two numbers from the list, before dividing by an item in the list. You only need to modify the positions for the items that are pulled from the list. \n",
       "\n",
       "In order to pull the final entry in the `num_users` list, you would need to use `num_users[len(num_users)-1]`.  This corresponds to the number of users in the most recently completed year.  \n",
       "\n",
       "Then, to get the number of users from one year prior, you should use `num_users[len(num_users)-2]`.  \n",
       "\n",
       "To get the number of users from `yrs_ago` years ago, use `num_users[len(num_users)-yrs_ago-1]`."
      ]
     },
     "metadata": {},
     "output_type": "display_data"
    }
   ],
   "source": [
    "# Uncomment to see a hint\n",
    "q5.hint()\n",
    "\n",
    "# Uncomment to see the solution\n",
    "#q5.solution()"
   ]
  },
  {
   "cell_type": "markdown",
   "id": "3b26271d",
   "metadata": {
    "papermill": {
     "duration": 0.010844,
     "end_time": "2024-05-11T21:44:42.096944",
     "exception": false,
     "start_time": "2024-05-11T21:44:42.086100",
     "status": "completed"
    },
    "tags": []
   },
   "source": [
    "# Congratulations!\n",
    "\n",
    "Congratulations for finishing the Intro to Programming course!  You should be proud of your very first steps with learning programming.  As next steps, we recommend taking:\n",
    "- the **[Python course](http://www.kaggle.com/learn/python)**, and \n",
    "- the **[Intro to Machine Learning course](https://www.kaggle.com/learn/intro-to-machine-learning)**."
   ]
  },
  {
   "cell_type": "markdown",
   "id": "835f9bcc",
   "metadata": {
    "papermill": {
     "duration": 0.010478,
     "end_time": "2024-05-11T21:44:42.118440",
     "exception": false,
     "start_time": "2024-05-11T21:44:42.107962",
     "status": "completed"
    },
    "tags": []
   },
   "source": [
    "---\n",
    "\n",
    "\n",
    "\n",
    "\n",
    "*Have questions or comments? Visit the [course discussion forum](https://www.kaggle.com/learn/intro-to-programming/discussion) to chat with other learners.*"
   ]
  }
 ],
 "metadata": {
  "kaggle": {
   "accelerator": "none",
   "dataSources": [],
   "isGpuEnabled": false,
   "isInternetEnabled": false,
   "language": "python",
   "sourceType": "notebook"
  },
  "kernelspec": {
   "display_name": "Python 3",
   "language": "python",
   "name": "python3"
  },
  "language_info": {
   "codemirror_mode": {
    "name": "ipython",
    "version": 3
   },
   "file_extension": ".py",
   "mimetype": "text/x-python",
   "name": "python",
   "nbconvert_exporter": "python",
   "pygments_lexer": "ipython3",
   "version": "3.10.13"
  },
  "papermill": {
   "default_parameters": {},
   "duration": 5.133431,
   "end_time": "2024-05-11T21:44:42.549565",
   "environment_variables": {},
   "exception": null,
   "input_path": "__notebook__.ipynb",
   "output_path": "__notebook__.ipynb",
   "parameters": {},
   "start_time": "2024-05-11T21:44:37.416134",
   "version": "2.5.0"
  }
 },
 "nbformat": 4,
 "nbformat_minor": 5
}
