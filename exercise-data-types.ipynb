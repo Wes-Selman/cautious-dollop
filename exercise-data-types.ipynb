{
 "cells": [
  {
   "cell_type": "markdown",
   "id": "7558af44",
   "metadata": {
    "papermill": {
     "duration": 0.009526,
     "end_time": "2024-05-07T14:18:13.725799",
     "exception": false,
     "start_time": "2024-05-07T14:18:13.716273",
     "status": "completed"
    },
    "tags": []
   },
   "source": [
    "**This notebook is an exercise in the [Intro to Programming](https://www.kaggle.com/learn/intro-to-programming) course.  You can reference the tutorial at [this link](https://www.kaggle.com/alexisbcook/data-types).**\n",
    "\n",
    "---\n"
   ]
  },
  {
   "cell_type": "markdown",
   "id": "3bedcf68",
   "metadata": {
    "papermill": {
     "duration": 0.00842,
     "end_time": "2024-05-07T14:18:13.743150",
     "exception": false,
     "start_time": "2024-05-07T14:18:13.734730",
     "status": "completed"
    },
    "tags": []
   },
   "source": [
    "In the tutorial, you learned about four different data types: floats, integers, strings, and booleans.  In this exercise, you'll experiment with them.\n",
    "\n",
    "# Set up the notebook\n",
    "\n",
    "Run the next code cell without changes to set up the notebook."
   ]
  },
  {
   "cell_type": "code",
   "execution_count": 1,
   "id": "db9cb937",
   "metadata": {
    "execution": {
     "iopub.execute_input": "2024-05-07T14:18:13.762877Z",
     "iopub.status.busy": "2024-05-07T14:18:13.762389Z",
     "iopub.status.idle": "2024-05-07T14:18:14.907355Z",
     "shell.execute_reply": "2024-05-07T14:18:14.905458Z"
    },
    "papermill": {
     "duration": 1.158626,
     "end_time": "2024-05-07T14:18:14.910498",
     "exception": false,
     "start_time": "2024-05-07T14:18:13.751872",
     "status": "completed"
    },
    "tags": []
   },
   "outputs": [
    {
     "name": "stdout",
     "output_type": "stream",
     "text": [
      "Setup complete.\n"
     ]
    }
   ],
   "source": [
    "# Set up the exercise\n",
    "from learntools.core import binder\n",
    "binder.bind(globals())\n",
    "from learntools.intro_to_programming.ex3 import *\n",
    "print('Setup complete.')"
   ]
  },
  {
   "cell_type": "markdown",
   "id": "0e98e08e",
   "metadata": {
    "papermill": {
     "duration": 0.008651,
     "end_time": "2024-05-07T14:18:14.928517",
     "exception": false,
     "start_time": "2024-05-07T14:18:14.919866",
     "status": "completed"
    },
    "tags": []
   },
   "source": [
    "# Question 1\n",
    "\n",
    "You have seen how to convert a float to an integer with the `int` function.  Try this out yourself by running the code cell below."
   ]
  },
  {
   "cell_type": "code",
   "execution_count": 2,
   "id": "b5a19f4c",
   "metadata": {
    "execution": {
     "iopub.execute_input": "2024-05-07T14:18:14.952473Z",
     "iopub.status.busy": "2024-05-07T14:18:14.951868Z",
     "iopub.status.idle": "2024-05-07T14:18:14.959704Z",
     "shell.execute_reply": "2024-05-07T14:18:14.958392Z"
    },
    "papermill": {
     "duration": 0.023574,
     "end_time": "2024-05-07T14:18:14.961967",
     "exception": false,
     "start_time": "2024-05-07T14:18:14.938393",
     "status": "completed"
    },
    "tags": []
   },
   "outputs": [
    {
     "name": "stdout",
     "output_type": "stream",
     "text": [
      "1.0\n",
      "<class 'float'>\n",
      "1\n",
      "<class 'int'>\n"
     ]
    }
   ],
   "source": [
    "# Define a float\n",
    "y = 1.\n",
    "print(y)\n",
    "print(type(y))\n",
    "\n",
    "# Convert float to integer with the int function\n",
    "z = int(y)\n",
    "print(z)\n",
    "print(type(z))"
   ]
  },
  {
   "cell_type": "markdown",
   "id": "f82281a8",
   "metadata": {
    "papermill": {
     "duration": 0.008612,
     "end_time": "2024-05-07T14:18:14.979535",
     "exception": false,
     "start_time": "2024-05-07T14:18:14.970923",
     "status": "completed"
    },
    "tags": []
   },
   "source": [
    "In this case, the float you are using has no numbers after the decimal.  \n",
    "- But what happens when you try to convert a float with a fractional part to an integer?  \n",
    "- How does the outcome of the `int` function change for positive and negative numbers?\n",
    "\n",
    "Use the next code cell to investigate and answer these questions.  Feel free to add or remove any lines of code -- it is your workspace!"
   ]
  },
  {
   "cell_type": "code",
   "execution_count": 3,
   "id": "46ee3432",
   "metadata": {
    "execution": {
     "iopub.execute_input": "2024-05-07T14:18:15.000528Z",
     "iopub.status.busy": "2024-05-07T14:18:14.999529Z",
     "iopub.status.idle": "2024-05-07T14:18:15.006895Z",
     "shell.execute_reply": "2024-05-07T14:18:15.005696Z"
    },
    "papermill": {
     "duration": 0.021254,
     "end_time": "2024-05-07T14:18:15.009969",
     "exception": false,
     "start_time": "2024-05-07T14:18:14.988715",
     "status": "completed"
    },
    "tags": []
   },
   "outputs": [
    {
     "name": "stdout",
     "output_type": "stream",
     "text": [
      "-2\n"
     ]
    }
   ],
   "source": [
    "# Uncomment and run this code to get started!\n",
    "#print(int(1.2321))\n",
    "#print(int(1.747))\n",
    "#print(int(-3.94535))\n",
    "print(int(-2.19774))"
   ]
  },
  {
   "cell_type": "markdown",
   "id": "7266f1c7",
   "metadata": {
    "papermill": {
     "duration": 0.00924,
     "end_time": "2024-05-07T14:18:15.028529",
     "exception": false,
     "start_time": "2024-05-07T14:18:15.019289",
     "status": "completed"
    },
    "tags": []
   },
   "source": [
    "Once you have an answer, run the code cell below to see the solution.  Viewing the solution will give you credit for answering the problem."
   ]
  },
  {
   "cell_type": "code",
   "execution_count": 4,
   "id": "8ccfb716",
   "metadata": {
    "execution": {
     "iopub.execute_input": "2024-05-07T14:18:15.049132Z",
     "iopub.status.busy": "2024-05-07T14:18:15.048701Z",
     "iopub.status.idle": "2024-05-07T14:18:15.061569Z",
     "shell.execute_reply": "2024-05-07T14:18:15.060025Z"
    },
    "papermill": {
     "duration": 0.026597,
     "end_time": "2024-05-07T14:18:15.064550",
     "exception": false,
     "start_time": "2024-05-07T14:18:15.037953",
     "status": "completed"
    },
    "tags": []
   },
   "outputs": [
    {
     "data": {
      "application/javascript": [
       "parent.postMessage({\"jupyterEvent\": \"custom.exercise_interaction\", \"data\": {\"outcomeType\": 1, \"valueTowardsCompletion\": 0.2, \"interactionType\": 1, \"questionType\": 4, \"questionId\": \"1_FloatToInt\", \"learnToolsVersion\": \"0.3.4\", \"failureMessage\": \"\", \"exceptionClass\": \"\", \"trace\": \"\"}}, \"*\")"
      ],
      "text/plain": [
       "<IPython.core.display.Javascript object>"
      ]
     },
     "metadata": {},
     "output_type": "display_data"
    },
    {
     "data": {
      "text/markdown": [
       "<span style=\"color:#33cc33\">Correct:</span> \n",
       "\n",
       "Negative floats are always rounded UP to the closest integer (for instance, both -1.1 and -1.9 are rounded up to -1). Positive floats are always rounded DOWN to the closest integer (for instance, 2.1 and 2.9 are rounded down to 2)."
      ],
      "text/plain": [
       "Correct: \n",
       "\n",
       "Negative floats are always rounded UP to the closest integer (for instance, both -1.1 and -1.9 are rounded up to -1). Positive floats are always rounded DOWN to the closest integer (for instance, 2.1 and 2.9 are rounded down to 2)."
      ]
     },
     "metadata": {},
     "output_type": "display_data"
    }
   ],
   "source": [
    "# Check your answer (Run this code cell to receive credit!)\n",
    "q1.check()"
   ]
  },
  {
   "cell_type": "markdown",
   "id": "d6ddda35",
   "metadata": {
    "papermill": {
     "duration": 0.012604,
     "end_time": "2024-05-07T14:18:15.088734",
     "exception": false,
     "start_time": "2024-05-07T14:18:15.076130",
     "status": "completed"
    },
    "tags": []
   },
   "source": [
    "# Question 2\n",
    "\n",
    "In the tutorial, you learned about booleans (which can take a value of `True` or `False`), in addition to integers, floats, and strings.  For this question, your goal is to determine what happens when you multiply a boolean by any of these data types.  Specifically, \n",
    "- What happens when you multiply an integer or float by `True`?  What happens when you multiply them by `False`?  How does the answer change if the numbers are positive or negative?\n",
    "- What happens when you multiply a string by `True`?  By `False`?\n",
    "\n",
    "Use the next code cell for your investigation. "
   ]
  },
  {
   "cell_type": "code",
   "execution_count": 5,
   "id": "d127f586",
   "metadata": {
    "execution": {
     "iopub.execute_input": "2024-05-07T14:18:15.112852Z",
     "iopub.status.busy": "2024-05-07T14:18:15.112067Z",
     "iopub.status.idle": "2024-05-07T14:18:15.120746Z",
     "shell.execute_reply": "2024-05-07T14:18:15.119106Z"
    },
    "papermill": {
     "duration": 0.02396,
     "end_time": "2024-05-07T14:18:15.124176",
     "exception": false,
     "start_time": "2024-05-07T14:18:15.100216",
     "status": "completed"
    },
    "tags": []
   },
   "outputs": [
    {
     "name": "stdout",
     "output_type": "stream",
     "text": [
      "3\n",
      "-3.1\n",
      "<class 'str'>\n",
      "0\n"
     ]
    }
   ],
   "source": [
    "# Uncomment and run this code to get started!\n",
    "print(3 * True)\n",
    "print(-3.1 * True)\n",
    "print(type(\"abc\" * False))\n",
    "print(len(\"abc\" * False))"
   ]
  },
  {
   "cell_type": "markdown",
   "id": "cbeba835",
   "metadata": {
    "papermill": {
     "duration": 0.013321,
     "end_time": "2024-05-07T14:18:15.151964",
     "exception": false,
     "start_time": "2024-05-07T14:18:15.138643",
     "status": "completed"
    },
    "tags": []
   },
   "source": [
    "Once you have an answer, run the code cell below to see the solution.  Viewing the solution will give you credit for answering the problem."
   ]
  },
  {
   "cell_type": "code",
   "execution_count": 6,
   "id": "62a1baf5",
   "metadata": {
    "execution": {
     "iopub.execute_input": "2024-05-07T14:18:15.181963Z",
     "iopub.status.busy": "2024-05-07T14:18:15.181129Z",
     "iopub.status.idle": "2024-05-07T14:18:15.191025Z",
     "shell.execute_reply": "2024-05-07T14:18:15.189843Z"
    },
    "papermill": {
     "duration": 0.028206,
     "end_time": "2024-05-07T14:18:15.194119",
     "exception": false,
     "start_time": "2024-05-07T14:18:15.165913",
     "status": "completed"
    },
    "tags": []
   },
   "outputs": [
    {
     "data": {
      "application/javascript": [
       "parent.postMessage({\"jupyterEvent\": \"custom.exercise_interaction\", \"data\": {\"outcomeType\": 1, \"valueTowardsCompletion\": 0.2, \"interactionType\": 1, \"questionType\": 4, \"questionId\": \"2_MultiplyBooleans\", \"learnToolsVersion\": \"0.3.4\", \"failureMessage\": \"\", \"exceptionClass\": \"\", \"trace\": \"\"}}, \"*\")"
      ],
      "text/plain": [
       "<IPython.core.display.Javascript object>"
      ]
     },
     "metadata": {},
     "output_type": "display_data"
    },
    {
     "data": {
      "text/markdown": [
       "<span style=\"color:#33cc33\">Correct:</span> \n",
       "\n",
       "When you multiple an integer or float by a boolean with value `True`, it just returns that same integer or float (and is equivalent to multiplying by 1).  If you multiply an integer or float by a boolean with value `False`, it always returns 0.  This is true for both positive and negative numbers.  If you multiply a string by a boolean with value `True`, it just returns that same string.  And if you multiply a string by a boolean with value `False`, it returns an empty string (or a string with length zero)."
      ],
      "text/plain": [
       "Correct: \n",
       "\n",
       "When you multiple an integer or float by a boolean with value `True`, it just returns that same integer or float (and is equivalent to multiplying by 1).  If you multiply an integer or float by a boolean with value `False`, it always returns 0.  This is true for both positive and negative numbers.  If you multiply a string by a boolean with value `True`, it just returns that same string.  And if you multiply a string by a boolean with value `False`, it returns an empty string (or a string with length zero)."
      ]
     },
     "metadata": {},
     "output_type": "display_data"
    }
   ],
   "source": [
    "# Check your answer (Run this code cell to receive credit!)\n",
    "q2.check()"
   ]
  },
  {
   "cell_type": "markdown",
   "id": "608751d8",
   "metadata": {
    "papermill": {
     "duration": 0.013757,
     "end_time": "2024-05-07T14:18:15.222177",
     "exception": false,
     "start_time": "2024-05-07T14:18:15.208420",
     "status": "completed"
    },
    "tags": []
   },
   "source": [
    "# Question 3\n",
    "\n",
    "In this question, you will build off your work from the previous exercise to write a function that estimates the value of a house.\n",
    "\n",
    "Use the next code cell to create a function `get_expected_cost` that takes as input three variables:\n",
    "- `beds` - number of bedrooms (data type float)\n",
    "- `baths` - number of bathrooms (data type float)\n",
    "- `has_basement` - whether or not the house has a basement (data type boolean)\n",
    "\n",
    "It should return the expected cost of a house with those characteristics. Assume that:\n",
    "- the expected cost for a house with 0 bedrooms and 0 bathrooms, and no basement is 80000, \n",
    "- each bedroom adds 30000 to the expected cost,\n",
    "- each bathroom adds 10000 to the expected cost, and\n",
    "- a basement adds 40000 to the expected cost.\n",
    "\n",
    "For instance,\n",
    "- a house with 1 bedroom, 1 bathroom, and no basement has an expected cost of 80000 + 30000 + 10000 = 120000.  This value will be calculated with `get_expected_cost(1, 1, False)`.\n",
    "- a house with 2 bedrooms, 1 bathroom, and a basement has an expected cost of 80000 + 2*30000 + 10000 + 40000 = 190000.  This value will be calculated with `get_expected_cost(2, 1, True)`.\n",
    "\n",
    "Remember you can always get a hint by uncommenting `q3.hint()` in the code cell following the next!"
   ]
  },
  {
   "cell_type": "code",
   "execution_count": 7,
   "id": "7f40b979",
   "metadata": {
    "execution": {
     "iopub.execute_input": "2024-05-07T14:18:15.253644Z",
     "iopub.status.busy": "2024-05-07T14:18:15.252673Z",
     "iopub.status.idle": "2024-05-07T14:18:15.264322Z",
     "shell.execute_reply": "2024-05-07T14:18:15.263145Z"
    },
    "papermill": {
     "duration": 0.030655,
     "end_time": "2024-05-07T14:18:15.267653",
     "exception": false,
     "start_time": "2024-05-07T14:18:15.236998",
     "status": "completed"
    },
    "tags": []
   },
   "outputs": [
    {
     "data": {
      "application/javascript": [
       "parent.postMessage({\"jupyterEvent\": \"custom.exercise_interaction\", \"data\": {\"outcomeType\": 1, \"valueTowardsCompletion\": 0.2, \"interactionType\": 1, \"questionType\": 2, \"questionId\": \"3_EstimateHouseValueBool\", \"learnToolsVersion\": \"0.3.4\", \"failureMessage\": \"\", \"exceptionClass\": \"\", \"trace\": \"\"}}, \"*\")"
      ],
      "text/plain": [
       "<IPython.core.display.Javascript object>"
      ]
     },
     "metadata": {},
     "output_type": "display_data"
    },
    {
     "data": {
      "text/markdown": [
       "<span style=\"color:#33cc33\">Correct</span>"
      ],
      "text/plain": [
       "Correct"
      ]
     },
     "metadata": {},
     "output_type": "display_data"
    }
   ],
   "source": [
    "# TODO: Complete the function\n",
    "def get_expected_cost(beds, baths, has_basement):\n",
    "    value = 80000 + (30000 * beds) + (10000 * baths) + (40000 * has_basement)\n",
    "    return value\n",
    "\n",
    "# Check your answer \n",
    "q3.check()"
   ]
  },
  {
   "cell_type": "code",
   "execution_count": 8,
   "id": "a6fd8c84",
   "metadata": {
    "execution": {
     "iopub.execute_input": "2024-05-07T14:18:15.293948Z",
     "iopub.status.busy": "2024-05-07T14:18:15.292986Z",
     "iopub.status.idle": "2024-05-07T14:18:15.298276Z",
     "shell.execute_reply": "2024-05-07T14:18:15.297420Z"
    },
    "papermill": {
     "duration": 0.020282,
     "end_time": "2024-05-07T14:18:15.300864",
     "exception": false,
     "start_time": "2024-05-07T14:18:15.280582",
     "status": "completed"
    },
    "tags": []
   },
   "outputs": [],
   "source": [
    "# Uncomment to see a hint\n",
    "#q3.hint()\n",
    "\n",
    "# Uncomment to view the solution\n",
    "#q3.solution()"
   ]
  },
  {
   "cell_type": "markdown",
   "id": "0d07d606",
   "metadata": {
    "papermill": {
     "duration": 0.010761,
     "end_time": "2024-05-07T14:18:15.322831",
     "exception": false,
     "start_time": "2024-05-07T14:18:15.312070",
     "status": "completed"
    },
    "tags": []
   },
   "source": [
    "# Question 4\n",
    "\n",
    "We'll continue our study of boolean arithmetic.  For this question, your task is to provide a description of what happpens when you add booleans. \n",
    "\n",
    "Use the next code cell for your investigation.  Feel free to add or remove any lines of code - use it as your workspace!"
   ]
  },
  {
   "cell_type": "code",
   "execution_count": 9,
   "id": "c7e208f8",
   "metadata": {
    "execution": {
     "iopub.execute_input": "2024-05-07T14:18:15.349916Z",
     "iopub.status.busy": "2024-05-07T14:18:15.349404Z",
     "iopub.status.idle": "2024-05-07T14:18:15.356542Z",
     "shell.execute_reply": "2024-05-07T14:18:15.355499Z"
    },
    "papermill": {
     "duration": 0.029645,
     "end_time": "2024-05-07T14:18:15.363443",
     "exception": false,
     "start_time": "2024-05-07T14:18:15.333798",
     "status": "completed"
    },
    "tags": []
   },
   "outputs": [
    {
     "name": "stdout",
     "output_type": "stream",
     "text": [
      "0\n",
      "1\n",
      "1\n",
      "2\n",
      "3\n"
     ]
    }
   ],
   "source": [
    "print(False + False)\n",
    "print(True + False)\n",
    "print(False + True)\n",
    "print(True + True)\n",
    "print(False + True + True + True)"
   ]
  },
  {
   "cell_type": "markdown",
   "id": "d1ee0e1c",
   "metadata": {
    "papermill": {
     "duration": 0.010389,
     "end_time": "2024-05-07T14:18:15.387439",
     "exception": false,
     "start_time": "2024-05-07T14:18:15.377050",
     "status": "completed"
    },
    "tags": []
   },
   "source": [
    "Once you have an answer, run the code cell below to see the solution.  Viewing the solution will give you credit for answering the problem."
   ]
  },
  {
   "cell_type": "code",
   "execution_count": 10,
   "id": "b8f1c200",
   "metadata": {
    "execution": {
     "iopub.execute_input": "2024-05-07T14:18:15.414500Z",
     "iopub.status.busy": "2024-05-07T14:18:15.412846Z",
     "iopub.status.idle": "2024-05-07T14:18:15.425745Z",
     "shell.execute_reply": "2024-05-07T14:18:15.424415Z"
    },
    "papermill": {
     "duration": 0.030007,
     "end_time": "2024-05-07T14:18:15.428298",
     "exception": false,
     "start_time": "2024-05-07T14:18:15.398291",
     "status": "completed"
    },
    "tags": []
   },
   "outputs": [
    {
     "data": {
      "application/javascript": [
       "parent.postMessage({\"jupyterEvent\": \"custom.exercise_interaction\", \"data\": {\"outcomeType\": 1, \"valueTowardsCompletion\": 0.2, \"interactionType\": 1, \"questionType\": 4, \"questionId\": \"4_AddingBooleans\", \"learnToolsVersion\": \"0.3.4\", \"failureMessage\": \"\", \"exceptionClass\": \"\", \"trace\": \"\"}}, \"*\")"
      ],
      "text/plain": [
       "<IPython.core.display.Javascript object>"
      ]
     },
     "metadata": {},
     "output_type": "display_data"
    },
    {
     "data": {
      "text/markdown": [
       "<span style=\"color:#33cc33\">Correct:</span> \n",
       "\n",
       "When you add booleans, adding `False` is equivalent to adding 0, and adding `True` is equivalent to adding 1."
      ],
      "text/plain": [
       "Correct: \n",
       "\n",
       "When you add booleans, adding `False` is equivalent to adding 0, and adding `True` is equivalent to adding 1."
      ]
     },
     "metadata": {},
     "output_type": "display_data"
    }
   ],
   "source": [
    "# Check your answer (Run this code cell to receive credit!)\n",
    "q4.check()"
   ]
  },
  {
   "cell_type": "markdown",
   "id": "a8c398ee",
   "metadata": {
    "papermill": {
     "duration": 0.013335,
     "end_time": "2024-05-07T14:18:15.458177",
     "exception": false,
     "start_time": "2024-05-07T14:18:15.444842",
     "status": "completed"
    },
    "tags": []
   },
   "source": [
    "# 🌶️ Question 5\n",
    "\n",
    "You own an online shop where you sell rings with custom engravings.  You offer both gold plated and solid gold rings.\n",
    "- Gold plated rings have a base cost of \\\\$50, and you charge \\\\$7 per engraved unit.  \n",
    "- Solid gold rings have a base cost of \\\\$100, and you charge \\\\$10 per engraved unit.\n",
    "- Spaces and punctuation are counted as engraved units.\n",
    "\n",
    "Write a function `cost_of_project()` that takes two arguments:\n",
    "- `engraving` - a Python string with the text of the engraving\n",
    "- `solid_gold` - a Boolean that indicates whether the ring is solid gold\n",
    "\n",
    "It should return the cost of the project.  This question should be fairly challenging, and you may need a hint."
   ]
  },
  {
   "cell_type": "code",
   "execution_count": 11,
   "id": "d87710e1",
   "metadata": {
    "execution": {
     "iopub.execute_input": "2024-05-07T14:18:15.481750Z",
     "iopub.status.busy": "2024-05-07T14:18:15.481343Z",
     "iopub.status.idle": "2024-05-07T14:18:15.492434Z",
     "shell.execute_reply": "2024-05-07T14:18:15.491286Z"
    },
    "papermill": {
     "duration": 0.025774,
     "end_time": "2024-05-07T14:18:15.494726",
     "exception": false,
     "start_time": "2024-05-07T14:18:15.468952",
     "status": "completed"
    },
    "tags": []
   },
   "outputs": [
    {
     "data": {
      "application/javascript": [
       "parent.postMessage({\"jupyterEvent\": \"custom.exercise_interaction\", \"data\": {\"outcomeType\": 1, \"valueTowardsCompletion\": 0.2, \"interactionType\": 1, \"questionType\": 2, \"questionId\": \"5_CustomEngravings\", \"learnToolsVersion\": \"0.3.4\", \"failureMessage\": \"\", \"exceptionClass\": \"\", \"trace\": \"\"}}, \"*\")"
      ],
      "text/plain": [
       "<IPython.core.display.Javascript object>"
      ]
     },
     "metadata": {},
     "output_type": "display_data"
    },
    {
     "data": {
      "text/markdown": [
       "<span style=\"color:#33cc33\">Correct</span>"
      ],
      "text/plain": [
       "Correct"
      ]
     },
     "metadata": {},
     "output_type": "display_data"
    }
   ],
   "source": [
    "def cost_of_project(engraving, solid_gold):\n",
    "    letters = len(engraving) * ((solid_gold * 3) + 7)\n",
    "    solid = (solid_gold * 50) + 50\n",
    "    cost = letters + solid\n",
    "    return cost\n",
    "\n",
    "# Check your answer\n",
    "q5.check()"
   ]
  },
  {
   "cell_type": "code",
   "execution_count": 12,
   "id": "f5a47e92",
   "metadata": {
    "execution": {
     "iopub.execute_input": "2024-05-07T14:18:15.519383Z",
     "iopub.status.busy": "2024-05-07T14:18:15.518490Z",
     "iopub.status.idle": "2024-05-07T14:18:15.523387Z",
     "shell.execute_reply": "2024-05-07T14:18:15.522325Z"
    },
    "papermill": {
     "duration": 0.020203,
     "end_time": "2024-05-07T14:18:15.525925",
     "exception": false,
     "start_time": "2024-05-07T14:18:15.505722",
     "status": "completed"
    },
    "tags": []
   },
   "outputs": [],
   "source": [
    "# Uncomment to see a hint\n",
    "#q5.hint()\n",
    "\n",
    "# Uncomment to view the solution\n",
    "#q5.solution()"
   ]
  },
  {
   "cell_type": "markdown",
   "id": "bce83879",
   "metadata": {
    "papermill": {
     "duration": 0.010634,
     "end_time": "2024-05-07T14:18:15.547439",
     "exception": false,
     "start_time": "2024-05-07T14:18:15.536805",
     "status": "completed"
    },
    "tags": []
   },
   "source": [
    "Run the next code cell to calculate the cost of engraving `Charlie+Denver` on a solid gold ring."
   ]
  },
  {
   "cell_type": "code",
   "execution_count": 13,
   "id": "16d061c8",
   "metadata": {
    "execution": {
     "iopub.execute_input": "2024-05-07T14:18:15.572751Z",
     "iopub.status.busy": "2024-05-07T14:18:15.571898Z",
     "iopub.status.idle": "2024-05-07T14:18:15.578214Z",
     "shell.execute_reply": "2024-05-07T14:18:15.577102Z"
    },
    "papermill": {
     "duration": 0.021892,
     "end_time": "2024-05-07T14:18:15.580631",
     "exception": false,
     "start_time": "2024-05-07T14:18:15.558739",
     "status": "completed"
    },
    "tags": []
   },
   "outputs": [
    {
     "name": "stdout",
     "output_type": "stream",
     "text": [
      "240\n"
     ]
    }
   ],
   "source": [
    "project_one = cost_of_project(\"Charlie+Denver\", True)\n",
    "print(project_one)"
   ]
  },
  {
   "cell_type": "markdown",
   "id": "c58fb1dc",
   "metadata": {
    "papermill": {
     "duration": 0.011204,
     "end_time": "2024-05-07T14:18:15.603211",
     "exception": false,
     "start_time": "2024-05-07T14:18:15.592007",
     "status": "completed"
    },
    "tags": []
   },
   "source": [
    "Use the next code cell to calculate the cost of engraving `08/10/2000` on a gold plated ring."
   ]
  },
  {
   "cell_type": "code",
   "execution_count": 14,
   "id": "b8a8f382",
   "metadata": {
    "execution": {
     "iopub.execute_input": "2024-05-07T14:18:15.628736Z",
     "iopub.status.busy": "2024-05-07T14:18:15.627954Z",
     "iopub.status.idle": "2024-05-07T14:18:15.634649Z",
     "shell.execute_reply": "2024-05-07T14:18:15.633435Z"
    },
    "papermill": {
     "duration": 0.02216,
     "end_time": "2024-05-07T14:18:15.637017",
     "exception": false,
     "start_time": "2024-05-07T14:18:15.614857",
     "status": "completed"
    },
    "tags": []
   },
   "outputs": [
    {
     "name": "stdout",
     "output_type": "stream",
     "text": [
      "120\n"
     ]
    }
   ],
   "source": [
    "project_two = cost_of_project(\"08/10/2000\", False)\n",
    "print(project_two)"
   ]
  },
  {
   "cell_type": "markdown",
   "id": "82963e7c",
   "metadata": {
    "papermill": {
     "duration": 0.010769,
     "end_time": "2024-05-07T14:18:15.659816",
     "exception": false,
     "start_time": "2024-05-07T14:18:15.649047",
     "status": "completed"
    },
    "tags": []
   },
   "source": [
    "# Keep going\n",
    "\n",
    "Continue to the next lesson to **[learn about conditions and conditional statements](https://www.kaggle.com/alexisbcook/conditions-and-conditional-statements)**."
   ]
  },
  {
   "cell_type": "markdown",
   "id": "f8369ad7",
   "metadata": {
    "papermill": {
     "duration": 0.011117,
     "end_time": "2024-05-07T14:18:15.684708",
     "exception": false,
     "start_time": "2024-05-07T14:18:15.673591",
     "status": "completed"
    },
    "tags": []
   },
   "source": [
    "---\n",
    "\n",
    "\n",
    "\n",
    "\n",
    "*Have questions or comments? Visit the [course discussion forum](https://www.kaggle.com/learn/intro-to-programming/discussion) to chat with other learners.*"
   ]
  }
 ],
 "metadata": {
  "kaggle": {
   "accelerator": "none",
   "dataSources": [],
   "isGpuEnabled": false,
   "isInternetEnabled": false,
   "language": "python",
   "sourceType": "notebook"
  },
  "kernelspec": {
   "display_name": "Python 3",
   "language": "python",
   "name": "python3"
  },
  "language_info": {
   "codemirror_mode": {
    "name": "ipython",
    "version": 3
   },
   "file_extension": ".py",
   "mimetype": "text/x-python",
   "name": "python",
   "nbconvert_exporter": "python",
   "pygments_lexer": "ipython3",
   "version": "3.10.13"
  },
  "papermill": {
   "default_parameters": {},
   "duration": 5.90698,
   "end_time": "2024-05-07T14:18:16.221018",
   "environment_variables": {},
   "exception": null,
   "input_path": "__notebook__.ipynb",
   "output_path": "__notebook__.ipynb",
   "parameters": {},
   "start_time": "2024-05-07T14:18:10.314038",
   "version": "2.3.3"
  }
 },
 "nbformat": 4,
 "nbformat_minor": 5
}
